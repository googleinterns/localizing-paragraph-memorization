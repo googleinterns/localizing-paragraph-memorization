{
 "cells": [
  {
   "cell_type": "markdown",
   "id": "cc7bbd02",
   "metadata": {},
   "source": [
    "\n",
    "Copyright 2024 Google LLC\n",
    "\n",
    "Licensed under the Apache License, Version 2.0 (the \"License\");\n",
    "you may not use this file except in compliance with the License.\n",
    "You may obtain a copy of the License at\n",
    "\n",
    "    http://www.apache.org/licenses/LICENSE-2.0\n",
    "\n",
    "Unless required by applicable law or agreed to in writing, software\n",
    "distributed under the License is distributed on an \"AS IS\" BASIS,\n",
    "WITHOUT WARRANTIES OR CONDITIONS OF ANY KIND, either express or implied.\n",
    "See the License for the specific language governing permissions and\n",
    "limitations under the License.\n"
   ]
  },
  {
   "cell_type": "markdown",
   "id": "6dcca71b-b72f-4699-b956-1e25929aa311",
   "metadata": {},
   "source": [
    "# Optimizer Step: Integrate Localization and Intervention"
   ]
  },
  {
   "cell_type": "code",
   "execution_count": null,
   "id": "50e0feb0-c6bc-4079-9946-32bf0e96f301",
   "metadata": {
    "tags": []
   },
   "outputs": [],
   "source": [
    "#@title Import libraries\n",
    "import transformer_lens\n",
    "import torch, gc, itertools, functools, tqdm\n",
    "import pandas as pd\n",
    "import numpy as np\n",
    "import torch.nn.functional as F\n",
    "\n",
    "import seaborn as sns\n",
    "import matplotlib as mpl\n",
    "import matplotlib.pyplot as plt\n",
    "import matplotlib.patches as mpatches\n",
    "\n",
    "mpl.rcParams['axes.spines.right'] = False\n",
    "mpl.rcParams['axes.spines.top'] = False\n",
    "\n",
    "import sys\n",
    "sys.path.append('/home/jupyter/')\n",
    "from paraMem.utils import modelHandlers, dataLoaders, gradient, evaluation, localizing, intervening"
   ]
  },
  {
   "cell_type": "markdown",
   "id": "67623921-6d0d-498e-a112-4a2ccccad640",
   "metadata": {},
   "source": [
    "## Model and Data"
   ]
  },
  {
   "cell_type": "code",
   "execution_count": null,
   "id": "7b84de32-0f84-4ac8-b393-e45add133d5b",
   "metadata": {
    "tags": []
   },
   "outputs": [],
   "source": [
    "model_type = \"gpt-neo-125M\"\n",
    "model = modelHandlers.load_model(model_type=model_type, DEVICE=\"cuda\", lr=0.0, weight_decay=0.01)"
   ]
  },
  {
   "cell_type": "markdown",
   "id": "ee438f85-dd13-4d26-b9ac-9078b111f17d",
   "metadata": {},
   "source": [
    "## Data"
   ]
  },
  {
   "cell_type": "code",
   "execution_count": null,
   "id": "0b51b9c7-afac-4957-8db9-44e200599e58",
   "metadata": {
    "tags": []
   },
   "outputs": [],
   "source": [
    "## mem and non-mem set\n",
    "mem_nonmem_sets  = dataLoaders.load_pile_splits(f\"{model_type}/preds\", file_names=[\"50_50_preds.pt\", \"0_10_preds.pt\"], as_torch=True)\n",
    "mem_set, non_mem_set = mem_nonmem_sets[0], mem_nonmem_sets[1]\n",
    "change_keep_dl, _ = dataLoaders.train_test_batching(mem_set, non_mem_set, mem_batch=1, non_mem_batch=10, test_frac=0.0, add_bos=None)\n",
    "_, k_toks_NI = next(iter(change_keep_dl))\n",
    "k_toks_NI = k_toks_NI.squeeze(0)\n",
    "\n",
    "## load perturbed mem set and original mem set\n",
    "mem_perturbed_sets  = dataLoaders.load_pile_splits(f\"{model_type}/perturbed\", file_names=[\"mem_toks.pt\", \"perturbed_mem_toks.pt\"], as_torch=True)\n",
    "mem_set, perturbed_mem_set = mem_perturbed_sets[0], mem_perturbed_sets[1]\n",
    "mem_perturb_dl, _ = dataLoaders.train_test_batching(mem_set, perturbed_mem_set, mem_batch=1, non_mem_batch=1, test_frac=0.0, add_bos=None)\n",
    "c_toks_NI, c_perturb_toks_NI = next(iter(mem_perturb_dl))\n",
    "c_toks_NI, c_perturb_toks_NI, = c_toks_NI.squeeze(0), c_perturb_toks_NI.squeeze(0)"
   ]
  },
  {
   "cell_type": "code",
   "execution_count": null,
   "id": "4295a0e6-f7a1-4f02-9f5d-be39b813f151",
   "metadata": {
    "tags": []
   },
   "outputs": [],
   "source": [
    "c_em_N_orig, k_em_N_orig = evaluation.model_eval(model, c_toks_NI, k_toks_NI, I_range=[50,100])"
   ]
  },
  {
   "cell_type": "code",
   "execution_count": null,
   "id": "87113bac-0afd-4f74-b98e-9acf7099d942",
   "metadata": {
    "scrolled": true,
    "tags": []
   },
   "outputs": [],
   "source": [
    "n_batches = 20\n",
    "all_c_em, all_k_em = [],[]\n",
    "topK_range = [None, 0.001, -0.001]\n",
    "\n",
    "for topK in topK_range:\n",
    "    topK_c_em, topK_k_em = [],[]\n",
    "    change_keep_iter, mem_perturb_iter = iter(change_keep_dl), iter(mem_perturb_dl)\n",
    "    for n in tqdm.tqdm(range(0, n_batches)):\n",
    "        _, k_toks_NI = next(change_keep_iter)\n",
    "        k_toks_NI = k_toks_NI.squeeze(0)\n",
    "\n",
    "        c_toks_NI, c_perturb_toks_NI = next(mem_perturb_iter)\n",
    "        c_toks_NI, c_perturb_toks_NI, = c_toks_NI.squeeze(0), c_perturb_toks_NI.squeeze(0)\n",
    "\n",
    "        model = modelHandlers.load_model(model, lr=1e-05, weight_decay=1.0)\n",
    "        metric_fn = functools.partial(gradient.contrast_metric, I_range=[49,99], use_perturb=True, c_set_norm=0.1)\n",
    "        fwd_bwd_fn = functools.partial(gradient.run_contrastive_fwd_bwd, optim_steps=5, topK=topK, grad_norm=None, c_types=[\"W_K\",\"W_Q\",\"W_V\",\"W_O\",\"W_in\",\"W_out\"]) \n",
    "        fwd_cache, bwd_cache, topk_idcs = fwd_bwd_fn(model, metric_fn, c_toks_NI, c_perturb_toks_NI, k_toks_NI)\n",
    "\n",
    "        c_em, k_em = evaluation.model_eval(model, c_toks_NI, k_toks_NI, I_range=[49,99])\n",
    "        topK_c_em.append(c_em)\n",
    "        topK_k_em.append(k_em)\n",
    "    \n",
    "    all_c_em.append(torch.stack(topK_c_em).flatten())\n",
    "    all_k_em.append(torch.stack(topK_k_em).flatten())\n",
    "    \n",
    "all_c_em = torch.stack(all_c_em)\n",
    "all_k_em = torch.stack(all_k_em)"
   ]
  },
  {
   "cell_type": "code",
   "execution_count": null,
   "id": "abc383df-8635-4527-b843-5d519418cba9",
   "metadata": {},
   "outputs": [],
   "source": [
    "fig, axs = plt.subplots(1, len(all_c_em), figsize=(14, 1.5), gridspec_kw={'hspace': 0.0})\n",
    "fontsize = 12\n",
    "\n",
    "topK_range = [\"all of the weights\", \"weights within max 0.1% gradient\", \"random 0.1% of the weights\"]\n",
    "for i, ax in enumerate(axs):\n",
    "    \n",
    "    #c_counts, c_bins = np.histogram(all_c_em[i], bins=50)\n",
    "    #_ = ax.hist(c_bins[:-1], c_bins, weights=(c_counts / c_counts.sum()), color=\"red\", density=True)\n",
    "\n",
    "    #k_counts, k_bins = np.histogram(all_k_em[i], bins=50)\n",
    "    #_ = ax.hist(k_bins[:-1], k_bins, weights=(k_counts / k_counts.sum()), color=\"blue\", density=True)\n",
    "    #ax2 = ax.twinx()\n",
    "    \n",
    "    sns.violinplot(data = [all_c_em[i].numpy(), all_k_em[i].numpy()],palette=['r','b'], jitter=True, ax=ax) #inner=\"points\"\n",
    "\n",
    "    #sns.kdeplot(all_c_em[i], color=\"red\", ax=ax2, label=\"memorized\")\n",
    "    #sns.kdeplot(all_k_em[i], color=\"blue\", ax=ax2, label=\"non-memorized\")\n",
    "    \n",
    "    #ax2.get_yaxis().set_ticks([])\n",
    "    #ax2.set_yticklabels([])\n",
    "    \n",
    "    if i==0:\n",
    "        ax.set_ylabel('exact match', fontsize=fontsize)\n",
    "    #ax2.set_ylabel('', fontsize=fontsize)\n",
    "    #ax.set_xlabel('exact match (EM) after optimizing', fontsize=fontsize)\n",
    "    ax.tick_params(axis='both', which='major', labelsize=fontsize)\n",
    "    ax.set_ylim(-2,52)\n",
    "    \n",
    "    topK = topK_range[i]\n",
    "    ax.set_title(f\"Optimizing {topK}\", fontsize=fontsize-1, loc=\"left\", x=-0.1)\n",
    "    #red_patch = mpatches.Patch(color='red', label='memorized')\n",
    "    #blue_patch = mpatches.Patch(color='blue', label='non-memorized')\n",
    "    #plt.legend(handles=[red_patch, blue_patch], frameon=False, ncol=1, prop={'size': fontsize-2})\n",
    "    ax.set_xticks([])\n",
    "    ax.yaxis.set_major_locator(plt.MaxNLocator(5))\n",
    "    \n",
    "    ax.text(0.07, -0.35, f'memorized set\\nmean EM: {all_c_em[i].mean(-1):.2f}', color=\"red\", fontsize=fontsize-1, horizontalalignment='left',verticalalignment='bottom', transform=ax.transAxes)\n",
    "    ax.text(0.54, -0.35, f'non-memorized set\\nmean EM: {all_k_em[i].mean(-1):.2f}', color=\"blue\", fontsize=fontsize-1, horizontalalignment='left',verticalalignment='bottom', transform=ax.transAxes)\n",
    "\n",
    "fig.savefig(f\"{dataLoaders.ROOT}/results/unlearning_perturb.pdf\", dpi=200, bbox_inches=\"tight\")"
   ]
  },
  {
   "cell_type": "code",
   "execution_count": null,
   "id": "73f8ba4e-3660-4460-90a3-90dc2bcb69cc",
   "metadata": {},
   "outputs": [],
   "source": []
  },
  {
   "cell_type": "code",
   "execution_count": null,
   "id": "5fad61f2-53f9-40f7-8563-a508fe1b9d1e",
   "metadata": {},
   "outputs": [],
   "source": []
  }
 ],
 "metadata": {
  "environment": {
   "kernel": "conda-root-venv",
   "name": "workbench-notebooks.m113",
   "type": "gcloud",
   "uri": "gcr.io/deeplearning-platform-release/workbench-notebooks:m113"
  },
  "kernelspec": {
   "display_name": "venv (Local)",
   "language": "python",
   "name": "conda-root-venv"
  },
  "language_info": {
   "codemirror_mode": {
    "name": "ipython",
    "version": 3
   },
   "file_extension": ".py",
   "mimetype": "text/x-python",
   "name": "python",
   "nbconvert_exporter": "python",
   "pygments_lexer": "ipython3",
   "version": "3.9.2"
  }
 },
 "nbformat": 4,
 "nbformat_minor": 5
}
