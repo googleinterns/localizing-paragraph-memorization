{
 "cells": [
  {
   "cell_type": "markdown",
   "id": "59d70f2e-2d26-4b1e-9904-221277fc9883",
   "metadata": {
    "id": "59d70f2e-2d26-4b1e-9904-221277fc9883"
   },
   "source": [
    "# Intervened Decoding"
   ]
  },
  {
   "cell_type": "code",
   "execution_count": 1,
   "id": "385a2b45-0a48-4ec4-b231-b54bd9ffbecc",
   "metadata": {
    "id": "385a2b45-0a48-4ec4-b231-b54bd9ffbecc",
    "tags": []
   },
   "outputs": [
    {
     "name": "stdout",
     "output_type": "stream",
     "text": [
      "Gb total: 15.6535, reserved: 0.0, allocated: 0.0\n"
     ]
    }
   ],
   "source": [
    "#@title Import libraries\n",
    "import transformer_lens\n",
    "import torch, gc, itertools, tqdm, scipy, copy, functools\n",
    "import pandas as pd\n",
    "import numpy as np\n",
    "\n",
    "import seaborn as sns\n",
    "import matplotlib as mpl\n",
    "import matplotlib.pyplot as plt\n",
    "\n",
    "mpl.rcParams['axes.spines.top'] = False\n",
    "\n",
    "import sys\n",
    "sys.path.append('/home/jupyter/')\n",
    "from paraMem.utils import modelHandlers, dataLoaders, gradient, intervening, localizing\n",
    "modelHandlers.gpu_check()"
   ]
  },
  {
   "cell_type": "markdown",
   "id": "c73414b4-289e-4b9e-afe2-80af0af1ee40",
   "metadata": {},
   "source": [
    "### Load Model"
   ]
  },
  {
   "cell_type": "code",
   "execution_count": 2,
   "id": "68924f4c-abd1-4f40-a659-36d67d71e064",
   "metadata": {
    "id": "68924f4c-abd1-4f40-a659-36d67d71e064",
    "outputId": "856915ea-112a-49d7-95ec-eac0b12c730f",
    "tags": []
   },
   "outputs": [
    {
     "name": "stdout",
     "output_type": "stream",
     "text": [
      "Loaded pretrained model gpt-neo-125M into HookedTransformer\n"
     ]
    }
   ],
   "source": [
    "model_type = \"gpt-neo-125M\"\n",
    "model = modelHandlers.load_model(model_type=model_type, DEVICE=\"cpu\")"
   ]
  },
  {
   "cell_type": "markdown",
   "id": "47e5fff3-11da-4435-a593-3aab22abe1c9",
   "metadata": {},
   "source": [
    "### Load Data"
   ]
  },
  {
   "cell_type": "code",
   "execution_count": 3,
   "id": "19b28205-2803-49dc-867e-1a0380dc0e33",
   "metadata": {
    "tags": []
   },
   "outputs": [],
   "source": [
    "train_dl, test_dl = dataLoaders.batched_pile(mem_batch=1, non_mem_batch=20, test_frac=0.0)\n",
    "#dl = dataLoaders.batched_pop_seqs(model, mem_batch=5, non_mem_batch=10)\n",
    "c_toks_NI, k_toks_NI = next(iter(train_dl))"
   ]
  },
  {
   "cell_type": "code",
   "execution_count": 4,
   "id": "061e3000-83c7-4f5d-8253-65d9cbe79a13",
   "metadata": {
    "colab": {
     "referenced_widgets": [
      "479886ddaaf44c98b6cd1a1e048c4a91"
     ]
    },
    "id": "061e3000-83c7-4f5d-8253-65d9cbe79a13",
    "outputId": "a24c4572-f7f4-42b3-a56e-e3ce62cbcc67",
    "tags": []
   },
   "outputs": [
    {
     "name": "stderr",
     "output_type": "stream",
     "text": [
      "100%|██████████| 1/1 [00:00<00:00,  6.55it/s]\n",
      "100%|██████████| 1/1 [00:02<00:00,  2.35s/it]"
     ]
    },
    {
     "name": "stdout",
     "output_type": "stream",
     "text": [
      "---Greedy EM--- change set: 50.0, keep set: 0.0  [mean over 20 seqs]\n",
      "---Mean NLL--- change set: 0.01889999955892563, keep set: 2.4763998985290527\n"
     ]
    },
    {
     "name": "stderr",
     "output_type": "stream",
     "text": [
      "\n"
     ]
    }
   ],
   "source": [
    "def evaluate_model(model,c_toks_NI:torch.LongTensor=None, k_toks_NI:torch.LongTensor=None, dl=None, I_range:list=[50,100], n_batch:int=5):\n",
    "    \"\"\"\n",
    "    evaluate the language model on dataloader or individual batches c_toks_NI and k_toks_NI\n",
    "    \"\"\"\n",
    "    ## preprocess\n",
    "    if dl is None:\n",
    "        dl, n_batch = zip([c_toks_NI], [k_toks_NI]), 1\n",
    "    dl_em, dl_nll, dl_decode = [], [], []\n",
    "    \n",
    "    ## loop over batch\n",
    "    for i_batch, (c_toks_NI, k_toks_NI) in enumerate(dl):\n",
    "        \n",
    "        ## change set\n",
    "        (c_mean_nll, c_minK_nll), (preds_NI, trues_NI) = modelHandlers.evaluate_nll_greedy(model, c_toks_NI, batch_size=50)\n",
    "        c_em_N = modelHandlers.compute_exact_match(preds_NI[:,:I_range[1]], trues_NI[:,:I_range[1]])\n",
    "\n",
    "        ## keep set\n",
    "        (k_mean_nll, k_minK_nll), (preds_NI, trues_NI) = modelHandlers.evaluate_nll_greedy(model, k_toks_NI, batch_size=50)\n",
    "        k_em_N = modelHandlers.compute_exact_match(preds_NI[:,:I_range[1]], trues_NI[:,:I_range[1]])\n",
    "            \n",
    "        ## process change and keep set\n",
    "        c_mean_nll, k_mean_nll = round(c_mean_nll[:,I_range[0]:I_range[1]].mean().detach().item(),4), round(k_mean_nll[:,I_range[0]:I_range[1]].mean().detach().item(),4)\n",
    "        c_em_N, k_em_N = c_em_N.mean().item(), k_em_N.mean().item()\n",
    "        \n",
    "        dl_em.append([c_em_N, k_em_N])\n",
    "        dl_nll.append([c_mean_nll, k_mean_nll])\n",
    "        if i_batch+1 == n_batch:\n",
    "            break ##early break out\n",
    "    \n",
    "    dl_em, dl_nll = torch.tensor(dl_em).mean(0), torch.tensor(dl_nll).mean(0)\n",
    "    print(f\"---Greedy EM--- change set: {dl_em[0]}, keep set: {dl_em[1]}  [mean over {preds_NI.shape[0]} seqs]\")\n",
    "    print(f\"---Mean NLL--- change set: {dl_nll[0]}, keep set: {dl_nll[1]}\")\n",
    "    return (c_em_N, k_em_N), (c_mean_nll, k_mean_nll)\n",
    "\n",
    "ck_em_before, ck_nll_before = evaluate_model(model, c_toks_NI, k_toks_NI, dl=None, I_range=[50,100])"
   ]
  },
  {
   "cell_type": "markdown",
   "id": "03202d6b-9357-4feb-b9db-69dc5223024a",
   "metadata": {},
   "source": [
    "## With Intervention"
   ]
  },
  {
   "cell_type": "code",
   "execution_count": 5,
   "id": "dadd68a0-7e37-4bcb-8a68-3605dffca091",
   "metadata": {
    "tags": []
   },
   "outputs": [
    {
     "name": "stderr",
     "output_type": "stream",
     "text": [
      "0it [00:00, ?it/s]"
     ]
    },
    {
     "name": "stdout",
     "output_type": "stream",
     "text": [
      "contrast_res: 0.0, c_nll: 2.789490222930908, k_nll: 2.789490222930908\n"
     ]
    },
    {
     "name": "stderr",
     "output_type": "stream",
     "text": [
      "1it [00:08,  8.41s/it]"
     ]
    },
    {
     "name": "stdout",
     "output_type": "stream",
     "text": [
      "returning ['blocks.0.attn.W_Q', 'blocks.1.attn.W_Q']... of shape: torch.Size([12, 12, 768, 64])\n",
      "returning ['blocks.0.attn.W_K', 'blocks.1.attn.W_K']... of shape: torch.Size([12, 12, 768, 64])\n",
      "returning ['blocks.0.attn.W_V', 'blocks.1.attn.W_V']... of shape: torch.Size([12, 12, 768, 64])\n",
      "returning ['blocks.0.attn.W_O', 'blocks.1.attn.W_O']... of shape: torch.Size([12, 12, 64, 768])\n",
      "returning ['blocks.0.mlp.W_in', 'blocks.1.mlp.W_in']... of shape: torch.Size([12, 768, 3072])\n",
      "returning ['blocks.0.mlp.W_out', 'blocks.1.mlp.W_out']... of shape: torch.Size([12, 3072, 768])\n",
      "contrast_res: 0.0, c_nll: 3.105027914047241, k_nll: 3.105027914047241\n"
     ]
    },
    {
     "name": "stderr",
     "output_type": "stream",
     "text": [
      "2it [00:17,  8.78s/it]"
     ]
    },
    {
     "name": "stdout",
     "output_type": "stream",
     "text": [
      "returning ['blocks.0.attn.W_Q', 'blocks.1.attn.W_Q']... of shape: torch.Size([12, 12, 768, 64])\n",
      "returning ['blocks.0.attn.W_K', 'blocks.1.attn.W_K']... of shape: torch.Size([12, 12, 768, 64])\n",
      "returning ['blocks.0.attn.W_V', 'blocks.1.attn.W_V']... of shape: torch.Size([12, 12, 768, 64])\n",
      "returning ['blocks.0.attn.W_O', 'blocks.1.attn.W_O']... of shape: torch.Size([12, 12, 64, 768])\n",
      "returning ['blocks.0.mlp.W_in', 'blocks.1.mlp.W_in']... of shape: torch.Size([12, 768, 3072])\n",
      "returning ['blocks.0.mlp.W_out', 'blocks.1.mlp.W_out']... of shape: torch.Size([12, 3072, 768])\n",
      "contrast_res: 2.384185791015625e-07, c_nll: 3.1362526416778564, k_nll: 3.136251926422119\n"
     ]
    },
    {
     "name": "stderr",
     "output_type": "stream",
     "text": [
      "3it [00:25,  8.48s/it]"
     ]
    },
    {
     "name": "stdout",
     "output_type": "stream",
     "text": [
      "returning ['blocks.0.attn.W_Q', 'blocks.1.attn.W_Q']... of shape: torch.Size([12, 12, 768, 64])\n",
      "returning ['blocks.0.attn.W_K', 'blocks.1.attn.W_K']... of shape: torch.Size([12, 12, 768, 64])\n",
      "returning ['blocks.0.attn.W_V', 'blocks.1.attn.W_V']... of shape: torch.Size([12, 12, 768, 64])\n",
      "returning ['blocks.0.attn.W_O', 'blocks.1.attn.W_O']... of shape: torch.Size([12, 12, 64, 768])\n",
      "returning ['blocks.0.mlp.W_in', 'blocks.1.mlp.W_in']... of shape: torch.Size([12, 768, 3072])\n",
      "returning ['blocks.0.mlp.W_out', 'blocks.1.mlp.W_out']... of shape: torch.Size([12, 3072, 768])\n",
      "contrast_res: 0.0, c_nll: 2.556692361831665, k_nll: 2.556692361831665\n"
     ]
    },
    {
     "name": "stderr",
     "output_type": "stream",
     "text": [
      "4it [00:33,  8.36s/it]"
     ]
    },
    {
     "name": "stdout",
     "output_type": "stream",
     "text": [
      "returning ['blocks.0.attn.W_Q', 'blocks.1.attn.W_Q']... of shape: torch.Size([12, 12, 768, 64])\n",
      "returning ['blocks.0.attn.W_K', 'blocks.1.attn.W_K']... of shape: torch.Size([12, 12, 768, 64])\n",
      "returning ['blocks.0.attn.W_V', 'blocks.1.attn.W_V']... of shape: torch.Size([12, 12, 768, 64])\n",
      "returning ['blocks.0.attn.W_O', 'blocks.1.attn.W_O']... of shape: torch.Size([12, 12, 64, 768])\n",
      "returning ['blocks.0.mlp.W_in', 'blocks.1.mlp.W_in']... of shape: torch.Size([12, 768, 3072])\n",
      "returning ['blocks.0.mlp.W_out', 'blocks.1.mlp.W_out']... of shape: torch.Size([12, 3072, 768])\n",
      "contrast_res: 0.0, c_nll: 2.408661127090454, k_nll: 2.408661127090454\n"
     ]
    },
    {
     "name": "stderr",
     "output_type": "stream",
     "text": [
      "4it [00:42, 10.71s/it]"
     ]
    },
    {
     "name": "stdout",
     "output_type": "stream",
     "text": [
      "returning ['blocks.0.attn.W_Q', 'blocks.1.attn.W_Q']... of shape: torch.Size([12, 12, 768, 64])\n",
      "returning ['blocks.0.attn.W_K', 'blocks.1.attn.W_K']... of shape: torch.Size([12, 12, 768, 64])\n",
      "returning ['blocks.0.attn.W_V', 'blocks.1.attn.W_V']... of shape: torch.Size([12, 12, 768, 64])\n",
      "returning ['blocks.0.attn.W_O', 'blocks.1.attn.W_O']... of shape: torch.Size([12, 12, 64, 768])\n",
      "returning ['blocks.0.mlp.W_in', 'blocks.1.mlp.W_in']... of shape: torch.Size([12, 768, 3072])\n",
      "returning ['blocks.0.mlp.W_out', 'blocks.1.mlp.W_out']... of shape: torch.Size([12, 3072, 768])\n"
     ]
    },
    {
     "name": "stderr",
     "output_type": "stream",
     "text": [
      "\n"
     ]
    }
   ],
   "source": [
    "#c_type = \"W_in_W_out\"\n",
    "#c_weights = localizing.load_data(f\"results/{model_type}/{c_type}.pt\")\n",
    "fwd_bwd = functools.partial(gradient.contrast_metric, I_range=[50,60], with_mse=False, pool={\"c\":[-1],\"k\":[0,1]}, norm_sets=1.0)\n",
    "c_weights = localizing.batched_c_type_collection(model, train_dl, fwd_bwd, c_types=[\"W_Q\", \"W_K\", \"W_V\", \"W_O\",\"W_in\", \"W_out\"], n_batches=5)"
   ]
  },
  {
   "cell_type": "code",
   "execution_count": 13,
   "id": "a4c7ea18-544b-44ae-9430-6ed0c456afa5",
   "metadata": {
    "tags": []
   },
   "outputs": [],
   "source": [
    "c_weights_lk = intervening.get_topK_grads(c_weights, topK=5, select_c=[], select_l=[], select_heads=[], return_lk=True)"
   ]
  },
  {
   "cell_type": "code",
   "execution_count": 14,
   "id": "24906fee-ddf8-4031-bc94-071cf59203ba",
   "metadata": {
    "tags": []
   },
   "outputs": [
    {
     "name": "stdout",
     "output_type": "stream",
     "text": [
      "Loaded pretrained model gpt-neo-125M into HookedTransformer\n",
      "intervened with 0.007558004464954138 on a total of 30 weights in ['W_Q', 'W_K', 'W_V', 'W_O', 'W_in', 'W_out'] in layers {0, 1, 2, 3, 5, 7, 8, 9, 10}\n"
     ]
    },
    {
     "name": "stderr",
     "output_type": "stream",
     "text": [
      "100%|██████████| 1/1 [00:00<00:00,  6.58it/s]\n",
      "100%|██████████| 1/1 [00:01<00:00,  1.80s/it]"
     ]
    },
    {
     "name": "stdout",
     "output_type": "stream",
     "text": [
      "---Greedy EM--- change set: 50.0, keep set: 0.05000000074505806  [mean over 20 seqs]\n",
      "---Mean NLL--- change set: 0.02370000071823597, keep set: 2.8129000663757324\n"
     ]
    },
    {
     "name": "stderr",
     "output_type": "stream",
     "text": [
      "\n"
     ]
    }
   ],
   "source": [
    "def intervene_params(model, c_weights_lk:dict, std_fac:float=1.0):\n",
    "    \"\"\"\n",
    "    perform intervention on model params according to weight_ids_LK\n",
    "    \"\"\"\n",
    "    n_weights, layers = 0, []\n",
    "    model = modelHandlers.load_model(model) ## reloading the model\n",
    "    for name, param in model.named_parameters():\n",
    "        name_list = name.split(\".\")\n",
    "        c_type = name_list[-1]\n",
    "        if c_type in c_weights_lk.keys():\n",
    "            l, param_shape = int(name_list[1]), param.shape\n",
    "            weight_ids = torch.LongTensor(c_weights_lk[c_type][\"idcs\"][l])\n",
    "            if len(weight_ids) > 0:\n",
    "                multidim_ids = np.array(np.unravel_index(weight_ids, param_shape)).T\n",
    "                multidim_ids = torch.LongTensor(multidim_ids)\n",
    "        \n",
    "                with torch.no_grad():   \n",
    "                    #std = torch.abs(param[multidim_ids[:,0], multidim_ids[:,1]] * std_fac)\n",
    "                    std = torch.std(param) * std_fac\n",
    "                    set_vals = torch.normal(mean=0.0, std=torch.ones(multidim_ids.shape[0]) * std)\n",
    "                    \n",
    "                    #std = torch.std(param[multidim_ids[:,0]])\n",
    "                    #set_vals = torch.normal(mean=0.0,std=torch.ones(multidim_ids.shape[0])*std*std_fac)\n",
    "                    if multidim_ids.shape[1]==2:\n",
    "                        param[multidim_ids[:,0], multidim_ids[:,1]] += set_vals\n",
    "                    elif multidim_ids.shape[1]==3:\n",
    "                        param[multidim_ids[:,0], multidim_ids[:,1], multidim_ids[:,2]] += set_vals\n",
    "                    n_weights += multidim_ids.shape[0]\n",
    "                    layers.append(l)\n",
    "    print(f\"intervened with {std} on a total of {n_weights} weights in {list(c_weights_lk.keys())} in layers {set(layers)}\")\n",
    "    model.cfg.intervention = {\"std\":std,\"n_weights\":n_weights,\"c_types\":list(c_weights_lk.keys())}\n",
    "    return model\n",
    "\n",
    "model = intervene_params(model, c_weights_lk, std_fac=0.1)\n",
    "ck_em_after, ck_nll_after = evaluate_model(model, c_toks_NI, k_toks_NI, I_range=[50,60])"
   ]
  },
  {
   "cell_type": "markdown",
   "id": "5f03392c-8e00-4670-a8c1-7b99e3fe6b32",
   "metadata": {},
   "source": [
    "___________________________________________________________________________________\n",
    "## Intervention (1): Loop over Different Intervention Values"
   ]
  },
  {
   "cell_type": "code",
   "execution_count": 17,
   "id": "c46bcc3b-297a-473c-b948-90affd34c5ef",
   "metadata": {
    "scrolled": true,
    "tags": []
   },
   "outputs": [
    {
     "name": "stderr",
     "output_type": "stream",
     "text": [
      "  0%|          | 0/4 [00:00<?, ?it/s]"
     ]
    },
    {
     "name": "stdout",
     "output_type": "stream",
     "text": [
      "Loaded pretrained model gpt-neo-125M into HookedTransformer\n",
      "intervened with 0.0 on a total of 35 weights in ['W_out'] in layers {9}\n"
     ]
    },
    {
     "name": "stderr",
     "output_type": "stream",
     "text": [
      "\n",
      "  0%|          | 0/1 [00:00<?, ?it/s]\u001b[A\n",
      "100%|██████████| 1/1 [00:00<00:00,  1.80it/s]\u001b[A\n",
      "\n",
      "  0%|          | 0/1 [00:00<?, ?it/s]\u001b[A\n",
      "100%|██████████| 1/1 [00:01<00:00,  1.02s/it]\u001b[A\n",
      "\n",
      "  0%|          | 0/1 [00:00<?, ?it/s]\u001b[A\n",
      "100%|██████████| 1/1 [00:00<00:00,  1.75it/s]\u001b[A\n",
      "\n",
      "  0%|          | 0/1 [00:00<?, ?it/s]\u001b[A\n",
      "  0%|          | 0/4 [00:04<?, ?it/s]\n",
      "\n",
      "KeyboardInterrupt\n",
      "\n"
     ]
    }
   ],
   "source": [
    "def loop_vals_intervention(model, dl, c_weights:list, val_space:tuple=(-5,5,5), topK:int=1000, select_c:list=[], select_l:list=[], select_heads:list=[]):\n",
    "    \"\"\"\n",
    "    searching for best intervention setting by iterating over ideal intervention values\n",
    "    \"\"\"\n",
    "    c_weights_lk = intervening.get_topK_grads(c_weights, topK=topK, select_c=select_c, select_l=select_l, select_heads=[], return_lk=True, select_random=False)\n",
    "    intervene_vals = torch.linspace(val_space[0], val_space[1], steps=val_space[2])\n",
    "    ## Ensure that 0 and 1 are always included\n",
    "    #values_to_add = torch.tensor([0, 1])[~torch.isin(torch.tensor([0, 1]), intervene_vals)]\n",
    "    #intervene_vals = torch.cat([intervene_vals, values_to_add]) \n",
    "    #intervene_vals = torch.sort(intervene_vals).values\n",
    "    \n",
    "    ck_em_after, ck_nll_after = [],[]\n",
    "    for intervene_val in tqdm.tqdm(intervene_vals):\n",
    "        model = intervene_params(model, c_weights_lk, std_fac=intervene_val)\n",
    "        ck_em, ck_nll = evaluate_model(model, dl=dl)\n",
    "        ck_em_after.append(ck_em)\n",
    "        ck_nll_after.append(ck_nll)\n",
    "    ck_em_after, ck_nll_after = torch.tensor(ck_em_after), torch.tensor(ck_nll_after)\n",
    "    return ck_em_after, ck_nll_after, intervene_vals, model\n",
    "\n",
    "ck_em, ck_nll, intervene_vals, model = loop_vals_intervention(model, train_dl, c_weights, val_space=(0.0,1.5,4), topK=35, select_c=[\"W_out\"], select_l=[9], select_heads=[])"
   ]
  },
  {
   "cell_type": "code",
   "execution_count": 285,
   "id": "951ea2f7-1666-41f7-aa4d-f5d4d831433e",
   "metadata": {
    "tags": []
   },
   "outputs": [
    {
     "data": {
      "image/png": "[encoded data removed]",
      "text/plain": [
       "<Figure size 900x150 with 2 Axes>"
      ]
     },
     "metadata": {},
     "output_type": "display_data"
    }
   ],
   "source": [
    "fontsize = 9\n",
    "fig, ax = plt.subplots(1, 1, figsize=(9, 1.5), gridspec_kw={'hspace': 0.4})\n",
    "\n",
    "c_nll, = ax.plot(intervene_vals, ck_nll[:,0].numpy(), c=\"red\", label=\"change set\")\n",
    "k_nll, = ax.plot(intervene_vals, ck_nll[:,1].numpy(), c=\"blue\", label=\"keep set\")\n",
    "#ax.axhline(y=ck_nll[int(ck_nll.shape[0]/2),1], color='r', linestyle='--', c=\"blue\", alpha=0.5)\n",
    "ax.axhline(y=ck_nll[0,1], color='r', linestyle='--', c=\"blue\", alpha=0.5)\n",
    "\n",
    "ax2 = ax.twinx()\n",
    "c_em = ax2.scatter(intervene_vals, ck_em[:,0].numpy(), c=\"red\", marker=\"v\", label=\"change set em\")\n",
    "k_em = ax2.scatter(intervene_vals, ck_em[:,1].numpy(), c=\"blue\", marker=\"^\", label=\"keep set em\")\n",
    "ax.axvline(x=0, color='r', linestyle='-', c=\"black\", alpha=0.2)\n",
    "\n",
    "plot_summary = f\"Intervening on top {model.cfg.intervention['n_weights']} max gradient weights {model.cfg.intervention['c_types']}\"\n",
    "#plot_summary = f\"Intervening on top {model.cfg.intervention['n_weights']} max gradient weights {model.cfg.intervention['c_types']} in layers: {', '.join((str(l) for l in model.cfg.intervention['layers']))}\"\n",
    "ax.set_title(plot_summary, fontsize=fontsize, loc=\"left\")\n",
    "ax.set_xlabel('Standard Deviation of Intervention Noise', fontsize=fontsize)\n",
    "ax.set_ylabel(r'mean NLL $(lines)$', fontsize=fontsize) #\\searrow\n",
    "ax2.set_ylabel(r'exact match $\\triangle$', fontsize=fontsize) #\\bullet\n",
    "legend = ax.legend(handles=[c_nll, k_nll], frameon=False, bbox_to_anchor=(0.2, -0.15), ncol=2, prop={'size': fontsize}, handlelength=0)\n",
    "for text, color in zip(legend.get_texts(), [\"red\", \"blue\"]):\n",
    "    text.set_color(color) \n",
    "#ax.savefig(\"...\", dpi=200, bbox_inches='tight')"
   ]
  },
  {
   "cell_type": "markdown",
   "id": "8168546f-6dee-48ee-8018-c0f52cfc5804",
   "metadata": {},
   "source": [
    "## Intervention (2): Loop over Different Number of Weights set to Zero"
   ]
  },
  {
   "cell_type": "code",
   "execution_count": 286,
   "id": "d784a49d-94b9-4177-a5c0-e2e5d8e5e254",
   "metadata": {
    "scrolled": true,
    "tags": []
   },
   "outputs": [
    {
     "name": "stderr",
     "output_type": "stream",
     "text": [
      "  0%|          | 0/4 [00:00<?, ?it/s]"
     ]
    },
    {
     "name": "stdout",
     "output_type": "stream",
     "text": [
      "Loaded pretrained model gpt-neo-125M into HookedTransformer\n",
      "intervened with 3.0 on a total of 0 weights in ['W_V'] in layers set()\n"
     ]
    },
    {
     "name": "stderr",
     "output_type": "stream",
     "text": [
      "\n",
      "  0%|          | 0/1 [00:00<?, ?it/s]\u001b[A\n",
      "100%|██████████| 1/1 [00:00<00:00,  1.62it/s]\u001b[A\n",
      "\n",
      "  0%|          | 0/1 [00:00<?, ?it/s]\u001b[A\n",
      "100%|██████████| 1/1 [00:00<00:00,  1.00it/s]\u001b[A\n",
      "\n",
      "  0%|          | 0/1 [00:00<?, ?it/s]\u001b[A\n",
      "100%|██████████| 1/1 [00:00<00:00,  1.74it/s]\u001b[A\n",
      "\n",
      "  0%|          | 0/1 [00:00<?, ?it/s]\u001b[A\n",
      "100%|██████████| 1/1 [00:01<00:00,  1.03s/it]\u001b[A\n",
      "\n",
      "  0%|          | 0/1 [00:00<?, ?it/s]\u001b[A\n",
      "100%|██████████| 1/1 [00:00<00:00,  1.77it/s]\u001b[A\n",
      "\n",
      "  0%|          | 0/1 [00:00<?, ?it/s]\u001b[A\n",
      "100%|██████████| 1/1 [00:01<00:00,  1.06s/it]\u001b[A\n",
      "\n",
      "  0%|          | 0/1 [00:00<?, ?it/s]\u001b[A\n",
      "100%|██████████| 1/1 [00:00<00:00,  1.77it/s]\u001b[A\n",
      "\n",
      "  0%|          | 0/1 [00:00<?, ?it/s]\u001b[A\n",
      "100%|██████████| 1/1 [00:01<00:00,  1.07s/it]\u001b[A\n",
      "\n",
      "  0%|          | 0/1 [00:00<?, ?it/s]\u001b[A\n",
      "100%|██████████| 1/1 [00:00<00:00,  1.78it/s]\u001b[A\n",
      "\n",
      "  0%|          | 0/1 [00:00<?, ?it/s]\u001b[A\n",
      "100%|██████████| 1/1 [00:01<00:00,  1.33s/it]\u001b[A\n",
      " 25%|██▌       | 1/4 [00:09<00:29,  9.85s/it]"
     ]
    },
    {
     "name": "stdout",
     "output_type": "stream",
     "text": [
      "---Greedy EM--- change set: 50.0, keep set: 0.0  [mean over 10 seqs]\n",
      "---Mean NLL--- change set: 0.5719799995422363, keep set: 2.657639980316162\n",
      "Loaded pretrained model gpt-neo-125M into HookedTransformer\n",
      "intervened with 3.0 on a total of 33 weights in ['W_V'] in layers {2}\n"
     ]
    },
    {
     "name": "stderr",
     "output_type": "stream",
     "text": [
      "\n",
      "  0%|          | 0/1 [00:00<?, ?it/s]\u001b[A\n",
      "100%|██████████| 1/1 [00:00<00:00,  1.96it/s]\u001b[A\n",
      "\n",
      "  0%|          | 0/1 [00:00<?, ?it/s]\u001b[A\n",
      "100%|██████████| 1/1 [00:01<00:00,  1.24s/it]\u001b[A\n",
      "\n",
      "  0%|          | 0/1 [00:00<?, ?it/s]\u001b[A\n",
      "100%|██████████| 1/1 [00:00<00:00,  1.35it/s]\u001b[A\n",
      "\n",
      "  0%|          | 0/1 [00:00<?, ?it/s]\u001b[A\n",
      "100%|██████████| 1/1 [00:01<00:00,  1.60s/it]\u001b[A\n",
      "\n",
      "  0%|          | 0/1 [00:00<?, ?it/s]\u001b[A\n",
      "100%|██████████| 1/1 [00:00<00:00,  1.40it/s]\u001b[A\n",
      "\n",
      "  0%|          | 0/1 [00:00<?, ?it/s]\u001b[A\n",
      "100%|██████████| 1/1 [00:01<00:00,  1.02s/it]\u001b[A\n",
      "\n",
      "  0%|          | 0/1 [00:00<?, ?it/s]\u001b[A\n",
      "100%|██████████| 1/1 [00:00<00:00,  1.49it/s]\u001b[A\n",
      "\n",
      "  0%|          | 0/1 [00:00<?, ?it/s]\u001b[A\n",
      "100%|██████████| 1/1 [00:01<00:00,  1.37s/it]\u001b[A\n",
      "\n",
      "  0%|          | 0/1 [00:00<?, ?it/s]\u001b[A\n",
      "100%|██████████| 1/1 [00:00<00:00,  1.24it/s]\u001b[A\n",
      "\n",
      "  0%|          | 0/1 [00:00<?, ?it/s]\u001b[A\n",
      "100%|██████████| 1/1 [00:01<00:00,  1.57s/it]\u001b[A\n",
      " 50%|█████     | 2/4 [00:21<00:21, 10.95s/it]"
     ]
    },
    {
     "name": "stdout",
     "output_type": "stream",
     "text": [
      "---Greedy EM--- change set: 0.0, keep set: 0.0  [mean over 10 seqs]\n",
      "---Mean NLL--- change set: 15.967280387878418, keep set: 15.235018730163574\n",
      "Loaded pretrained model gpt-neo-125M into HookedTransformer\n",
      "intervened with 3.0 on a total of 66 weights in ['W_V'] in layers {2}\n"
     ]
    },
    {
     "name": "stderr",
     "output_type": "stream",
     "text": [
      "\n",
      "  0%|          | 0/1 [00:00<?, ?it/s]\u001b[A\n",
      "100%|██████████| 1/1 [00:00<00:00,  1.22it/s]\u001b[A\n",
      "\n",
      "  0%|          | 0/1 [00:00<?, ?it/s]\u001b[A\n",
      "100%|██████████| 1/1 [00:01<00:00,  1.96s/it]\u001b[A\n",
      "\n",
      "  0%|          | 0/1 [00:00<?, ?it/s]\u001b[A\n",
      "100%|██████████| 1/1 [00:01<00:00,  1.57s/it]\u001b[A\n",
      "\n",
      "  0%|          | 0/1 [00:00<?, ?it/s]\u001b[A\n",
      "100%|██████████| 1/1 [00:01<00:00,  1.92s/it]\u001b[A\n",
      "\n",
      "  0%|          | 0/1 [00:00<?, ?it/s]\u001b[A\n",
      "100%|██████████| 1/1 [00:00<00:00,  1.21it/s]\u001b[A\n",
      "\n",
      "  0%|          | 0/1 [00:00<?, ?it/s]\u001b[A\n",
      "100%|██████████| 1/1 [00:01<00:00,  1.70s/it]\u001b[A\n",
      "\n",
      "  0%|          | 0/1 [00:00<?, ?it/s]\u001b[A\n",
      "100%|██████████| 1/1 [00:01<00:00,  1.02s/it]\u001b[A\n",
      "\n",
      "  0%|          | 0/1 [00:00<?, ?it/s]\u001b[A\n",
      "100%|██████████| 1/1 [00:01<00:00,  1.76s/it]\u001b[A\n",
      "\n",
      "  0%|          | 0/1 [00:00<?, ?it/s]\u001b[A\n",
      "100%|██████████| 1/1 [00:00<00:00,  1.12it/s]\u001b[A\n",
      "\n",
      "  0%|          | 0/1 [00:00<?, ?it/s]\u001b[A\n",
      "100%|██████████| 1/1 [00:01<00:00,  1.54s/it]\u001b[A\n",
      " 75%|███████▌  | 3/4 [00:37<00:13, 13.11s/it]"
     ]
    },
    {
     "name": "stdout",
     "output_type": "stream",
     "text": [
      "---Greedy EM--- change set: 0.12000000476837158, keep set: 0.06000000238418579  [mean over 10 seqs]\n",
      "---Mean NLL--- change set: 15.70106029510498, keep set: 15.100740432739258\n",
      "Loaded pretrained model gpt-neo-125M into HookedTransformer\n",
      "intervened with 3.0 on a total of 100 weights in ['W_V'] in layers {2}\n"
     ]
    },
    {
     "name": "stderr",
     "output_type": "stream",
     "text": [
      "\n",
      "  0%|          | 0/1 [00:00<?, ?it/s]\u001b[A\n",
      "100%|██████████| 1/1 [00:00<00:00,  1.88it/s]\u001b[A\n",
      "\n",
      "  0%|          | 0/1 [00:00<?, ?it/s]\u001b[A\n",
      "100%|██████████| 1/1 [00:01<00:00,  1.56s/it]\u001b[A\n",
      "\n",
      "  0%|          | 0/1 [00:00<?, ?it/s]\u001b[A\n",
      "100%|██████████| 1/1 [00:00<00:00,  1.24it/s]\u001b[A\n",
      "\n",
      "  0%|          | 0/1 [00:00<?, ?it/s]\u001b[A\n",
      "100%|██████████| 1/1 [00:01<00:00,  1.16s/it]\u001b[A\n",
      "\n",
      "  0%|          | 0/1 [00:00<?, ?it/s]\u001b[A\n",
      "100%|██████████| 1/1 [00:00<00:00,  1.76it/s]\u001b[A\n",
      "\n",
      "  0%|          | 0/1 [00:00<?, ?it/s]\u001b[A\n",
      "100%|██████████| 1/1 [00:01<00:00,  1.03s/it]\u001b[A\n",
      "\n",
      "  0%|          | 0/1 [00:00<?, ?it/s]\u001b[A\n",
      "100%|██████████| 1/1 [00:00<00:00,  1.83it/s]\u001b[A\n",
      "\n",
      "  0%|          | 0/1 [00:00<?, ?it/s]\u001b[A\n",
      "100%|██████████| 1/1 [00:01<00:00,  1.09s/it]\u001b[A\n",
      "\n",
      "  0%|          | 0/1 [00:00<?, ?it/s]\u001b[A\n",
      "100%|██████████| 1/1 [00:00<00:00,  1.73it/s]\u001b[A\n",
      "\n",
      "  0%|          | 0/1 [00:00<?, ?it/s]\u001b[A\n",
      "100%|██████████| 1/1 [00:01<00:00,  1.05s/it]\u001b[A\n",
      "100%|██████████| 4/4 [00:47<00:00, 11.91s/it]"
     ]
    },
    {
     "name": "stdout",
     "output_type": "stream",
     "text": [
      "---Greedy EM--- change set: 0.0, keep set: 0.0  [mean over 10 seqs]\n",
      "---Mean NLL--- change set: 16.789081573486328, keep set: 16.034698486328125\n"
     ]
    },
    {
     "name": "stderr",
     "output_type": "stream",
     "text": [
      "\n"
     ]
    }
   ],
   "source": [
    "def loop_topK_intervention(model, dl, c_weights:dict, topK_space:tuple=(-5,5,5), intervene_val:int=0, select_c:list=[], select_l:list=[], select_heads:list=[], largest:bool=True):\n",
    "    \"\"\"\n",
    "    searching for best intervention setting by iterating over ideal intervention values\n",
    "    \"\"\"\n",
    "    topK_vals = torch.linspace(topK_space[0], topK_space[1], steps=topK_space[2])    \n",
    "    ck_em_after, ck_nll_after = [],[]\n",
    "    for topK_val in tqdm.tqdm(topK_vals):\n",
    "        c_weights_lk = intervening.get_topK_grads(c_weights,topK=int(topK_val),select_c=select_c,select_l=select_l,select_heads=select_heads,return_lk=True,largest=largest,select_random=False)\n",
    "        model = intervene_params(model, c_weights_lk, std=intervene_val)\n",
    "        ck_em, ck_nll = evaluate_model(model, dl=dl)\n",
    "        ck_em_after.append(ck_em)\n",
    "        ck_nll_after.append(ck_nll)\n",
    "    ck_em_after, ck_nll_after = torch.tensor(ck_em_after), torch.tensor(ck_nll_after)\n",
    "    return ck_em_after, ck_nll_after, topK_vals, model\n",
    "\n",
    "intervene_val = 3.0\n",
    "ck_em, ck_nll, topK_vals, model = loop_topK_intervention(model, train_dl, c_weights, topK_space=(0,100,4), intervene_val=intervene_val, select_c=[\"W_V\"], select_l=[2], select_heads=[11])"
   ]
  },
  {
   "cell_type": "code",
   "execution_count": 287,
   "id": "f0cae9a0-4c3b-4d18-b198-89c27e7f11dc",
   "metadata": {
    "tags": []
   },
   "outputs": [
    {
     "data": {
      "image/png": "[encoded data removed]",
      "text/plain": [
       "<Figure size 900x150 with 2 Axes>"
      ]
     },
     "metadata": {},
     "output_type": "display_data"
    }
   ],
   "source": [
    "fontsize = 9\n",
    "fig, ax = plt.subplots(1, 1, figsize=(9, 1.5), gridspec_kw={'hspace': 0.4})\n",
    "\n",
    "c_nll, = ax.plot(topK_vals, ck_nll[:,0].numpy(), c=\"red\", label=\"change set\")\n",
    "k_nll, = ax.plot(topK_vals, ck_nll[:,1].numpy(), c=\"blue\", label=\"keep set\")\n",
    "ax.axhline(y=ck_nll[0,1], color='r', linestyle='--', c=\"blue\", alpha=0.5)\n",
    "\n",
    "ax2 = ax.twinx()\n",
    "c_em = ax2.scatter(topK_vals, ck_em[:,0].numpy(), c=\"red\", marker=\"v\", label=\"change set em\")\n",
    "k_em = ax2.scatter(topK_vals, ck_em[:,1].numpy(), c=\"blue\", marker=\"^\", label=\"keep set em\")\n",
    "\n",
    "plot_summary = f\"Intervening on top {int(topK_vals[0])} to {int(topK_vals[-1])} max gradient weights of {model.cfg.intervention['c_types']} with {intervene_val}\"\n",
    "#plot_summary = f\"Intervening on top {model.cfg.intervention['n_weights']} max gradient weights {model.cfg.intervention['c_types']} in layers: {', '.join((str(l) for l in model.cfg.intervention['layers']))}\"\n",
    "ax.set_xlim(topK_vals[0]-10,topK_vals[-1]+10)\n",
    "ax.set_title(plot_summary, fontsize=fontsize, loc=\"left\")\n",
    "ax.set_xlabel('Standard Deviation of Intervention Noise', fontsize=fontsize)\n",
    "ax.set_ylabel(r'mean NLL $(lines)$', fontsize=fontsize) #\\searrow\n",
    "ax2.set_ylabel(r'exact match $\\triangle$', fontsize=fontsize) #\\bullet\n",
    "legend = ax.legend(handles=[c_nll, k_nll], frameon=False, bbox_to_anchor=(0.2, -0.15), ncol=2, prop={'size': fontsize}, handlelength=0)\n",
    "for text, color in zip(legend.get_texts(), [\"red\", \"blue\"]):\n",
    "    text.set_color(color) \n",
    "#ax.savefig(\"...\", dpi=200, bbox_inches='tight')"
   ]
  },
  {
   "cell_type": "code",
   "execution_count": null,
   "id": "e8f62740-aeec-4be5-9cac-da9849e34ef4",
   "metadata": {},
   "outputs": [],
   "source": []
  }
 ],
 "metadata": {
  "colab": {
   "provenance": [
    {
     "file_id": "/piper/depot/google3/experimental/users/nstoehr/paraMem/notebooks/prototyping/sampling/decoding.ipynb?workspaceId=nstoehr:paraMem::citc",
     "timestamp": 1702174544071
    }
   ]
  },
  "environment": {
   "kernel": "conda-root-venv",
   "name": "workbench-notebooks.m113",
   "type": "gcloud",
   "uri": "gcr.io/deeplearning-platform-release/workbench-notebooks:m113"
  },
  "kernelspec": {
   "display_name": "venv (Local)",
   "language": "python",
   "name": "conda-root-venv"
  },
  "language_info": {
   "codemirror_mode": {
    "name": "ipython",
    "version": 3
   },
   "file_extension": ".py",
   "mimetype": "text/x-python",
   "name": "python",
   "nbconvert_exporter": "python",
   "pygments_lexer": "ipython3",
   "version": "3.9.2"
  }
 },
 "nbformat": 4,
 "nbformat_minor": 5
}
