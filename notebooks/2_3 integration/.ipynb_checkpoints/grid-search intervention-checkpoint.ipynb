{
 "cells": [
  {
   "cell_type": "markdown",
   "id": "b6f1f34f-4d3f-4ca7-9a63-d9e299f6431e",
   "metadata": {},
   "source": [
    "# Grid Search Intervention"
   ]
  },
  {
   "cell_type": "code",
   "execution_count": 1,
   "id": "f360617c-6dfd-47b4-beb1-47028668b10f",
   "metadata": {
    "tags": []
   },
   "outputs": [],
   "source": [
    "#@title Import libraries\n",
    "import transformer_lens\n",
    "import torch, gc, itertools, tqdm, scipy, functools, collections, copy\n",
    "import pandas as pd\n",
    "import numpy as np\n",
    "from pathlib import Path\n",
    "\n",
    "import seaborn as sns\n",
    "import matplotlib as mpl\n",
    "import matplotlib.pyplot as plt\n",
    "\n",
    "mpl.rcParams['axes.spines.top'] = False\n",
    "\n",
    "import sys\n",
    "sys.path.append('/home/jupyter/')\n",
    "from paraMem.utils import localizing, modelHandlers, dataLoaders, gradient, intervening, evaluation"
   ]
  },
  {
   "cell_type": "markdown",
   "id": "049d2f2d-d582-4e95-917e-e02418f5ed7f",
   "metadata": {},
   "source": [
    "## Model and Data"
   ]
  },
  {
   "cell_type": "code",
   "execution_count": 2,
   "id": "307ac1c8-37e0-4bf3-bea5-199d4bc7f34d",
   "metadata": {
    "tags": []
   },
   "outputs": [
    {
     "name": "stdout",
     "output_type": "stream",
     "text": [
      "Loaded pretrained model gpt-neo-125M into HookedTransformer\n"
     ]
    }
   ],
   "source": [
    "model = modelHandlers.load_model(model_type=\"gpt-neo-125M\", DEVICE=\"cpu\", lr=0.0, weight_decay=0.1)"
   ]
  },
  {
   "cell_type": "code",
   "execution_count": 3,
   "id": "11ab37e4-e766-45b7-a631-d1d9f587a403",
   "metadata": {
    "tags": []
   },
   "outputs": [],
   "source": [
    "train_dl, test_dl = dataLoaders.batched_pile(mem_batch=1, non_mem_batch=10, test_frac=0.0, set_twice=None)\n",
    "#dl = dataLoaders.batched_pop_seqs(model, mem_batch=5, non_mem_batch=10)\n",
    "c_toks_NI, k_toks_NI = next(iter(train_dl))"
   ]
  },
  {
   "cell_type": "markdown",
   "id": "d8ad5751-1f40-48e8-87bc-904c8d96acc7",
   "metadata": {},
   "source": [
    "## Run Model and Collect Gradients "
   ]
  },
  {
   "cell_type": "code",
   "execution_count": 4,
   "id": "07332175-0a12-45c3-94a8-c29387761be3",
   "metadata": {
    "scrolled": true,
    "tags": []
   },
   "outputs": [
    {
     "name": "stdout",
     "output_type": "stream",
     "text": [
      "searching over 4 different topK and lr settings\n",
      "lr_vals: [1e-05, 0.0001], topK_vals: [10000, 100000]\n",
      "reset model gpt-neo-125M\n",
      "Loaded pretrained model gpt-neo-125M into HookedTransformer\n"
     ]
    },
    {
     "name": "stderr",
     "output_type": "stream",
     "text": [
      "0it [00:00, ?it/s]"
     ]
    },
    {
     "name": "stdout",
     "output_type": "stream",
     "text": [
      "contrast_res: -2.482818365097046, c_nll: 2.482818365097046, k_nll: 0.0\n"
     ]
    },
    {
     "name": "stderr",
     "output_type": "stream",
     "text": [
      "0it [00:05, ?it/s]"
     ]
    },
    {
     "name": "stdout",
     "output_type": "stream",
     "text": [
      "returning ['blocks.0.mlp.W_in', 'blocks.1.mlp.W_in']... of shape: torch.Size([12, 768, 3072])\n",
      "returning ['blocks.0.mlp.W_out', 'blocks.1.mlp.W_out']... of shape: torch.Size([12, 3072, 768])\n",
      "returning ['blocks.0.attn.W_V', 'blocks.1.attn.W_V']... of shape: torch.Size([12, 12, 768, 64])\n",
      "returning ['blocks.0.attn.W_Q', 'blocks.1.attn.W_Q']... of shape: torch.Size([12, 12, 768, 64])\n",
      "returning ['blocks.0.attn.W_K', 'blocks.1.attn.W_K']... of shape: torch.Size([12, 12, 768, 64])\n"
     ]
    },
    {
     "name": "stderr",
     "output_type": "stream",
     "text": [
      "\n"
     ]
    },
    {
     "name": "stdout",
     "output_type": "stream",
     "text": [
      "---Greedy EM--- change set: 50.0, keep set: 0.0  [mean over 10 seqs]\n",
      "---Mean NLL--- change set: 0.061239998787641525, keep set: 2.5856399536132812\n",
      "reset model gpt-neo-125M\n",
      "Loaded pretrained model gpt-neo-125M into HookedTransformer\n"
     ]
    },
    {
     "name": "stderr",
     "output_type": "stream",
     "text": [
      "0it [00:00, ?it/s]"
     ]
    },
    {
     "data": {
      "application/vnd.jupyter.widget-view+json": {
       "model_id": "41adc4952bef4b7080e6404efb18fb65",
       "version_major": 2,
       "version_minor": 0
      },
      "text/plain": [
       "  0%|          | 0/50 [00:00<?, ?it/s]"
      ]
     },
     "metadata": {},
     "output_type": "display_data"
    },
    {
     "name": "stderr",
     "output_type": "stream",
     "text": [
      "0it [00:03, ?it/s]\n",
      "0it [00:00, ?it/s]"
     ]
    },
    {
     "name": "stdout",
     "output_type": "stream",
     "text": [
      "reset model gpt-neo-125M\n",
      "Loaded pretrained model gpt-neo-125M into HookedTransformer\n",
      "added optimizer with lr: 1e-05 and weight_decay: 0.0\n"
     ]
    },
    {
     "name": "stderr",
     "output_type": "stream",
     "text": [
      "\n",
      "0it [00:00, ?it/s]\u001b[A"
     ]
    },
    {
     "name": "stdout",
     "output_type": "stream",
     "text": [
      "contrast_res: -2.530914783477783, c_nll: 2.530914783477783, k_nll: 0.0\n"
     ]
    },
    {
     "name": "stderr",
     "output_type": "stream",
     "text": [
      "0it [00:05, ?it/s]"
     ]
    },
    {
     "name": "stdout",
     "output_type": "stream",
     "text": [
      "10000 weights in ['W_in', 'W_out', 'W_V', 'W_Q', 'W_K'] with grads > 1.7286754846572876 abs_grad: False\n",
      "clipped at 1.7286754846572876 with keep_neg: False\n",
      "optimizer step\n"
     ]
    },
    {
     "name": "stderr",
     "output_type": "stream",
     "text": [
      "\n"
     ]
    },
    {
     "name": "stdout",
     "output_type": "stream",
     "text": [
      "---Greedy EM--- change set: 42.20000076293945, keep set: 0.0  [mean over 10 seqs]\n",
      "---Mean NLL--- change set: 0.06351999938488007, keep set: 2.5855400562286377\n"
     ]
    },
    {
     "name": "stderr",
     "output_type": "stream",
     "text": [
      "\n",
      "0it [00:00, ?it/s]\u001b[A"
     ]
    },
    {
     "data": {
      "application/vnd.jupyter.widget-view+json": {
       "model_id": "ff56cef15c24470c863bdbe12fd64877",
       "version_major": 2,
       "version_minor": 0
      },
      "text/plain": [
       "  0%|          | 0/50 [00:00<?, ?it/s]"
      ]
     },
     "metadata": {},
     "output_type": "display_data"
    },
    {
     "name": "stderr",
     "output_type": "stream",
     "text": [
      "0it [00:04, ?it/s]\n"
     ]
    },
    {
     "name": "stdout",
     "output_type": "stream",
     "text": [
      "reset model gpt-neo-125M\n",
      "Loaded pretrained model gpt-neo-125M into HookedTransformer\n",
      "added optimizer with lr: 0.0001 and weight_decay: 0.0\n"
     ]
    },
    {
     "name": "stderr",
     "output_type": "stream",
     "text": [
      "\n",
      "0it [00:00, ?it/s]\u001b[A"
     ]
    },
    {
     "name": "stdout",
     "output_type": "stream",
     "text": [
      "contrast_res: -2.530914783477783, c_nll: 2.530914783477783, k_nll: 0.0\n"
     ]
    },
    {
     "name": "stderr",
     "output_type": "stream",
     "text": [
      "0it [00:05, ?it/s]"
     ]
    },
    {
     "name": "stdout",
     "output_type": "stream",
     "text": [
      "10000 weights in ['W_in', 'W_out', 'W_V', 'W_Q', 'W_K'] with grads > 1.7286754846572876 abs_grad: False\n",
      "clipped at 1.7286754846572876 with keep_neg: False\n",
      "optimizer step\n"
     ]
    },
    {
     "name": "stderr",
     "output_type": "stream",
     "text": [
      "\n"
     ]
    },
    {
     "name": "stdout",
     "output_type": "stream",
     "text": [
      "---Greedy EM--- change set: 15.600000381469727, keep set: 0.06000000238418579  [mean over 10 seqs]\n",
      "---Mean NLL--- change set: 0.2958999574184418, keep set: 2.6112000942230225\n"
     ]
    },
    {
     "name": "stderr",
     "output_type": "stream",
     "text": [
      "\n",
      "0it [00:00, ?it/s]\u001b[A"
     ]
    },
    {
     "data": {
      "application/vnd.jupyter.widget-view+json": {
       "model_id": "6351bb3006454f0e83942a338de7fed2",
       "version_major": 2,
       "version_minor": 0
      },
      "text/plain": [
       "  0%|          | 0/50 [00:00<?, ?it/s]"
      ]
     },
     "metadata": {},
     "output_type": "display_data"
    },
    {
     "name": "stderr",
     "output_type": "stream",
     "text": [
      "0it [00:04, ?it/s]\n",
      "1it [00:35, 35.12s/it]"
     ]
    },
    {
     "name": "stdout",
     "output_type": "stream",
     "text": [
      "reset model gpt-neo-125M\n",
      "Loaded pretrained model gpt-neo-125M into HookedTransformer\n",
      "added optimizer with lr: 1e-05 and weight_decay: 0.0\n"
     ]
    },
    {
     "name": "stderr",
     "output_type": "stream",
     "text": [
      "\n",
      "0it [00:00, ?it/s]\u001b[A"
     ]
    },
    {
     "name": "stdout",
     "output_type": "stream",
     "text": [
      "contrast_res: -2.530914783477783, c_nll: 2.530914783477783, k_nll: 0.0\n"
     ]
    },
    {
     "name": "stderr",
     "output_type": "stream",
     "text": [
      "0it [00:05, ?it/s]"
     ]
    },
    {
     "name": "stdout",
     "output_type": "stream",
     "text": [
      "100000 weights in ['W_in', 'W_out', 'W_V', 'W_Q', 'W_K'] with grads > 0.31896504759788513 abs_grad: False\n",
      "clipped at 0.31896504759788513 with keep_neg: False\n",
      "optimizer step\n"
     ]
    },
    {
     "name": "stderr",
     "output_type": "stream",
     "text": [
      "\n"
     ]
    },
    {
     "name": "stdout",
     "output_type": "stream",
     "text": [
      "---Greedy EM--- change set: 42.20000076293945, keep set: 0.0  [mean over 10 seqs]\n",
      "---Mean NLL--- change set: 0.06427999585866928, keep set: 2.5849599838256836\n"
     ]
    },
    {
     "name": "stderr",
     "output_type": "stream",
     "text": [
      "\n",
      "0it [00:00, ?it/s]\u001b[A"
     ]
    },
    {
     "data": {
      "application/vnd.jupyter.widget-view+json": {
       "model_id": "a001f4c6097945c7aaa4061f25c000b0",
       "version_major": 2,
       "version_minor": 0
      },
      "text/plain": [
       "  0%|          | 0/50 [00:00<?, ?it/s]"
      ]
     },
     "metadata": {},
     "output_type": "display_data"
    },
    {
     "name": "stderr",
     "output_type": "stream",
     "text": [
      "0it [00:04, ?it/s]\n"
     ]
    },
    {
     "name": "stdout",
     "output_type": "stream",
     "text": [
      "reset model gpt-neo-125M\n",
      "Loaded pretrained model gpt-neo-125M into HookedTransformer\n",
      "added optimizer with lr: 0.0001 and weight_decay: 0.0\n"
     ]
    },
    {
     "name": "stderr",
     "output_type": "stream",
     "text": [
      "\n",
      "0it [00:00, ?it/s]\u001b[A"
     ]
    },
    {
     "name": "stdout",
     "output_type": "stream",
     "text": [
      "contrast_res: -2.530914783477783, c_nll: 2.530914783477783, k_nll: 0.0\n"
     ]
    },
    {
     "name": "stderr",
     "output_type": "stream",
     "text": [
      "0it [00:05, ?it/s]"
     ]
    },
    {
     "name": "stdout",
     "output_type": "stream",
     "text": [
      "100000 weights in ['W_in', 'W_out', 'W_V', 'W_Q', 'W_K'] with grads > 0.31896504759788513 abs_grad: False\n",
      "clipped at 0.31896504759788513 with keep_neg: False\n",
      "optimizer step\n"
     ]
    },
    {
     "name": "stderr",
     "output_type": "stream",
     "text": [
      "\n"
     ]
    },
    {
     "name": "stdout",
     "output_type": "stream",
     "text": [
      "---Greedy EM--- change set: 14.600000381469727, keep set: 0.0  [mean over 10 seqs]\n",
      "---Mean NLL--- change set: 0.4230400025844574, keep set: 2.641479969024658\n"
     ]
    },
    {
     "name": "stderr",
     "output_type": "stream",
     "text": [
      "\n",
      "0it [00:00, ?it/s]\u001b[A"
     ]
    },
    {
     "data": {
      "application/vnd.jupyter.widget-view+json": {
       "model_id": "5d4412e1dbad489bafc0508a02a62dc2",
       "version_major": 2,
       "version_minor": 0
      },
      "text/plain": [
       "  0%|          | 0/50 [00:00<?, ?it/s]"
      ]
     },
     "metadata": {},
     "output_type": "display_data"
    },
    {
     "name": "stderr",
     "output_type": "stream",
     "text": [
      "0it [00:04, ?it/s]\n",
      "2it [01:08, 34.47s/it]\n"
     ]
    }
   ],
   "source": [
    "def intervention_grid(model, dl, n_batch:int=1, decode_k:bool=True, I_range:list=[50,100], topK_space:tuple=(0,10,5), lr_space:tuple=(0,3,1), c_types:list=None):\n",
    "    \"\"\"\n",
    "    searching for best intervention setting by iterating over ideal intervention values\n",
    "    \"\"\"\n",
    "    ## set up arrays and loop values\n",
    "    lr_vals = lr_space #lr_vals = 10 ** torch.flip(torch.linspace(lr_space[0], lr_space[1], steps=lr_space[2]),dims=(0,))\n",
    "    topK_vals = topK_space #topK_vals = torch.linspace(topK_space[0], topK_space[1], steps=topK_space[2]) \n",
    "    print(f\"searching over {len(lr_vals)*len(topK_vals)} different topK and lr settings\\nlr_vals: {lr_vals}, topK_vals: {topK_vals}\")\n",
    "    ck_em, ck_nll = torch.zeros(len(topK_vals), len(lr_vals)+1,2),torch.zeros(len(topK_vals), len(lr_vals)+1,2)\n",
    "    \n",
    "    ## baseline run without any intervention\n",
    "    model = modelHandlers.load_model(model, lr=0.0)\n",
    "    metric_fn = functools.partial(gradient.contrast_metric, I_range=I_range, with_mse=True, pool={\"c\":[-1],\"k\":[0,-1]}, norm_sets=1.0, only_set=None)\n",
    "    fwd_bwd_fn = functools.partial(gradient.run_fwd_bwd, optim_step=False, topK=None, grad_norm=None)\n",
    "    gradient.batched_fwd_bwd(model, dl, metric_fn, fwd_bwd_fn, n_batches=n_batch, c_types=c_types)\n",
    "    (c_em, k_em), (c_nll, k_nll) = evaluation.batched_model_eval(model, dl=dl, I_range=I_range)\n",
    "    ck_em[:,0,0], ck_em[:,0,1] = c_em, k_em\n",
    "    ck_nll[:,0,0], ck_nll[:,0,1] = c_nll, k_nll\n",
    "    \n",
    "    if decode_k: ## get predictions on k without intervention\n",
    "        model = modelHandlers.load_model(model, lr=0.0)\n",
    "        k_preds_orig, _ = modelHandlers.batch_decode(model, toks_NI=None, dl=train_dl, n_batch=n_batch, new_toks=I_range[1]-I_range[0])\n",
    "        ck_em[:,0,1] = I_range[1]-I_range[0]\n",
    "        \n",
    "    for i, topK_val in tqdm.tqdm(enumerate(topK_vals)):\n",
    "        for j, lr in enumerate(lr_vals):            \n",
    "            model = modelHandlers.load_model(model, lr=lr)\n",
    "            metric_fn = functools.partial(gradient.contrast_metric, I_range=[50,100], with_mse=True, pool={\"c\":[0],\"k\":[0]}, norm_sets=1.0, only_set=None)\n",
    "            fwd_bwd_fn = functools.partial(gradient.run_fwd_bwd, optim_step=True, topK=int(topK_val), grad_norm=None)\n",
    "            weight_gradients = gradient.batched_fwd_bwd(model, dl, metric_fn, fwd_bwd_fn, n_batches=n_batch, c_types=c_types)\n",
    "            \n",
    "            (c_em, k_em), (c_nll, k_nll) = evaluation.batched_model_eval(model, dl=dl, I_range=I_range)\n",
    "            \n",
    "            if decode_k: ## compare against decoding on keep set\n",
    "                k_pred_intervened, _ = modelHandlers.batch_decode(model, toks_NI=None, dl=dl, n_batch=n_batch, new_toks=I_range[1]-I_range[0])\n",
    "                k_em = evaluation.compute_exact_match(k_pred_intervened, k_preds_orig).mean()\n",
    "\n",
    "            ck_em[i,j+1,:] = torch.tensor([c_em, k_em])\n",
    "            ck_nll[i,j+1,:] = torch.tensor([c_nll, k_nll])\n",
    "                   \n",
    "    return ck_em, ck_nll, topK_vals, [0.0] + lr_vals\n",
    "\n",
    "\n",
    "n_batch, I_range, decode_k, topK_space, lr_space, c_types = 1, [50,100], True, [10000,100000], [0.00001, 0.0001], [\"W_in\",\"W_out\",\"W_V\",\"W_Q\",\"W_K\"]\n",
    "ck_em, ck_nll, topK_vals, lr_vals = intervention_grid(model, train_dl, n_batch, decode_k, I_range, topK_space=topK_space, lr_space=lr_space, c_types=c_types)"
   ]
  },
  {
   "cell_type": "code",
   "execution_count": 11,
   "id": "19e01087-12be-4f0c-ade8-afd5da055a5d",
   "metadata": {
    "tags": []
   },
   "outputs": [],
   "source": [
    "def change_keep_metric(ck_em:torch.tensor, ck_nll:torch.tensor):\n",
    "    \"\"\"\n",
    "    computing change metric on em and nll\n",
    "    \"\"\"\n",
    "    c_em, k_em = ck_em[...,0], ck_em[...,1] \n",
    "    c_nll, k_nll = ck_nll[...,0], ck_nll[...,1]\n",
    "    ## dim 0: number of weights, dim 1: noise value\n",
    "\n",
    "    ## exact match\n",
    "    c_em_mse = (0 - c_em[:,:])**2\n",
    "    k_em_mse = (50 - k_em[:,:])**2\n",
    "    em_mse = c_em_mse + k_em_mse\n",
    "    \n",
    "    ## nll match\n",
    "    k_nll_mse = (k_nll[0,0] - k_nll[:,:])**4 ## any change is bad\n",
    "    print((c_nll[:,:])**2)\n",
    "    nll_mse = k_nll_mse - (c_nll[0,0] - c_nll[:,:])**2\n",
    "    return em_mse, nll_mse\n",
    "   \n",
    "#em_mse, nll_mse = change_keep_metric(ck_em, ck_nll)  "
   ]
  },
  {
   "cell_type": "code",
   "execution_count": 12,
   "id": "73ee1065-2521-4228-97c3-9609ff554a95",
   "metadata": {
    "tags": []
   },
   "outputs": [],
   "source": [
    "#fontsize = 10\n",
    "#fig, axs = plt.subplots(1, 2, figsize=(5, 2), gridspec_kw={'hspace': 1.2}, constrained_layout=True)\n",
    "#axs[0].set_title(f\"Exact Match Metric\", fontsize=fontsize, loc=\"left\")\n",
    "#axs[1].set_title(f\"NLL Metric\", fontsize=fontsize, loc=\"left\")\n",
    "\n",
    "#y = list(map(lambda x: round(x, 5), topK_vals))\n",
    "#x = list(map(lambda x: round(x, 5), lr_vals))\n",
    "\n",
    "#metrics = [em_mse, nll_mse]\n",
    "#sns.heatmap(em_mse,cmap=mpl.colormaps[\"Blues_r\"],ax=axs[0], center=0,xticklabels=x,yticklabels=y,square=False)\n",
    "#sns.heatmap(nll_mse,cmap=mpl.colormaps[\"Blues_r\"],ax=axs[1], center=0,xticklabels=x,yticklabels=y,square=False)\n",
    "\n",
    "#axs[0].set_ylabel(f\"topK weights\", fontsize=fontsize)\n",
    "#axs[0].set_xlabel(f\"lr\", fontsize=fontsize)\n",
    "#axs[1].set_xlabel(f\"lr\", fontsize=fontsize)\n"
   ]
  },
  {
   "cell_type": "code",
   "execution_count": 13,
   "id": "797244bf-ac12-42ec-a0f6-f9d6b41ee24c",
   "metadata": {},
   "outputs": [
    {
     "data": {
      "image/png": "[encoded data removed]",
      "text/plain": [
       "<Figure size 900x600 with 4 Axes>"
      ]
     },
     "metadata": {},
     "output_type": "display_data"
    }
   ],
   "source": [
    "fontsize = 9\n",
    "fig, axs = plt.subplots(ck_em.shape[0], 1, figsize=(9, 6), gridspec_kw={'wspace': 0.6}, constrained_layout=True)\n",
    "\n",
    "for i, ax in enumerate(axs):\n",
    "    x = np.arange(0,len(lr_vals),1)\n",
    "    \n",
    "    c_nll, = ax.plot(x, ck_nll[i,:,0].numpy(), c=\"red\", label=\"change set\")\n",
    "    k_nll, = ax.plot(x, ck_nll[i,:,1].numpy(), c=\"blue\", label=\"keep set\")\n",
    "    ax.axhline(y=ck_nll[i,0,1], color='r', linestyle='--', c=\"blue\", alpha=0.5)\n",
    "\n",
    "    ax2 = ax.twinx()\n",
    "    c_em = ax2.scatter(x, ck_em[i,:,0].numpy(), c=\"red\", marker=\"v\", label=\"change set em\")\n",
    "    k_em = ax2.scatter(x, ck_em[i,:,1].numpy(), c=\"blue\", marker=\"^\", label=\"keep set em\")\n",
    "    ax.axvline(x=0, color='r', linestyle='-', c=\"black\", alpha=0.2)\n",
    "\n",
    "    #ax.set_xscale('log')\n",
    "    #ax.set_xscale('function', functions=(functools.partial(np.power, 10.0), np.log10))\n",
    "\n",
    "    #plot_summary = f\"Intervening on top {model.cfg.intervention['n_weights']} max gradient weights {model.cfg.intervention['c_types']}\"\n",
    "    #plot_summary = f\"Intervening on top {model.cfg.intervention['n_weights']} max gradient weights {model.cfg.intervention['c_types']} in layers: {', '.join((str(l) for l in model.cfg.intervention['layers']))}\"\n",
    "    ax.set_title(f\"Intervening on {topK_vals[i]} weights\", fontsize=fontsize, loc=\"left\")\n",
    "    if i == ck_em.shape[0]-1:\n",
    "        ax.set_xlabel('Model Learning Rate', fontsize=fontsize)\n",
    "    #ax.set_xticklabels(lr_vals.tolist())\n",
    "    ax.set_xticks(x)\n",
    "    ax.set_xticklabels(lr_vals)\n",
    "    \n",
    "    ax.set_ylabel(r'mean NLL', fontsize=fontsize) #\\searrow\n",
    "    ax2.set_ylabel(r'exact match $\\triangle$', fontsize=fontsize) #\\bullet\n",
    "    ax.set_ylim(0,ck_nll[0,0,0]+5)\n",
    "    ax2.set_ylim(0,ck_em[0,0,0]+5)\n",
    "    legend = ax.legend(handles=[c_nll, k_nll], frameon=False, bbox_to_anchor=(0.2, -0.17), ncol=2, prop={'size': fontsize}, handlelength=0)\n",
    "    for text, color in zip(legend.get_texts(), [\"red\", \"blue\"]):\n",
    "        text.set_color(color) \n",
    "    #ax.savefig(\"...\", dpi=200, bbox_inches='tight')"
   ]
  },
  {
   "cell_type": "code",
   "execution_count": null,
   "id": "5b0818ed-2ede-4ab2-a659-40d85c6e95ce",
   "metadata": {},
   "outputs": [],
   "source": []
  },
  {
   "cell_type": "code",
   "execution_count": null,
   "id": "4f53f36a-0062-414a-9ebb-4ad1fb60fcb8",
   "metadata": {},
   "outputs": [],
   "source": []
  }
 ],
 "metadata": {
  "environment": {
   "kernel": "conda-root-venv",
   "name": "workbench-notebooks.m113",
   "type": "gcloud",
   "uri": "gcr.io/deeplearning-platform-release/workbench-notebooks:m113"
  },
  "kernelspec": {
   "display_name": "venv (Local)",
   "language": "python",
   "name": "conda-root-venv"
  },
  "language_info": {
   "codemirror_mode": {
    "name": "ipython",
    "version": 3
   },
   "file_extension": ".py",
   "mimetype": "text/x-python",
   "name": "python",
   "nbconvert_exporter": "python",
   "pygments_lexer": "ipython3",
   "version": "3.9.2"
  }
 },
 "nbformat": 4,
 "nbformat_minor": 5
}
