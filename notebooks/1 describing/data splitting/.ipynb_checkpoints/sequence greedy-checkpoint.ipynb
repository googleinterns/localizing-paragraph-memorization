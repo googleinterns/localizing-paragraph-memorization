{
 "cells": [
  {
   "cell_type": "markdown",
   "metadata": {
    "id": "dpwqVC2kjN_s"
   },
   "source": [
    "# Pile Greedy Sampling"
   ]
  },
  {
   "cell_type": "code",
   "execution_count": 2,
   "metadata": {
    "colab": {
     "base_uri": "https://localhost:8080/",
     "height": 467
    },
    "executionInfo": {
     "elapsed": 233,
     "status": "error",
     "timestamp": 1702676568256,
     "user": {
      "displayName": "Niklas Stoehr",
      "userId": "03296628557932703282"
     },
     "user_tz": 480
    },
    "id": "iZh_O22ejqP_",
    "outputId": "bb9d09e3-a0b7-49aa-e3a0-f400c6e531f1",
    "tags": []
   },
   "outputs": [
    {
     "name": "stderr",
     "output_type": "stream",
     "text": [
      "/usr/lib/python3/dist-packages/requests/__init__.py:87: RequestsDependencyWarning: urllib3 (2.1.0) or chardet (4.0.0) doesn't match a supported version!\n",
      "  warnings.warn(\"urllib3 ({}) or chardet ({}) doesn't match a supported \"\n"
     ]
    }
   ],
   "source": [
    "import transformer_lens, torch, tqdm, itertools\n",
    "import pandas as pd\n",
    "import numpy as np\n",
    "from pathlib import Path\n",
    "from toolz import compose\n",
    "\n",
    "import sys\n",
    "sys.path.append('/home/jupyter/')\n",
    "from paraMem.utils import helpers, modelHandlers, dataLoaders"
   ]
  },
  {
   "cell_type": "code",
   "execution_count": 3,
   "metadata": {
    "colab": {
     "base_uri": "https://localhost:8080/",
     "height": 287
    },
    "executionInfo": {
     "elapsed": 220,
     "status": "error",
     "timestamp": 1702675861135,
     "user": {
      "displayName": "Niklas Stoehr",
      "userId": "03296628557932703282"
     },
     "user_tz": 480
    },
    "id": "QaoCOT6Jybcf",
    "outputId": "0b057fda-996d-403d-981f-e492ab98b3dc",
    "tags": []
   },
   "outputs": [
    {
     "name": "stdout",
     "output_type": "stream",
     "text": [
      "Loaded pretrained model gpt-neo-125M into HookedTransformer\n",
      "set no_grad on ['embed', 'pos_embed', 'unembed']\n"
     ]
    }
   ],
   "source": [
    "torch.set_grad_enabled(False)\n",
    "torch.cuda.empty_cache()\n",
    "model = modelHandlers.load_model(model_type=\"gpt-neo-125M\", DEVICE=\"cuda\")\n",
    "modelHandlers.set_no_grad(model, [\"embed\", \"pos_embed\", \"unembed\"])"
   ]
  },
  {
   "cell_type": "markdown",
   "metadata": {
    "id": "HHnMm_uxy33g"
   },
   "source": [
    "## Loading seqs from the Pile\n",
    "\n",
    "https://github.com/ethz-spylab/lm_memorization_data\n"
   ]
  },
  {
   "cell_type": "code",
   "execution_count": 10,
   "metadata": {
    "tags": []
   },
   "outputs": [],
   "source": [
    "def expand_filter_list(filter_str:list):    \n",
    "    filter_str_expanded = [(term, term.upper(), term.capitalize()) for term in filter_str]\n",
    "    filter_str_expanded = list(itertools.chain.from_iterable(filter_str_expanded))\n",
    "    filter_str_expanded += [\" \" + term for term in filter_str_expanded]\n",
    "    return filter_str_expanded\n",
    "\n",
    "filter_str = [\"license\", \"copyright\", \"software\", \"manuscript\", \"submission\", \"distribution\", \"disclaimed\",\"limited\"]\n",
    "filter_str = expand_filter_list(filter_str)"
   ]
  },
  {
   "cell_type": "code",
   "execution_count": 21,
   "metadata": {
    "id": "Rlle0GYFixmS",
    "tags": []
   },
   "outputs": [
    {
     "name": "stdout",
     "output_type": "stream",
     "text": [
      "filtering tokens and eos: 50256\n",
      "count_ranges [[1, 500]]\n",
      "torch.Size([3538, 100]) tensor(498)\n"
     ]
    }
   ],
   "source": [
    "filter_toks = model.to_tokens(filter_str)\n",
    "toks_NI, counts_N = dataLoaders.load_pile_seqs(seq_length=100, n_seqs=1000000, uni_tok_frac=0.7, filter_toks=filter_toks, count_ranges=[[1,500]], k_uniform=None)\n",
    "\n",
    "print(toks_NI.shape, max(counts_N))"
   ]
  },
  {
   "cell_type": "code",
   "execution_count": 22,
   "metadata": {
    "tags": []
   },
   "outputs": [
    {
     "name": "stderr",
     "output_type": "stream",
     "text": [
      "100%|██████████| 71/71 [00:52<00:00,  1.35it/s]"
     ]
    },
    {
     "name": "stdout",
     "output_type": "stream",
     "text": [
      "tensor([2, 0, 3,  ..., 0, 0, 0])\n"
     ]
    },
    {
     "name": "stderr",
     "output_type": "stream",
     "text": [
      "\n"
     ]
    }
   ],
   "source": [
    "def argmax_greedy(model, toks_NI:torch.LongTensor, new_toks:int=50, batch_size:int=5):\n",
    "    toks_NI = toks_NI.detach().to(model.cfg.device) ## detach and put on device\n",
    "    preds_NI, trues_NI = torch.LongTensor(toks_NI.shape[0], new_toks), torch.LongTensor(toks_NI.shape[0], new_toks)\n",
    "    \n",
    "    toks_BNI = torch.split(toks_NI.detach(), batch_size) ## split in batches\n",
    "    for b, toks_NI in enumerate(tqdm.tqdm(toks_BNI)):\n",
    "        logits_NIT = model(toks_NI.detach())\n",
    "        \n",
    "        logits_NIT = logits_NIT[...,-(new_toks+1):-1,:] ## only take continuations \n",
    "        top_scores_Ik, top_idcs_Ik = helpers.get_topK(logits_NIT[...,:,:], topK=1, minK=False)\n",
    "        \n",
    "        current_B = toks_NI.shape[0]\n",
    "        preds_NI[b*batch_size:(b*batch_size)+current_B,:] = top_idcs_Ik[...,0]\n",
    "        trues_NI[b*batch_size:(b*batch_size)+current_B,:] = toks_NI.detach()[...,-new_toks:]\n",
    "        del logits_NIT\n",
    "        del toks_NI\n",
    "    return preds_NI, trues_NI\n",
    "\n",
    "preds_NI, trues_NI = argmax_greedy(model, toks_NI, batch_size=50)\n",
    "em_N = compute_exact_match(preds_NI, trues_NI)\n",
    "print(em_N)"
   ]
  },
  {
   "cell_type": "code",
   "execution_count": 23,
   "metadata": {},
   "outputs": [
    {
     "name": "stdout",
     "output_type": "stream",
     "text": [
      "found 8 paragraphs of >= 50\n"
     ]
    },
    {
     "data": {
      "text/html": [
       "<div>\n",
       "<style scoped>\n",
       "    .dataframe tbody tr th:only-of-type {\n",
       "        vertical-align: middle;\n",
       "    }\n",
       "\n",
       "    .dataframe tbody tr th {\n",
       "        vertical-align: top;\n",
       "    }\n",
       "\n",
       "    .dataframe thead th {\n",
       "        text-align: right;\n",
       "    }\n",
       "</style>\n",
       "<table border=\"1\" class=\"dataframe\">\n",
       "  <thead>\n",
       "    <tr style=\"text-align: right;\">\n",
       "      <th></th>\n",
       "      <th>paragraph</th>\n",
       "      <th>count</th>\n",
       "    </tr>\n",
       "  </thead>\n",
       "  <tbody>\n",
       "    <tr>\n",
       "      <th>0</th>\n",
       "      <td>offender or victim online pointed to media co...</td>\n",
       "      <td>294</td>\n",
       "    </tr>\n",
       "    <tr>\n",
       "      <th>1</th>\n",
       "      <td>. He also watched the Flyers bully their way t...</td>\n",
       "      <td>113</td>\n",
       "    </tr>\n",
       "    <tr>\n",
       "      <th>2</th>\n",
       "      <td>HREF=\"http://developer.android.com/reference/...</td>\n",
       "      <td>9</td>\n",
       "    </tr>\n",
       "    <tr>\n",
       "      <th>3</th>\n",
       "      <td>Written informed consent was obtained from the...</td>\n",
       "      <td>438</td>\n",
       "    </tr>\n",
       "    <tr>\n",
       "      <th>4</th>\n",
       "      <td>, always with the best discounts and special o...</td>\n",
       "      <td>342</td>\n",
       "    </tr>\n",
       "    <tr>\n",
       "      <th>5</th>\n",
       "      <td>which application is best for the job? Post y...</td>\n",
       "      <td>142</td>\n",
       "    </tr>\n",
       "    <tr>\n",
       "      <th>6</th>\n",
       "      <td>=\"fields_inherited_from_class_com.fasterxml.ja...</td>\n",
       "      <td>49</td>\n",
       "    </tr>\n",
       "    <tr>\n",
       "      <th>7</th>\n",
       "      <td>our readers to try to keep our comment sectio...</td>\n",
       "      <td>316</td>\n",
       "    </tr>\n",
       "  </tbody>\n",
       "</table>\n",
       "</div>"
      ],
      "text/plain": [
       "                                           paragraph  count\n",
       "0   offender or victim online pointed to media co...    294\n",
       "1  . He also watched the Flyers bully their way t...    113\n",
       "2   HREF=\"http://developer.android.com/reference/...      9\n",
       "3  Written informed consent was obtained from the...    438\n",
       "4  , always with the best discounts and special o...    342\n",
       "5   which application is best for the job? Post y...    142\n",
       "6  =\"fields_inherited_from_class_com.fasterxml.ja...     49\n",
       "7   our readers to try to keep our comment sectio...    316"
      ]
     },
     "execution_count": 23,
     "metadata": {},
     "output_type": "execute_result"
    }
   ],
   "source": [
    "min_em = 50\n",
    "idcs = torch.where(em_N >= min_em)[0]\n",
    "print(f\"found {len(idcs)} paragraphs of >= {min_em}\")\n",
    "df = pd.DataFrame(list(zip(model.to_string(toks_NI[idcs]), counts_N[idcs].tolist())), columns=[\"paragraph\",\"count\"])\n",
    "df.to_csv('50_matches.csv', index=False)\n",
    "df"
   ]
  },
  {
   "cell_type": "code",
   "execution_count": 15,
   "metadata": {
    "colab": {
     "base_uri": "https://localhost:8080/"
    },
    "executionInfo": {
     "elapsed": 321954,
     "status": "ok",
     "timestamp": 1702611499863,
     "user": {
      "displayName": "Niklas Stoehr",
      "userId": "03296628557932703282"
     },
     "user_tz": 480
    },
    "id": "YNkyk0DiQRPy",
    "outputId": "86469fc8-d49d-46cc-9fd5-4c2871e908ed",
    "tags": []
   },
   "outputs": [
    {
     "name": "stderr",
     "output_type": "stream",
     "text": [
      "0it [00:00, ?it/s]"
     ]
    },
    {
     "data": {
      "application/vnd.jupyter.widget-view+json": {
       "model_id": "cd3a2365325c4c5eaa05a5d9407d2e58",
       "version_major": 2,
       "version_minor": 0
      },
      "text/plain": [
       "  0%|          | 0/50 [00:00<?, ?it/s]"
      ]
     },
     "metadata": {},
     "output_type": "display_data"
    },
    {
     "name": "stderr",
     "output_type": "stream",
     "text": [
      "1it [00:02,  2.27s/it]"
     ]
    },
    {
     "data": {
      "application/vnd.jupyter.widget-view+json": {
       "model_id": "a2f59b269be1447fa901457e5b09526d",
       "version_major": 2,
       "version_minor": 0
      },
      "text/plain": [
       "  0%|          | 0/50 [00:00<?, ?it/s]"
      ]
     },
     "metadata": {},
     "output_type": "display_data"
    },
    {
     "name": "stderr",
     "output_type": "stream",
     "text": [
      "2it [00:04,  1.99s/it]"
     ]
    },
    {
     "data": {
      "application/vnd.jupyter.widget-view+json": {
       "model_id": "1f8ecd7d6ee54240aa7dc6b0c14507e0",
       "version_major": 2,
       "version_minor": 0
      },
      "text/plain": [
       "  0%|          | 0/50 [00:00<?, ?it/s]"
      ]
     },
     "metadata": {},
     "output_type": "display_data"
    },
    {
     "name": "stderr",
     "output_type": "stream",
     "text": [
      "2it [00:04,  2.24s/it]\n",
      "\n",
      "KeyboardInterrupt\n",
      "\n"
     ]
    }
   ],
   "source": [
    "def batch_decode(model, toks_NI:torch.LongTensor, new_toks:int=50, batch_size:int=5, stop_at_eos:bool=True):\n",
    "    toks_NI = toks_NI.detach().to(model.cfg.device) ## detach and put on device\n",
    "    preds_NI, trues_NI = torch.LongTensor(toks_NI.shape[0], new_toks), torch.LongTensor(toks_NI.shape[0], new_toks)\n",
    "    \n",
    "    toks_BNI = torch.split(toks_NI.detach(), batch_size) ## split in batches\n",
    "    for b, toks_NI in tqdm.tqdm(enumerate(toks_BNI)):\n",
    "        toks_NI_pref, toks_NI_true = toks_NI.detach()[...,:-new_toks], toks_NI.detach()[...,-new_toks:]\n",
    "        toks_NI_pred = model.generate(input=toks_NI_pref, max_new_tokens=new_toks, stop_at_eos=stop_at_eos, eos_token_id=None, do_sample=False, top_k=None, top_p=None, temperature=1.0)\n",
    "        toks_NI_pred = toks_NI_pred[...,-new_toks:] ## only take continuations  \n",
    "        \n",
    "        N = toks_NI.shape[0]\n",
    "        current_B = toks_NI.shape[0]\n",
    "        preds_NI[b*batch_size:(b*batch_size)+current_B,:] = toks_NI_pred\n",
    "        trues_NI[b*batch_size:(b*batch_size)+current_B,:] = toks_NI_true\n",
    "        del toks_NI_pred\n",
    "    del toks_NI\n",
    "    return preds_NI, trues_NI\n",
    "\n",
    "preds_NI, trues_NI = batch_decode(model, toks_NI, batch_size=50)"
   ]
  },
  {
   "cell_type": "code",
   "execution_count": 13,
   "metadata": {
    "tags": []
   },
   "outputs": [],
   "source": [
    "def compute_exact_match(preds_NI:torch.LongTensor, trues_NI:torch.LongTensor, until_wrong:bool=True):\n",
    "    em_NI = torch.where(preds_NI==trues_NI, 1, 0)\n",
    "    em_NI = torch.cat([em_NI,torch.zeros(em_NI.shape[0],1)], dim=-1) ## add zero at the end\n",
    "    if until_wrong: ## count exact match until first wrong prediction\n",
    "        em_counts = em_NI.argmin(dim=1)\n",
    "    else:\n",
    "        em_counts = em_NI.sum(-1)\n",
    "    return em_counts\n",
    "\n",
    "em_N = compute_exact_match(preds_NI, trues_NI)"
   ]
  },
  {
   "cell_type": "code",
   "execution_count": 6,
   "metadata": {
    "colab": {
     "base_uri": "https://localhost:8080/",
     "height": 222
    },
    "executionInfo": {
     "elapsed": 995,
     "status": "ok",
     "timestamp": 1702611585758,
     "user": {
      "displayName": "Niklas Stoehr",
      "userId": "03296628557932703282"
     },
     "user_tz": 480
    },
    "id": "IO4peew2TynP",
    "outputId": "eb14902d-5aa0-494d-873d-a95ae49d1319",
    "tags": []
   },
   "outputs": [
    {
     "data": {
      "text/plain": [
       "Text(0, 0.5, 'exact match of number of tokens')"
      ]
     },
     "execution_count": 6,
     "metadata": {},
     "output_type": "execute_result"
    },
    {
     "data": {
      "image/png": "[encoded data removed]",
      "text/plain": [
       "<Figure size 900x500 with 1 Axes>"
      ]
     },
     "metadata": {},
     "output_type": "display_data"
    }
   ],
   "source": [
    "import matplotlib as mpl\n",
    "import matplotlib.pyplot as plt\n",
    "from matplotlib.ticker import FuncFormatter, MaxNLocator\n",
    "\n",
    "mpl.rcParams['axes.spines.right'] = False\n",
    "mpl.rcParams['axes.spines.top'] = False\n",
    "\n",
    "fontsize = 12\n",
    "std_jit = 0.5\n",
    "fig, ax = plt.subplots(1, 1, figsize=(9, 5), gridspec_kw={'hspace': 0.4})\n",
    "\n",
    "x = counts_N.numpy() + np.random.uniform(0, std_jit, em_N.shape)\n",
    "y = em_N.detach().cpu().numpy() + np.random.uniform(0, std_jit, em_N.shape)\n",
    "em = ax.scatter(x, y, alpha=0.2, label=\"exact match\")\n",
    "ax.legend(handles=[em], loc='lower right') #minK, mean, \n",
    "\n",
    "ax.set_xscale('log')\n",
    "ax.set_xlabel('number of times sequence appears in training data', fontsize=fontsize)\n",
    "ax.set_ylabel('exact match of number of tokens', fontsize=fontsize)\n",
    "#top1, = ax.plot(x, top_logits[...,0,:].detach().squeeze().numpy(), label=\"\")\n",
    "#top2, = ax.plot(x, top_logits[...,1,:].detach().squeeze().numpy(), label=f\"top2 {model.to_string(top_indc[...,1,:])}\")\n"
   ]
  },
  {
   "cell_type": "code",
   "execution_count": null,
   "metadata": {},
   "outputs": [],
   "source": []
  }
 ],
 "metadata": {
  "accelerator": "GPU",
  "colab": {
   "authorship_tag": "ABX9TyO+ZxywYIB/Bk/v8xqveO03",
   "gpuType": "T4",
   "mount_file_id": "169QQ_PVjQB_juISfLhE9Vuevo3PkQsNF",
   "provenance": []
  },
  "environment": {
   "kernel": "venv",
   "name": ".m114",
   "type": "gcloud",
   "uri": "gcr.io/deeplearning-platform-release/:m114"
  },
  "kernelspec": {
   "display_name": "venv",
   "language": "python",
   "name": "venv"
  },
  "language_info": {
   "codemirror_mode": {
    "name": "ipython",
    "version": 3
   },
   "file_extension": ".py",
   "mimetype": "text/x-python",
   "name": "python",
   "nbconvert_exporter": "python",
   "pygments_lexer": "ipython3",
   "version": "3.9.2"
  }
 },
 "nbformat": 4,
 "nbformat_minor": 4
}
