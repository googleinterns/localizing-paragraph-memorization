{
 "cells": [
  {
   "cell_type": "markdown",
   "id": "60cddc2a",
   "metadata": {},
   "source": [
    "\n",
    "Copyright 2024 Google LLC\n",
    "\n",
    "Licensed under the Apache License, Version 2.0 (the \"License\");\n",
    "you may not use this file except in compliance with the License.\n",
    "You may obtain a copy of the License at\n",
    "\n",
    "    http://www.apache.org/licenses/LICENSE-2.0\n",
    "\n",
    "Unless required by applicable law or agreed to in writing, software\n",
    "distributed under the License is distributed on an \"AS IS\" BASIS,\n",
    "WITHOUT WARRANTIES OR CONDITIONS OF ANY KIND, either express or implied.\n",
    "See the License for the specific language governing permissions and\n",
    "limitations under the License.\n"
   ]
  },
  {
   "cell_type": "markdown",
   "id": "37a7efc8-1b5f-47da-b0cd-76f930597a26",
   "metadata": {},
   "source": [
    "# Popular Sequence Dataset"
   ]
  },
  {
   "cell_type": "code",
   "execution_count": 19,
   "id": "6d551c4b-aed8-4f2d-b407-f9a2481f6179",
   "metadata": {
    "tags": []
   },
   "outputs": [],
   "source": [
    "import sys, os, functools, torch\n",
    "sys.path.append('/home/jupyter/')\n",
    "import numpy as np\n",
    "import pandas as pd\n",
    "from pathlib import Path\n",
    "\n",
    "from paraMem.utils import modelHandlers, helpers"
   ]
  },
  {
   "cell_type": "code",
   "execution_count": 17,
   "id": "5c549810-9801-476b-a1fa-adba5ae78fec",
   "metadata": {
    "tags": []
   },
   "outputs": [],
   "source": [
    "def load_pop_seqs(exclude_types:list=None):\n",
    "    df = pd.read_csv(\"/home/jupyter/paraMem/data/popular_seqs/popular_seqs.csv\")\n",
    "    if exclude_types is not None:\n",
    "        df = df[~df['type'].isin(exclude_types)] \n",
    "    seqs_str = df[\"paragraphs\"].to_list()\n",
    "    return seqs_str\n",
    "    \n",
    "seqs_str = load_pop_seqs(exclude_types=[\"idiom\"])"
   ]
  },
  {
   "cell_type": "code",
   "execution_count": 22,
   "id": "5e3f9a8b-590d-4dbf-8a2d-2a9b81d62079",
   "metadata": {
    "tags": []
   },
   "outputs": [
    {
     "name": "stdout",
     "output_type": "stream",
     "text": [
      "Loaded pretrained model gpt-neo-125M into HookedTransformer\n",
      "set no_grad on ['embed', 'pos_embed', 'unembed']\n"
     ]
    }
   ],
   "source": [
    "torch.set_grad_enabled(False)\n",
    "model = modelHandlers.load_model(model_type=\"gpt-neo-125M\", DEVICE=\"cpu\")\n",
    "modelHandlers.set_no_grad(model, [\"embed\", \"pos_embed\", \"unembed\"])"
   ]
  },
  {
   "cell_type": "code",
   "execution_count": 35,
   "id": "8def84d2-e8c2-4eed-9d18-0485d683cc1f",
   "metadata": {
    "tags": []
   },
   "outputs": [],
   "source": [
    "toks_NI = model.to_tokens(seqs_str)[:,:100] \n",
    "logs_NIT = model(toks_NI.detach())\n",
    "nll_NIT = helpers.NegLogLik(logs_NIT)\n",
    "nll_NI = helpers.gather_token_scores(nll_NIT, toks_NI, pool=[])\n",
    "\n",
    "mean_nll = nll_NI.mean(-1) ## (1) NLL mean\n",
    "nll_Nk, idcs_Nk = torch.topk(nll_NI, k=int(0.2*nll_NI.shape[-1]), largest=True, dim=-1) ## (2) minK\n",
    "minK_nll = nll_Nk.mean(-1)\n"
   ]
  },
  {
   "cell_type": "code",
   "execution_count": 39,
   "id": "edfe822e-de71-4c1c-9f85-6cf8fda6a291",
   "metadata": {
    "tags": []
   },
   "outputs": [
    {
     "data": {
      "text/plain": [
       "tensor([9.7275, 7.2896, 8.9266, 7.6466, 7.6885, 8.9015, 8.8846, 9.4874, 8.2477,\n",
       "        8.8526, 9.2673, 7.2373])"
      ]
     },
     "execution_count": 39,
     "metadata": {},
     "output_type": "execute_result"
    }
   ],
   "source": [
    "minK_nll"
   ]
  },
  {
   "cell_type": "code",
   "execution_count": null,
   "id": "f0b59321-6ac6-4f5f-af22-1dc3921e1644",
   "metadata": {},
   "outputs": [],
   "source": []
  }
 ],
 "metadata": {
  "environment": {
   "kernel": "venv",
   "name": ".m114",
   "type": "gcloud",
   "uri": "gcr.io/deeplearning-platform-release/:m114"
  },
  "kernelspec": {
   "display_name": "venv",
   "language": "python",
   "name": "venv"
  },
  "language_info": {
   "codemirror_mode": {
    "name": "ipython",
    "version": 3
   },
   "file_extension": ".py",
   "mimetype": "text/x-python",
   "name": "python",
   "nbconvert_exporter": "python",
   "pygments_lexer": "ipython3",
   "version": "3.9.2"
  }
 },
 "nbformat": 4,
 "nbformat_minor": 5
}
