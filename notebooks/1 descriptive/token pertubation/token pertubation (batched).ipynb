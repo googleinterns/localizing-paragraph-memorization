{
 "cells": [
  {
   "cell_type": "markdown",
   "id": "ce1427b1",
   "metadata": {},
   "source": [
    "\n",
    "Copyright 2024 Google LLC\n",
    "\n",
    "Licensed under the Apache License, Version 2.0 (the \"License\");\n",
    "you may not use this file except in compliance with the License.\n",
    "You may obtain a copy of the License at\n",
    "\n",
    "    http://www.apache.org/licenses/LICENSE-2.0\n",
    "\n",
    "Unless required by applicable law or agreed to in writing, software\n",
    "distributed under the License is distributed on an \"AS IS\" BASIS,\n",
    "WITHOUT WARRANTIES OR CONDITIONS OF ANY KIND, either express or implied.\n",
    "See the License for the specific language governing permissions and\n",
    "limitations under the License.\n"
   ]
  },
  {
   "cell_type": "markdown",
   "id": "dfd1f6f4-33c6-4783-b09f-b90f27c722bb",
   "metadata": {},
   "source": [
    "# Token Patching (Batched)"
   ]
  },
  {
   "cell_type": "code",
   "execution_count": null,
   "id": "99a6d46f-6095-49f3-97e9-efa25aef4ca1",
   "metadata": {
    "tags": []
   },
   "outputs": [],
   "source": [
    "import tqdm, torch\n",
    "import numpy as np\n",
    "import matplotlib as mpl\n",
    "import matplotlib.pyplot as plt\n",
    "\n",
    "#mpl.rcParams['axes.spines.right'] = False\n",
    "mpl.rcParams['axes.spines.top'] = False\n",
    "\n",
    "import sys\n",
    "sys.path.append('/home/jupyter/')\n",
    "from paraMem.utils import modelHandlers, dataLoaders, patching, evaluation"
   ]
  },
  {
   "cell_type": "markdown",
   "id": "15ba3aac-ade0-4355-aced-25b363a88692",
   "metadata": {},
   "source": [
    "## Model"
   ]
  },
  {
   "cell_type": "code",
   "execution_count": null,
   "id": "af1d4538-1261-46be-b4ea-bf3456e41b0d",
   "metadata": {
    "tags": []
   },
   "outputs": [],
   "source": [
    "model_type = \"gpt-neo-125M\"\n",
    "model = modelHandlers.load_model(model_type=model_type, DEVICE=\"cuda\", lr=0.0, weight_decay=0.01)"
   ]
  },
  {
   "cell_type": "markdown",
   "id": "88815d5a-5c56-4e9b-b818-b54af6c259ae",
   "metadata": {},
   "source": [
    "## Data"
   ]
  },
  {
   "cell_type": "code",
   "execution_count": null,
   "id": "c962521b-cad5-4525-8593-8f1c1f179c64",
   "metadata": {
    "tags": []
   },
   "outputs": [],
   "source": [
    "mem_nonmem_sets  = dataLoaders.load_pile_splits(f\"{model_type}/preds\", file_names=[\"50_50_preds.pt\", \"0_10_preds.pt\"], as_torch=True)\n",
    "mem_set, non_mem_set = mem_nonmem_sets[0], mem_nonmem_sets[1]\n",
    "train_dl, test_dl = dataLoaders.train_test_batching(mem_set, non_mem_set, mem_batch=30, non_mem_batch=30, test_frac=0.2, add_bos=None)\n",
    "c_toks_NI, k_toks_NI = next(iter(train_dl))\n",
    "c_toks_NI = c_toks_NI.squeeze(0)"
   ]
  },
  {
   "cell_type": "markdown",
   "id": "c3134a4d-8523-4d14-9568-584d2625d1bf",
   "metadata": {},
   "source": [
    "## Generate Perturbed Changed Sets"
   ]
  },
  {
   "cell_type": "code",
   "execution_count": null,
   "id": "f4c2993d-bdc0-4ac5-b3bb-6ccf3a7d5f6b",
   "metadata": {
    "tags": []
   },
   "outputs": [],
   "source": [
    "def generate_perturbed_set(train_dl, n_batches:int=4, decode:bool=False, disable_tqdm:bool=True, mem_set:bool=False):\n",
    "    \"\"\"\n",
    "    generate a dataset from memorized paragraphs and their minimal pertubations \n",
    "    \"\"\" \n",
    "    c_set, c_set_perturbed = [], []\n",
    "    nll_metric_NI, em_metric_NI = [], []\n",
    "    for batch_i, (c_toks_NI, k_toks_NI) in enumerate(tqdm.tqdm(train_dl, total=n_batches, disable=False)):\n",
    "        \n",
    "        if mem_set: ##perturb memorized set\n",
    "            toks_NI = c_toks_NI.squeeze(0)\n",
    "        else: ## perturb non-memorized set\n",
    "            toks_NI = k_toks_NI.squeeze(0)\n",
    "            \n",
    "        pref_cont_split = int(toks_NI.shape[-1] / 2)\n",
    "        pref_NI = toks_NI[:,:pref_cont_split].clone()\n",
    "    \n",
    "        pertubed_pref_NI = patching.get_random_tok(pref_NI, vocab_size= model.cfg.d_vocab, seed=-1)\n",
    "        nll_metric, em_metric, most_changed_preds, interv_tok_pos = patching.token_patching_loop(model, toks_NI, pertubed_pref_NI, decode=decode, em_until_wrong=True, disable_tqdm=disable_tqdm)\n",
    "        nll_metric_NI.append(nll_metric)\n",
    "        em_metric_NI.append(em_metric)\n",
    "        \n",
    "        pref_NI[torch.arange(0,toks_NI.shape[0]),interv_tok_pos] = pertubed_pref_NI[torch.arange(0,toks_NI.shape[0]),interv_tok_pos] ## replace intervention token in prefix        \n",
    "        c_set_perturbed.append(torch.cat([pref_NI, most_changed_preds], dim=-1).squeeze())\n",
    "        c_set.append(c_toks_NI.squeeze(0))\n",
    "\n",
    "        if batch_i+1 == n_batches:\n",
    "            ## convert to tensor and reshape back to N x I shape\n",
    "            c_set, c_set_perturbed = torch.stack(c_set), torch.stack(c_set_perturbed)\n",
    "            c_set, c_set_perturbed = c_set.view(-1, c_set.shape[-1]), c_set_perturbed.view(-1, c_set_perturbed.shape[-1])\n",
    "            nll_metric_NI, em_metric_NI = torch.stack(nll_metric_NI).view(-1, pref_cont_split), torch.stack(em_metric_NI).view(-1, pref_cont_split)\n",
    "            return (c_set, c_set_perturbed), (nll_metric_NI, em_metric_NI)\n",
    "\n",
    "(c_set, c_set_perturbed),(c_nll_metric_NI, c_em_metric_NI)  = generate_perturbed_set(train_dl, n_batches=3, decode=True, mem_set=True)\n",
    "(k_set, k_set_perturbed),(k_nll_metric_NI, k_em_metric_NI)  = generate_perturbed_set(train_dl, n_batches=3, decode=True, mem_set=False)"
   ]
  },
  {
   "cell_type": "markdown",
   "id": "e058d82e-4ec6-43f1-b1e2-d5fe08c8e744",
   "metadata": {},
   "source": [
    "### Avergae drop in EM per token"
   ]
  },
  {
   "cell_type": "code",
   "execution_count": null,
   "id": "af9aaa33-1128-4aa2-a91f-7f02ac7f8bcf",
   "metadata": {
    "tags": []
   },
   "outputs": [],
   "source": [
    "c_em_change = (torch.repeat_interleave(c_em_metric_NI[:,0].unsqueeze(-1), 49, dim=-1) - c_em_metric_NI[:,1:]).mean(-1).mean(0).item()\n",
    "k_em_change = (torch.repeat_interleave(k_em_metric_NI[:,0].unsqueeze(-1), 49, dim=-1) - k_em_metric_NI[:,1:]).mean(-1).mean(0).item()"
   ]
  },
  {
   "cell_type": "code",
   "execution_count": null,
   "id": "47678bed-56df-49d5-9656-a181bedb0ee8",
   "metadata": {
    "tags": []
   },
   "outputs": [],
   "source": [
    "torch.save(c_set, f\"/home/jupyter/paraMem/data/pile_splits/{model_type}/perturbed/mem_toks.pt\")\n",
    "torch.save(c_set_perturbed, f\"/home/jupyter/paraMem/data/pile_splits/{model_type}/perturbed/perturbed_mem_toks.pt\")"
   ]
  },
  {
   "cell_type": "code",
   "execution_count": null,
   "id": "7395c5c0-dbeb-4ff3-b3b3-d7f84c96c0d4",
   "metadata": {
    "tags": []
   },
   "outputs": [],
   "source": [
    "c_y = (torch.repeat_interleave(c_em_metric_NI[:,0].unsqueeze(-1), 50, dim=-1) - c_em_metric_NI[:,:]) \n",
    "k_y = (torch.repeat_interleave(k_em_metric_NI[:,0].unsqueeze(-1), 50, dim=-1) - k_em_metric_NI[:,:]) \n",
    "\n",
    "c_y, k_y = -c_y.mean(0), -k_y.mean(0)\n",
    "x = np.arange(0, c_y.shape[-1])"
   ]
  },
  {
   "cell_type": "code",
   "execution_count": null,
   "id": "b6b1a431-fbb3-4ea2-bb96-251794b0cf45",
   "metadata": {
    "tags": []
   },
   "outputs": [],
   "source": [
    "c_em_metric_NI.mean(-1)"
   ]
  },
  {
   "cell_type": "markdown",
   "id": "2365223c-a85d-427b-b944-14e95a9aa336",
   "metadata": {},
   "source": [
    "## Plot CumSum Plot"
   ]
  },
  {
   "cell_type": "code",
   "execution_count": null,
   "id": "f793de83-9b7d-4dce-8c3b-f4837c1d9d15",
   "metadata": {
    "tags": []
   },
   "outputs": [],
   "source": [
    "fig, ax = plt.subplots(1, 1, figsize=(15, 2.4), layout='constrained')#, gridspec_kw={'hspace': 0.9}\n",
    "fontsize = 14\n",
    "\n",
    "c_label = ax.plot(x, c_y, c=\"red\", label=\"memorized paragraphs\")\n",
    "k_label = ax.plot(x, k_y, c=\"blue\", label=\"non-memorized paragraphs\")\n",
    "\n",
    "ax.set_xlabel(r'pertubation at prefix token position', fontsize=fontsize) #\\searrow\n",
    "ax.xaxis.set_label_coords(0.75,-0.35)\n",
    "ax.set_ylabel('mean em drop\\n over 50 paragraphs', fontsize=fontsize) #\\searrow\n",
    "\n",
    "#ax.set_title(\"Mean drop in exact match drop due to intervention on 50 different prefixes\", loc='left') #minK, mean, \n",
    "ax.legend(loc='lower left', fontsize=fontsize, frameon=False, bbox_to_anchor=(-0.0, -0.7)) #minK, mean, \n",
    "\n",
    "ax.text(0.37, -0.31, f'mean em drop per token {c_em_change:.2f}', color=\"red\", fontsize=fontsize-1, horizontalalignment='center',verticalalignment='center', transform=ax.transAxes)\n",
    "ax.text(0.37, -0.51, f'mean em drop per token {k_em_change:.2f}', color=\"blue\", fontsize=fontsize-1, horizontalalignment='center',verticalalignment='center', transform=ax.transAxes)\n",
    "ax.tick_params(axis='both', which='major', labelsize=fontsize)\n",
    "\n",
    "#ax[1].set_xticks(x)\n",
    "#labels = ax[1].set_xticklabels(xlabels, fontsize=fontsize-2, rotation=90)\n",
    "fig.savefig(f\"{dataLoaders.ROOT}/results/{model_type}_em_drop.pdf\", dpi=200, bbox_inches=\"tight\")"
   ]
  },
  {
   "cell_type": "code",
   "execution_count": null,
   "id": "58d13a5e-d07e-4701-8516-4ec8b89e8597",
   "metadata": {},
   "outputs": [],
   "source": []
  }
 ],
 "metadata": {
  "environment": {
   "kernel": "conda-root-venv",
   "name": "workbench-notebooks.m113",
   "type": "gcloud",
   "uri": "gcr.io/deeplearning-platform-release/workbench-notebooks:m113"
  },
  "kernelspec": {
   "display_name": "venv (Local)",
   "language": "python",
   "name": "conda-root-venv"
  },
  "language_info": {
   "codemirror_mode": {
    "name": "ipython",
    "version": 3
   },
   "file_extension": ".py",
   "mimetype": "text/x-python",
   "name": "python",
   "nbconvert_exporter": "python",
   "pygments_lexer": "ipython3",
   "version": "3.9.2"
  }
 },
 "nbformat": 4,
 "nbformat_minor": 5
}
