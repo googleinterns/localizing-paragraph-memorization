{
 "cells": [
  {
   "cell_type": "markdown",
   "id": "8ec5c216",
   "metadata": {},
   "source": [
    "\n",
    "Copyright 2024 Google LLC\n",
    "\n",
    "Licensed under the Apache License, Version 2.0 (the \"License\");\n",
    "you may not use this file except in compliance with the License.\n",
    "You may obtain a copy of the License at\n",
    "\n",
    "    http://www.apache.org/licenses/LICENSE-2.0\n",
    "\n",
    "Unless required by applicable law or agreed to in writing, software\n",
    "distributed under the License is distributed on an \"AS IS\" BASIS,\n",
    "WITHOUT WARRANTIES OR CONDITIONS OF ANY KIND, either express or implied.\n",
    "See the License for the specific language governing permissions and\n",
    "limitations under the License.\n"
   ]
  },
  {
   "cell_type": "markdown",
   "id": "9aeacd3b-9676-4786-b485-66e016c9cb82",
   "metadata": {},
   "source": [
    "# Attention Head Analysis"
   ]
  },
  {
   "cell_type": "code",
   "execution_count": null,
   "id": "0ba3b83b-4985-4bcb-ae2c-78cd8d023e69",
   "metadata": {
    "tags": []
   },
   "outputs": [],
   "source": [
    "#@title Import libraries\n",
    "import transformer_lens, torch, gc, itertools, functools, math\n",
    "import pandas as pd\n",
    "import numpy as np\n",
    "import circuitsvis as cv\n",
    "\n",
    "import seaborn as sns\n",
    "import matplotlib as mpl\n",
    "import matplotlib.pyplot as plt\n",
    "from matplotlib.colors import LogNorm, SymLogNorm\n",
    "\n",
    "mpl.rcParams['axes.spines.right'] = False\n",
    "mpl.rcParams['axes.spines.top'] = False\n",
    "\n",
    "import sys\n",
    "sys.path.append('/home/jupyter/')\n",
    "from paraMem.utils import modelHandlers, dataLoaders, gradient, localizing, patching"
   ]
  },
  {
   "cell_type": "markdown",
   "id": "8439948d-afb3-472f-8dde-c0ea88b5b4df",
   "metadata": {},
   "source": [
    "## Model"
   ]
  },
  {
   "cell_type": "code",
   "execution_count": null,
   "id": "32953121-1ca8-40ff-96eb-63b822bdfe9f",
   "metadata": {
    "tags": []
   },
   "outputs": [],
   "source": [
    "model_type = \"gpt-neo-125M\"\n",
    "model = modelHandlers.load_model(model_type=model_type, DEVICE=\"cpu\")\n",
    "modelHandlers.set_no_grad(model, [\"embed\", \"pos_embed\", \"unembed\"])"
   ]
  },
  {
   "cell_type": "markdown",
   "id": "30427e33-f8b3-422e-9768-9180d7f3749e",
   "metadata": {},
   "source": [
    "## Load Data"
   ]
  },
  {
   "cell_type": "code",
   "execution_count": null,
   "id": "a55858e0-69e2-480d-b52d-c815e35ea41d",
   "metadata": {
    "tags": []
   },
   "outputs": [],
   "source": [
    "## mem and non-mem set\n",
    "mem_nonmem_sets  = dataLoaders.load_pile_splits(f\"{model_type}/preds\", file_names=[\"50_50_preds.pt\", \"0_10_preds.pt\"], as_torch=True)\n",
    "mem_set, non_mem_set = mem_nonmem_sets[0], mem_nonmem_sets[1]\n",
    "train_dl, test_dl = dataLoaders.train_test_batching(mem_set, non_mem_set, mem_batch=1, non_mem_batch=50, test_frac=0.2, add_bos=None)\n",
    "_, k_toks_NI = next(iter(train_dl))\n",
    "k_toks_NI = k_toks_NI.squeeze(0)"
   ]
  },
  {
   "cell_type": "code",
   "execution_count": null,
   "id": "889db778-a055-4669-9ed6-d5a27ec0e311",
   "metadata": {
    "tags": []
   },
   "outputs": [],
   "source": [
    "## load perturbed mem set and original mem set\n",
    "mem_perturbed_sets  = dataLoaders.load_pile_splits(f\"{model_type}/perturbed\", file_names=[\"mem_toks.pt\", \"perturbed_mem_toks.pt\"], as_torch=True)\n",
    "mem_set, perturbed_mem_set = mem_perturbed_sets[0], mem_perturbed_sets[1]\n",
    "train_dl, test_dl = dataLoaders.train_test_batching(mem_set, perturbed_mem_set, mem_batch=50, non_mem_batch=50, matched=True, shuffle=False, test_frac=0.2, add_bos=None)\n",
    "c_toks_NI, c_perturb_toks_NI = next(iter(train_dl))\n",
    "c_toks_NI, c_perturb_toks_NI, = c_toks_NI.squeeze(0), c_perturb_toks_NI.squeeze(0)"
   ]
  },
  {
   "cell_type": "markdown",
   "id": "f6877cf2-e733-41e3-8710-6dc3ec43726b",
   "metadata": {},
   "source": [
    "## Forward Pass"
   ]
  },
  {
   "cell_type": "code",
   "execution_count": null,
   "id": "786b177f-4603-4dca-883b-fca522327799",
   "metadata": {
    "tags": []
   },
   "outputs": [],
   "source": [
    "string_NI = [\" headlines out of Washington never seem to slow. Subscribe to The D.C. Brief to make sense of what matters most. Please enter a valid email address. Sign Up Now Check the box if you do not wish to receive promotional offers via email from TIME. You can unsubscribe at any time. By signing up you are agreeing to our Terms of Use and Privacy Policy . This site is protected by reCAPTCHA and the Google Privacy Policy and Terms of Service apply. Thank you! For your\"]\n",
    "string_NI = [\"Sign up for Take Action Now and get three actions in your inbox every week. You will receive occasional promotional offers for programs that support The Nation’s journalism. You can read our Privacy Policy here. Sign up for Take Action Now and get three actions in your inbox every week.\\n\\nThank you for signing up. For more from The Nation, check out our latest issue\\n\\nSubscribe now for as little as $2 a month!\\n\\nSupport Progressive Journalism The Nation is reader supported:\"]\n",
    "#string_NI = [\"The following are trademarks or service marks of Major League Baseball entities and may be used only with permission of Major League Baseball Properties, Inc. or the relevant Major League Baseball entity: Major League, Major League Baseball, MLB, the silhouetted batter logo, World Series, National League, American League, Division Series, League Championship Series, All-Star Game, and the names, nicknames, logos, uniform designs, color combinations, and slogans designating the Major League Baseball clubs and entities, and\"]\n",
    "\n",
    "#string_NI = model.to_string(c_toks_NI[21])\n",
    "#string_NI = model.to_string(c_toks_NI[:])\n",
    "\n",
    "print(string_NI)\n",
    "\n",
    "toks_NI = model.to_tokens(string_NI, prepend_bos=False)\n",
    "_, activs = model.run_with_cache(toks_NI)    \n"
   ]
  },
  {
   "cell_type": "markdown",
   "id": "a8663950-ce9f-4560-9085-6ecc2f254389",
   "metadata": {},
   "source": [
    "### Attention Pattern Analysis"
   ]
  },
  {
   "cell_type": "code",
   "execution_count": null,
   "id": "24a4e864-2230-43cc-a7ce-4648b9c3d5c3",
   "metadata": {
    "tags": []
   },
   "outputs": [],
   "source": [
    "attention_pattern = activs[\"pattern\", 1, \"attn\"].squeeze()\n",
    "c_str_toks = model.to_str_tokens(toks_NI[0])"
   ]
  },
  {
   "cell_type": "code",
   "execution_count": null,
   "id": "e6542200-a8c3-4c46-8958-004711239b2f",
   "metadata": {
    "tags": []
   },
   "outputs": [],
   "source": [
    "#cv.attention.attention_patterns(tokens=c_str_toks, attention=attention_pattern)"
   ]
  },
  {
   "cell_type": "code",
   "execution_count": null,
   "id": "1206a124-a6a0-4aa8-9124-1ae1fad47f46",
   "metadata": {
    "tags": []
   },
   "outputs": [],
   "source": [
    "idx = 50\n",
    "if len(attention_pattern.shape) == 4:\n",
    "    attention_pattern = attention_pattern.mean(0)\n",
    "pattern = attention_pattern[:,idx,:idx]"
   ]
  },
  {
   "cell_type": "code",
   "execution_count": null,
   "id": "09185ac4-3d83-4060-b988-132ec419db2c",
   "metadata": {},
   "outputs": [],
   "source": [
    "\n",
    "fig, ax = plt.subplots(1, 1, figsize=(14, 3), gridspec_kw={'hspace': 0.4})\n",
    "fontsize=12\n",
    "\n",
    "s = sns.heatmap(pattern.numpy(),\n",
    "              cmap=mpl.colormaps[\"Reds\"], center=None,\n",
    "              xticklabels=model.to_str_tokens(toks_NI)[:idx],\n",
    "              yticklabels=np.arange(0, pattern.shape[0]), square=True,\n",
    "              cbar_kws={'location': 'right','pad': 0.01})\n",
    "\n",
    "sns.set(font_scale=1.0)\n",
    "\n",
    "ax.set_ylabel(\"layer 2, head X\",fontsize=fontsize)\n",
    "ax.set_title(f\"KQ attention pattern analysis\", fontsize=fontsize, loc=\"left\")\n",
    "s.set_yticklabels(s.get_yticklabels(), rotation=0, horizontalalignment='right')\n",
    "ax.text(1.01, -0.2, f'predicted\\ntoken:\"{model.to_str_tokens(toks_NI)[idx]}\"', color=\"black\", fontsize=fontsize-1, horizontalalignment='left',verticalalignment='bottom', transform=ax.transAxes)\n",
    "\n",
    "fig.savefig(f\"{dataLoaders.ROOT}/results/attention_pattern_l2_example2.pdf\", dpi=200, bbox_inches=\"tight\")\n",
    "\n"
   ]
  },
  {
   "cell_type": "code",
   "execution_count": null,
   "id": "4d92ec1b-1385-4ed3-8d3d-5c2fd45d7327",
   "metadata": {},
   "outputs": [],
   "source": []
  },
  {
   "cell_type": "code",
   "execution_count": null,
   "id": "86777ac6-a667-4930-88e0-58ac65031ce6",
   "metadata": {},
   "outputs": [],
   "source": []
  }
 ],
 "metadata": {
  "environment": {
   "kernel": "conda-root-venv",
   "name": "workbench-notebooks.m113",
   "type": "gcloud",
   "uri": "gcr.io/deeplearning-platform-release/workbench-notebooks:m113"
  },
  "kernelspec": {
   "display_name": "venv (Local) (Local)",
   "language": "python",
   "name": "conda-root-venv"
  },
  "language_info": {
   "codemirror_mode": {
    "name": "ipython",
    "version": 3
   },
   "file_extension": ".py",
   "mimetype": "text/x-python",
   "name": "python",
   "nbconvert_exporter": "python",
   "pygments_lexer": "ipython3",
   "version": "3.9.2"
  }
 },
 "nbformat": 4,
 "nbformat_minor": 5
}
