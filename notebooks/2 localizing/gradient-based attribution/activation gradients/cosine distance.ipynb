{
 "cells": [
  {
   "cell_type": "markdown",
   "id": "6d3b723b",
   "metadata": {},
   "source": [
    "\n",
    "Copyright 2024 Google LLC\n",
    "\n",
    "Licensed under the Apache License, Version 2.0 (the \"License\");\n",
    "you may not use this file except in compliance with the License.\n",
    "You may obtain a copy of the License at\n",
    "\n",
    "    http://www.apache.org/licenses/LICENSE-2.0\n",
    "\n",
    "Unless required by applicable law or agreed to in writing, software\n",
    "distributed under the License is distributed on an \"AS IS\" BASIS,\n",
    "WITHOUT WARRANTIES OR CONDITIONS OF ANY KIND, either express or implied.\n",
    "See the License for the specific language governing permissions and\n",
    "limitations under the License.\n"
   ]
  },
  {
   "cell_type": "markdown",
   "metadata": {
    "id": "5-2qpyRvJYRR"
   },
   "source": [
    "# Cosine Distance on FWD and BWD pass\n"
   ]
  },
  {
   "cell_type": "code",
   "execution_count": null,
   "metadata": {
    "executionInfo": {
     "elapsed": 6686,
     "status": "ok",
     "timestamp": 1702663207018,
     "user": {
      "displayName": "Niklas Stoehr",
      "userId": "03296628557932703282"
     },
     "user_tz": 480
    },
    "id": "UBSfNkEuJMGQ",
    "tags": []
   },
   "outputs": [],
   "source": [
    "#@title Import libraries\n",
    "import transformer_lens\n",
    "import torch, gc, itertools, functools, copy\n",
    "import pandas as pd\n",
    "import numpy as np\n",
    "\n",
    "import seaborn as sns\n",
    "import matplotlib as mpl\n",
    "import matplotlib.pyplot as plt\n",
    "\n",
    "mpl.rcParams['axes.spines.right'] = False\n",
    "mpl.rcParams['axes.spines.top'] = False\n",
    "\n",
    "import sys\n",
    "sys.path.append('/home/jupyter/')\n",
    "from paraMem.utils import modelHandlers, dataLoaders, gradient, localizing"
   ]
  },
  {
   "cell_type": "markdown",
   "metadata": {
    "id": "Nn9H9zcaN4Hg"
   },
   "source": [
    "## Model"
   ]
  },
  {
   "cell_type": "code",
   "execution_count": null,
   "metadata": {
    "colab": {
     "base_uri": "https://localhost:8080/"
    },
    "executionInfo": {
     "elapsed": 6203,
     "status": "ok",
     "timestamp": 1702663213774,
     "user": {
      "displayName": "Niklas Stoehr",
      "userId": "03296628557932703282"
     },
     "user_tz": 480
    },
    "id": "QpqHz8RkJTix",
    "outputId": "7d76e1f4-ed39-4c65-b30f-e55d8075b9d5",
    "tags": []
   },
   "outputs": [],
   "source": [
    "model_type=\"gpt-neo-125M\"\n",
    "model = modelHandlers.load_model(model_type=model_type, DEVICE=\"cpu\", lr=0.0)"
   ]
  },
  {
   "cell_type": "markdown",
   "metadata": {
    "id": "BYuz0oTRvDPu"
   },
   "source": [
    "## Load Data"
   ]
  },
  {
   "cell_type": "code",
   "execution_count": null,
   "metadata": {
    "colab": {
     "base_uri": "https://localhost:8080/"
    },
    "executionInfo": {
     "elapsed": 1339,
     "status": "ok",
     "timestamp": 1702663215109,
     "user": {
      "displayName": "Niklas Stoehr",
      "userId": "03296628557932703282"
     },
     "user_tz": 480
    },
    "id": "AIHeyTY1Sj3U",
    "outputId": "87916eaf-59a3-4424-92a8-00b5b73ee87c",
    "tags": []
   },
   "outputs": [],
   "source": [
    "## mem and non-mem set\n",
    "#(mem_prompts, mem_counts),(non_mem_prompts,non_mem_counts) = dataLoaders.load_pile_splits(\"acc/gpt-neo-125M\", as_torch=True)\n",
    "#train_dl, test_dl = dataLoaders.train_test_batching(mem_prompts, non_mem_prompts, mem_batch=5, non_mem_batch=5, test_frac=0.0, set_twice=None)\n",
    "#c_toks_NI, k_toks_NI = next(iter(train_dl))\n",
    "\n",
    "mem_nonmem_sets  = dataLoaders.load_pile_splits(f\"{model_type}/preds\", file_names=[\"50_50_preds.pt\", \"0_10_preds.pt\"], as_torch=True)\n",
    "mem_set, non_mem_set = mem_nonmem_sets[0], mem_nonmem_sets[1]\n",
    "train_dl, test_dl = dataLoaders.train_test_batching(mem_set, non_mem_set, mem_batch=50, non_mem_batch=50, test_frac=0.2, add_bos=None)\n",
    "c_toks_NI, k_toks_NI = next(iter(train_dl))\n",
    "c_toks_NI, k_toks_NI = c_toks_NI.squeeze(0), k_toks_NI.squeeze(0)\n",
    "\n",
    "## load perturbed mem set and original mem set\n",
    "mem_perturbed_sets  = dataLoaders.load_pile_splits(f\"{model_type}/perturbed\", file_names=[\"mem_toks.pt\", \"perturbed_mem_toks.pt\"], as_torch=True)\n",
    "mem_set, perturbed_mem_set = mem_perturbed_sets[0], mem_perturbed_sets[1]\n",
    "train_dl, test_dl = dataLoaders.train_test_batching(mem_set, perturbed_mem_set, mem_batch=20, non_mem_batch=20, matched=True, shuffle=False, test_frac=0.2, add_bos=None)\n",
    "c_toks_NI, c_perturb_toks_NI = next(iter(train_dl))\n",
    "c_toks_NI, c_perturb_toks_NI, = c_toks_NI.squeeze(0), c_perturb_toks_NI.squeeze(0)\n",
    "\n",
    "#c_toks_NI, k_toks_NI = c_toks_NI[0,:], k_toks_NI[0,:]"
   ]
  },
  {
   "cell_type": "markdown",
   "metadata": {},
   "source": [
    "## Cosine Similarity"
   ]
  },
  {
   "cell_type": "code",
   "execution_count": null,
   "metadata": {
    "tags": []
   },
   "outputs": [],
   "source": [
    "def tensor_diffs(tok_set_vals:list, abs_vals:bool=False):\n",
    "    vals = []\n",
    "    for c_type_idx in range(0, len(tok_set_vals[0])):\n",
    "        vals1, vals2 = tok_set_vals[0][c_type_idx], tok_set_vals[1][c_type_idx]\n",
    "        if abs_vals:\n",
    "            vals1, vals2 = torch.abs(vals1), torch.abs(vals2)\n",
    "        dist_val = torch.nn.functional.cosine_similarity(vals1, vals2, dim=-1)\n",
    "        #dist_val = (vals1 - vals2).mean(-1)\n",
    "        vals.append(dist_val)\n",
    "    vals = torch.cat(vals, dim=1)\n",
    "    return vals"
   ]
  },
  {
   "cell_type": "markdown",
   "metadata": {},
   "source": [
    "### Parameter Differences"
   ]
  },
  {
   "cell_type": "code",
   "execution_count": null,
   "metadata": {
    "tags": []
   },
   "outputs": [],
   "source": [
    "def collect_param_grads(toks_NI:torch.Tensor, NI_idcs=[49,99], c_types:list=[\"W_K\",\"W_Q\",\"W_V\",\"W_O\",\"W_in\",\"W_out\"]): #\"W_V\",\"W_O\",\"W_in\",\"W_out\"\n",
    "    metric = functools.partial(gradient.single_seq_metric, NI_idcs=NI_idcs)\n",
    "    fwd_cache, bwd_cache, _ = gradient.run_single_fwd_bwd(model, metric_fn=metric, c_toks_NI=toks_NI)\n",
    "    c_type_vals, c_type_names = [], []\n",
    "    for c_type in c_types:\n",
    "        vals, names = localizing.collect_c_type(model=model, cache=None, c_type=c_type) \n",
    "        name = names[0].split('.')[-1]\n",
    "        if name in ['W_Q', 'W_K', 'W_V', 'W_O']: ## attention\n",
    "            vals = vals.view(vals.shape[0], vals.shape[1], -1)\n",
    "            names = [f\"{names[0].split('.')[-1]} H{i}\" for i in range(vals.shape[1])]\n",
    "        else: ## mlps\n",
    "            vals = vals.view(vals.shape[0], 1, -1)\n",
    "            names = [f\"{names[0].split('.')[-1]}\"]\n",
    "        c_type_vals.append(vals)\n",
    "        c_type_names += names\n",
    "    return c_type_vals, c_type_names"
   ]
  },
  {
   "cell_type": "markdown",
   "metadata": {},
   "source": [
    "### Activation Differences"
   ]
  },
  {
   "cell_type": "code",
   "execution_count": null,
   "metadata": {
    "tags": []
   },
   "outputs": [],
   "source": [
    "def collect_activs(toks_NI:torch.Tensor, fwd_bwd:str=\"bwd\", I_range=[49,99], c_types:list=[\"q\", \"k\", \"v\", \"z\", \"pre\", \"post\"]):  #\"q\", \"k\", \"v\", \"z\", \"pre\", \"post\", \"attn_out\", \"mlp_out\"\n",
    "    metric = functools.partial(gradient.single_seq_metric, NI_idcs=I_range)\n",
    "    fwd_cache, bwd_cache, _ = gradient.run_single_fwd_bwd(model, metric_fn=metric, c_toks_NI=toks_NI)\n",
    "    cache = {\"fwd\":fwd_cache, \"bwd\":bwd_cache}[fwd_bwd]\n",
    "    c_type_vals, c_type_names = [], []\n",
    "    for c_type in c_types:\n",
    "        vals, names = localizing.collect_c_type(model=model, cache=cache, c_type=c_type) ## vals shape NILHD\n",
    "        \n",
    "        if I_range is not None: \n",
    "            vals = vals[:,I_range[0]:I_range[1]]\n",
    "        vals = vals.mean(1) ## pool over tokens\n",
    "        vals = vals.mean(0) ## pool over seqs\n",
    "        \n",
    "        name = names[0].split('.')[-1].split('_')[-1]\n",
    "        if name not in ['q', 'k', 'v', 'z']: ## mlps\n",
    "            vals = vals.view(vals.shape[0], 1, -1)\n",
    "            names = [f\"{names[0].split('.')[-1].split('_')[-1]}\"]\n",
    "        else:\n",
    "            names = [f\"{names[0].split('.')[-1].split('_')[-1]} H{i}\" for i in range(vals.shape[1])]\n",
    "              \n",
    "        c_type_vals.append(vals)\n",
    "        c_type_names += names\n",
    "    return c_type_vals, c_type_names"
   ]
  },
  {
   "cell_type": "markdown",
   "metadata": {},
   "source": [
    "## Run and Plot"
   ]
  },
  {
   "cell_type": "markdown",
   "metadata": {},
   "source": [
    "### Parameters"
   ]
  },
  {
   "cell_type": "code",
   "execution_count": null,
   "metadata": {
    "tags": []
   },
   "outputs": [],
   "source": [
    "c_types=[\"W_K\",\"W_Q\",\"W_V\",\"W_O\", \"W_in\",\"W_out\"] #\"W_K\",\"W_Q\",\"W_V\",\"W_O\"\n",
    "c_vals_list, c_names_list = collect_param_grads(c_toks_NI, c_types=c_types)\n",
    "k_vals_list, c_names_list = collect_param_grads(k_toks_NI, c_types=c_types)\n",
    "dist_vals = tensor_diffs(tok_set_vals=[c_vals_list, k_vals_list])"
   ]
  },
  {
   "cell_type": "code",
   "execution_count": null,
   "metadata": {
    "tags": []
   },
   "outputs": [],
   "source": [
    "fontsize = 12\n",
    "fig, ax = plt.subplots(1, 1, figsize=(13, 3), gridspec_kw={'hspace': 0.4})\n",
    "\n",
    "plot_vals = dist_vals.numpy()\n",
    "#s = sns.heatmap(plot_vals[1:11,:],cmap=mpl.colormaps[\"coolwarm_r\"],center=0,xticklabels=c_names_list,yticklabels=np.arange(1,plot_vals.shape[0]-1),cbar_kws={'location': 'right','pad': 0.01})\n",
    "s = sns.heatmap(plot_vals[:,:],cmap=mpl.colormaps[\"coolwarm_r\"],center=0,xticklabels=c_names_list,yticklabels=np.arange(0,plot_vals.shape[0]),cbar_kws={'location': 'right','pad': 0.01})\n",
    "\n",
    "ax.set_title(f\"Cosine similarity between parameter gradients\\nof 50 memorized and 50 non-memorized paragraphs\", fontsize=fontsize, loc=\"left\")\n",
    "s.set_yticklabels(s.get_yticklabels(), rotation=0, horizontalalignment='right')\n",
    "ax.tick_params(axis='y', which='major', labelsize=fontsize)\n",
    "ax.tick_params(axis='x', which='major', labelsize=fontsize-3)\n",
    "ax.set_ylabel('layer', rotation=90, color=\"black\", fontsize=fontsize, labelpad=5)\n",
    "ax.invert_yaxis()\n",
    "\n",
    "fig.savefig(f\"{dataLoaders.ROOT}/results/{model_type}_param_cosine.png\", dpi=200, bbox_inches=\"tight\")"
   ]
  },
  {
   "cell_type": "markdown",
   "metadata": {},
   "source": [
    "### Activations"
   ]
  },
  {
   "cell_type": "code",
   "execution_count": null,
   "metadata": {
    "tags": []
   },
   "outputs": [],
   "source": [
    "c_types = [\"v\"]\n",
    "I_range = [49,99]\n",
    "c_vals_list, c_names_list = collect_activs(c_toks_NI, fwd_bwd=\"bwd\", c_types=c_types, I_range=I_range)\n",
    "k_vals_list, c_names_list = collect_activs(k_toks_NI, fwd_bwd=\"bwd\", c_types=c_types, I_range=I_range)\n",
    "dist_vals = tensor_diffs(tok_set_vals=[c_vals_list, k_vals_list])"
   ]
  },
  {
   "cell_type": "code",
   "execution_count": null,
   "metadata": {
    "tags": []
   },
   "outputs": [],
   "source": [
    "fontsize = 13\n",
    "fig, ax = plt.subplots(1, 1, figsize=(5, 3.5), gridspec_kw={'hspace': 0.4})\n",
    "\n",
    "plot_vals = dist_vals.numpy()\n",
    "#s = sns.heatmap(plot_vals[1:11,:],cmap=mpl.colormaps[\"coolwarm_r\"],center=0,xticklabels=c_names_list,yticklabels=np.arange(1,plot_vals.shape[0]-1),cbar_kws={'location': 'right','pad': 0.01})\n",
    "s = sns.heatmap(plot_vals[:,:],cmap=mpl.colormaps[\"coolwarm_r\"],center=None,xticklabels=c_names_list,yticklabels=np.arange(0,plot_vals.shape[0]),cbar_kws={'location': 'right','pad': 0.03})\n",
    "\n",
    "ax.set_title(f\"Cosine similarity between activation gradients\\nover 50 memorized and 50 non-memorized paragraphs\", fontsize=fontsize-2, x=-0.1, loc=\"left\")\n",
    "s.set_yticklabels(s.get_yticklabels(), rotation=0, horizontalalignment='right')\n",
    "ax.tick_params(axis='y', which='major', labelsize=fontsize)\n",
    "ax.tick_params(axis='x', which='major', labelsize=fontsize-1)\n",
    "ax.set_ylabel('layer', rotation=90, color=\"black\", fontsize=fontsize, labelpad=5)\n",
    "ax.invert_yaxis()\n",
    "\n",
    "fig.savefig(f\"{dataLoaders.ROOT}/results/{model_type}_bwd_activs_cosine.pdf\", dpi=200, bbox_inches=\"tight\")"
   ]
  },
  {
   "cell_type": "code",
   "execution_count": null,
   "metadata": {
    "tags": []
   },
   "outputs": [],
   "source": [
    "c_types = [\"k\", \"q\", \"v\"]#[\"attn_out\", \"mlp_out\"]#[\"k\", \"q\", \"v\", \"pre\",\"post\"]\n",
    "I_range = [49,50]\n",
    "c_vals_list, c_names_list = collect_activs(c_toks_NI, fwd_bwd=\"fwd\", c_types=c_types, I_range=I_range)\n",
    "k_vals_list, c_names_list = collect_activs(c_perturb_toks_NI, fwd_bwd=\"fwd\", c_types=c_types, I_range=I_range)\n",
    "dist_vals = tensor_diffs(tok_set_vals=[c_vals_list, k_vals_list])"
   ]
  },
  {
   "cell_type": "code",
   "execution_count": null,
   "metadata": {
    "tags": []
   },
   "outputs": [],
   "source": [
    "fontsize = 12\n",
    "fig, ax = plt.subplots(1, 1, figsize=(10, 3), gridspec_kw={'hspace': 0.4})\n",
    "\n",
    "plot_vals = dist_vals.numpy()\n",
    "#[\"attn_out\", \"mlp_out\"]\n",
    "#s = sns.heatmap(plot_vals[1:11,:],cmap=mpl.colormaps[\"coolwarm_r\"],center=0,xticklabels=c_names_list,yticklabels=np.arange(1,plot_vals.shape[0]-1),cbar_kws={'location': 'right','pad': 0.01})\n",
    "s = sns.heatmap(plot_vals[:,:],cmap=mpl.colormaps[\"coolwarm_r\"],center=None,xticklabels=c_names_list,yticklabels=np.arange(0,plot_vals.shape[0]),cbar_kws={'location': 'right','pad': 0.01})\n",
    "\n",
    "ax.set_title(f\"Cosine similarity between activations (forward pass)\\nover 50 memorized and 50 non-memorized paragraphs\", fontsize=fontsize, x=-0.1, loc=\"left\")\n",
    "s.set_yticklabels(s.get_yticklabels(), rotation=0, horizontalalignment='right')\n",
    "ax.tick_params(axis='y', which='major', labelsize=fontsize)\n",
    "ax.tick_params(axis='x', which='major', labelsize=fontsize)\n",
    "ax.set_ylabel('layer', rotation=90, color=\"black\", fontsize=fontsize, labelpad=5)\n",
    "ax.invert_yaxis()\n",
    "\n",
    "fig.savefig(f\"{dataLoaders.ROOT}/results/fwd_activs_cosine.pdf\", dpi=200, bbox_inches=\"tight\")"
   ]
  },
  {
   "cell_type": "code",
   "execution_count": null,
   "metadata": {},
   "outputs": [],
   "source": []
  },
  {
   "cell_type": "code",
   "execution_count": null,
   "metadata": {},
   "outputs": [],
   "source": []
  }
 ],
 "metadata": {
  "colab": {
   "authorship_tag": "ABX9TyOGB+zTCDBCeQ63kuW0ZbKy",
   "mount_file_id": "1gH7CY-pBqILLrkbypyW6G3qurtUUqqwl",
   "provenance": []
  },
  "environment": {
   "kernel": "conda-root-venv",
   "name": "workbench-notebooks.m113",
   "type": "gcloud",
   "uri": "gcr.io/deeplearning-platform-release/workbench-notebooks:m113"
  },
  "kernelspec": {
   "display_name": "venv (Local)",
   "language": "python",
   "name": "conda-root-venv"
  },
  "language_info": {
   "codemirror_mode": {
    "name": "ipython",
    "version": 3
   },
   "file_extension": ".py",
   "mimetype": "text/x-python",
   "name": "python",
   "nbconvert_exporter": "python",
   "pygments_lexer": "ipython3",
   "version": "3.9.2"
  }
 },
 "nbformat": 4,
 "nbformat_minor": 4
}
