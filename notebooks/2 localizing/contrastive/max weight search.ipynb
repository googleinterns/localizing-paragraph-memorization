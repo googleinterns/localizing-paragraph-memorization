{
 "cells": [
  {
   "cell_type": "markdown",
   "id": "66af5440",
   "metadata": {},
   "source": [
    "\n",
    "Copyright 2024 Google LLC\n",
    "\n",
    "Licensed under the Apache License, Version 2.0 (the \"License\");\n",
    "you may not use this file except in compliance with the License.\n",
    "You may obtain a copy of the License at\n",
    "\n",
    "    http://www.apache.org/licenses/LICENSE-2.0\n",
    "\n",
    "Unless required by applicable law or agreed to in writing, software\n",
    "distributed under the License is distributed on an \"AS IS\" BASIS,\n",
    "WITHOUT WARRANTIES OR CONDITIONS OF ANY KIND, either express or implied.\n",
    "See the License for the specific language governing permissions and\n",
    "limitations under the License.\n"
   ]
  },
  {
   "cell_type": "markdown",
   "metadata": {
    "id": "5-2qpyRvJYRR"
   },
   "source": [
    "# Max Weight Search"
   ]
  },
  {
   "cell_type": "code",
   "execution_count": 1,
   "metadata": {
    "executionInfo": {
     "elapsed": 6686,
     "status": "ok",
     "timestamp": 1702663207018,
     "user": {
      "displayName": "Niklas Stoehr",
      "userId": "03296628557932703282"
     },
     "user_tz": 480
    },
    "id": "UBSfNkEuJMGQ",
    "tags": []
   },
   "outputs": [],
   "source": [
    "#@title Import libraries\n",
    "import transformer_lens\n",
    "import torch, gc, itertools, tqdm, scipy, functools, collections, copy\n",
    "import pandas as pd\n",
    "import numpy as np\n",
    "from pathlib import Path\n",
    "\n",
    "import seaborn as sns\n",
    "import matplotlib as mpl\n",
    "import matplotlib.pyplot as plt\n",
    "\n",
    "mpl.rcParams['axes.spines.right'] = False\n",
    "mpl.rcParams['axes.spines.top'] = False\n",
    "\n",
    "import sys\n",
    "sys.path.append('/home/jupyter/')\n",
    "from paraMem.utils import localizing, modelHandlers, dataLoaders, gradient"
   ]
  },
  {
   "cell_type": "markdown",
   "metadata": {
    "id": "Nn9H9zcaN4Hg"
   },
   "source": [
    "## Model"
   ]
  },
  {
   "cell_type": "code",
   "execution_count": 2,
   "metadata": {
    "colab": {
     "base_uri": "https://localhost:8080/"
    },
    "executionInfo": {
     "elapsed": 6203,
     "status": "ok",
     "timestamp": 1702663213774,
     "user": {
      "displayName": "Niklas Stoehr",
      "userId": "03296628557932703282"
     },
     "user_tz": 480
    },
    "id": "QpqHz8RkJTix",
    "outputId": "7d76e1f4-ed39-4c65-b30f-e55d8075b9d5",
    "tags": []
   },
   "outputs": [
    {
     "name": "stdout",
     "output_type": "stream",
     "text": [
      "Loaded pretrained model gpt-neo-125M into HookedTransformer\n",
      "set no_grad on ['embed', 'pos_embed', 'unembed']\n",
      "set no_grad on ['embed', 'pos_embed', 'unembed']\n",
      "set no_grad on ['embed', 'pos_embed', 'unembed']\n",
      "set no_grad on ['embed', 'pos_embed', 'unembed']\n"
     ]
    }
   ],
   "source": [
    "model_type = \"gpt-neo-125M\"\n",
    "model = modelHandlers.load_model(model_type=model_type, DEVICE=\"cpu\")\n",
    "modelHandlers.set_no_grad(model, [\"embed\", \"pos_embed\", \"unembed\"])"
   ]
  },
  {
   "cell_type": "markdown",
   "metadata": {
    "id": "BYuz0oTRvDPu"
   },
   "source": [
    "## Load Data"
   ]
  },
  {
   "cell_type": "code",
   "execution_count": 3,
   "metadata": {
    "colab": {
     "base_uri": "https://localhost:8080/"
    },
    "executionInfo": {
     "elapsed": 1339,
     "status": "ok",
     "timestamp": 1702663215109,
     "user": {
      "displayName": "Niklas Stoehr",
      "userId": "03296628557932703282"
     },
     "user_tz": 480
    },
    "id": "AIHeyTY1Sj3U",
    "outputId": "87916eaf-59a3-4424-92a8-00b5b73ee87c",
    "tags": []
   },
   "outputs": [],
   "source": [
    "train_dl, test_dl = dataLoaders.batched_pile(mem_batch=5, non_mem_batch=10, test_frac=0.0)\n",
    "#dl = dataLoaders.batched_pop_seqs(model, mem_batch=5, non_mem_batch=10)"
   ]
  },
  {
   "cell_type": "markdown",
   "metadata": {},
   "source": [
    "## Search Weights"
   ]
  },
  {
   "cell_type": "code",
   "execution_count": 6,
   "metadata": {
    "tags": []
   },
   "outputs": [
    {
     "name": "stderr",
     "output_type": "stream",
     "text": [
      "0it [00:00, ?it/s]"
     ]
    },
    {
     "name": "stdout",
     "output_type": "stream",
     "text": [
      "contrast_res: 0.8127433657646179, c_nll: 0.8127433657646179, k_nll: 0.0\n"
     ]
    },
    {
     "name": "stderr",
     "output_type": "stream",
     "text": [
      "1it [00:05,  5.42s/it]"
     ]
    },
    {
     "name": "stdout",
     "output_type": "stream",
     "text": [
      "returning ['blocks.0.mlp.W_in', 'blocks.1.mlp.W_in']... of shape: torch.Size([12, 768, 3072])\n",
      "returning ['blocks.0.mlp.W_out', 'blocks.1.mlp.W_out']... of shape: torch.Size([12, 3072, 768])\n",
      "returning ['blocks.0.attn.W_Q', 'blocks.1.attn.W_Q']... of shape: torch.Size([12, 12, 768, 64])\n",
      "returning ['blocks.0.attn.W_K', 'blocks.1.attn.W_K']... of shape: torch.Size([12, 12, 768, 64])\n",
      "returning ['blocks.0.attn.W_V', 'blocks.1.attn.W_V']... of shape: torch.Size([12, 12, 768, 64])\n",
      "returning ['blocks.0.attn.W_O', 'blocks.1.attn.W_O']... of shape: torch.Size([12, 12, 64, 768])\n",
      "contrast_res: 0.5995692610740662, c_nll: 0.5995692610740662, k_nll: 0.0\n"
     ]
    },
    {
     "name": "stderr",
     "output_type": "stream",
     "text": [
      "1it [00:10, 10.83s/it]"
     ]
    },
    {
     "name": "stdout",
     "output_type": "stream",
     "text": [
      "returning ['blocks.0.mlp.W_in', 'blocks.1.mlp.W_in']... of shape: torch.Size([12, 768, 3072])\n",
      "returning ['blocks.0.mlp.W_out', 'blocks.1.mlp.W_out']... of shape: torch.Size([12, 3072, 768])\n",
      "returning ['blocks.0.attn.W_Q', 'blocks.1.attn.W_Q']... of shape: torch.Size([12, 12, 768, 64])\n",
      "returning ['blocks.0.attn.W_K', 'blocks.1.attn.W_K']... of shape: torch.Size([12, 12, 768, 64])\n",
      "returning ['blocks.0.attn.W_V', 'blocks.1.attn.W_V']... of shape: torch.Size([12, 12, 768, 64])\n",
      "returning ['blocks.0.attn.W_O', 'blocks.1.attn.W_O']... of shape: torch.Size([12, 12, 64, 768])\n"
     ]
    },
    {
     "name": "stderr",
     "output_type": "stream",
     "text": [
      "\n"
     ]
    },
    {
     "name": "stdout",
     "output_type": "stream",
     "text": [
      "stored data at /home/jupyter/paraMem/results/gpt-neo-125M/W_in_W_out_W_Q_W_K_W_V_W_O.pt\n"
     ]
    }
   ],
   "source": [
    "def batched_c_type_collection(model, dl, run_fwd_bwd, c_types:list=[\"W_Q\",\"W_K\",\"W_V\",\"W_O\",\"W_in\",\"W_out\"], n_batches:int=10, norm_by_batch:bool=True):\n",
    "    \"\"\"\n",
    "    summing all gradient weights in component c_type over multiple batches\n",
    "    \"\"\"\n",
    "    weight_gradients = collections.defaultdict(torch.tensor)\n",
    "    for batch_i, (c_toks_NI, k_toks_NI) in tqdm.tqdm(enumerate(dl)):\n",
    "        fwd_cache, bwd_cache = run_fwd_bwd(model, c_toks_NI.squeeze(0), k_toks_NI.squeeze(0))\n",
    "        for c_type in c_types:\n",
    "            if c_type in [\"W_Q\",\"W_K\",\"W_V\",\"W_O\",\"W_in\",\"W_out\"]: ## model params\n",
    "                c_vals, c_names = localizing.collect_c_type(model=model, cache=None, c_type=c_type)\n",
    "            elif c_type in [\"q\",\"k\",\"v\",\"o\",\"mlp_in\",\"mlp_out\"]: ## activation\n",
    "                c_vals, c_names = localizing.collect_c_type(model=model, cache=bwd_cache, c_type=c_type)\n",
    "            else:\n",
    "                raise Exception(f\"No eligible parameter oder activation name passed: {c_types}\")\n",
    "                \n",
    "            ## Summing up values___________________________\n",
    "            c_vals = c_vals.detach() \n",
    "            if norm_by_batch:\n",
    "                c_vals = c_vals / n_batches\n",
    "            if batch_i == 0:\n",
    "                weight_gradients[c_type] = c_vals \n",
    "            else:\n",
    "                weight_gradients[c_type] += c_vals \n",
    "        if batch_i+1 == n_batches: ## break early\n",
    "            return weight_gradients\n",
    "    return weight_gradients\n",
    " \n",
    "c_types=[\"W_in\", \"W_out\", \"W_Q\", \"W_K\", \"W_V\", \"W_O\"]\n",
    "fwd_bwd = functools.partial(gradient.run_fwd_bwd, after_I=0, with_mse=True,pool={\"c\":[-1],\"k\":[0,-1]})\n",
    "c_grads = batched_c_type_collection(model, train_dl, fwd_bwd, c_types=c_types, n_batches=2)\n",
    "localizing.store_data(c_grads, f\"results/{model_type}/{'_'.join(c_types)}.pt\")"
   ]
  },
  {
   "cell_type": "code",
   "execution_count": 10,
   "metadata": {
    "tags": []
   },
   "outputs": [
    {
     "data": {
      "text/plain": [
       "{'W_Q': {'idcs': tensor([[    2, 38896],\n",
       "          [    2, 38872],\n",
       "          [    2, 38903],\n",
       "          [    2, 38849],\n",
       "          [    2, 38860],\n",
       "          [    2, 41456],\n",
       "          [    2, 38878],\n",
       "          [    2, 38864],\n",
       "          [    2, 38875],\n",
       "          [    2, 38892],\n",
       "          [    2, 18992],\n",
       "          [    2,  5329],\n",
       "          [    2, 38876],\n",
       "          [    2, 38899],\n",
       "          [    2, 38859],\n",
       "          [    2, 41432],\n",
       "          [    2, 38893],\n",
       "          [    2, 38884],\n",
       "          [    2, 41463],\n",
       "          [    2, 38877],\n",
       "          [    2, 41409],\n",
       "          [    2, 44656],\n",
       "          [    2, 38898],\n",
       "          [    2, 41420],\n",
       "          [    2,  5325],\n",
       "          [    2, 38868],\n",
       "          [    2, 38895],\n",
       "          [    2, 41438],\n",
       "          [    2, 38853],\n",
       "          [    2, 18968],\n",
       "          [    2, 41424],\n",
       "          [    2, 38866],\n",
       "          [    2, 41435],\n",
       "          [    2, 18999],\n",
       "          [    2,  5353],\n",
       "          [    2, 38858],\n",
       "          [    2, 18945],\n",
       "          [    2, 38873],\n",
       "          [    2, 18956],\n",
       "          [    2, 41459],\n",
       "          [    2, 38890],\n",
       "          [    2, 41452],\n",
       "          [    2, 38856],\n",
       "          [    2, 18974],\n",
       "          [    2, 41436],\n",
       "          [    2, 44632],\n",
       "          [    2,  5366],\n",
       "          [    2, 44663],\n",
       "          [    2, 41419],\n",
       "          [    2, 18960],\n",
       "          [    2, 18971],\n",
       "          [    2,  5350],\n",
       "          [    2, 41453],\n",
       "          [    2, 41444],\n",
       "          [    2,  5338],\n",
       "          [    2, 41458],\n",
       "          [    2,  5327],\n",
       "          [    2, 44620],\n",
       "          [    2, 38905],\n",
       "          [    2, 44609],\n",
       "          [    2,  5372],\n",
       "          [    2,  5365],\n",
       "          [    2,  5344],\n",
       "          [    2, 44638],\n",
       "          [    2, 41437],\n",
       "          [    2,  5333],\n",
       "          [    2, 18988],\n",
       "          [    2, 44635],\n",
       "          [    2, 41428],\n",
       "          [    2,  5326],\n",
       "          [    2, 18972],\n",
       "          [    2, 41455],\n",
       "          [    2, 44624],\n",
       "          [    2, 18995],\n",
       "          [    2, 33456],\n",
       "          [    2,  5315],\n",
       "          [    2, 18955],\n",
       "          [    2,  5334],\n",
       "          [    2, 41413],\n",
       "          [    2, 41426],\n",
       "          [    2, 18989],\n",
       "          [    2, 41433],\n",
       "          [    2, 18980],\n",
       "          [    2, 44652],\n",
       "          [    2, 38909],\n",
       "          [    2, 41418],\n",
       "          [    2,  5343],\n",
       "          [    2, 18973],\n",
       "          [    2, 18994],\n",
       "          [    2, 46673],\n",
       "          [    2,  5346],\n",
       "          [    2, 41450],\n",
       "          [    2, 18964],\n",
       "          [    2, 44637],\n",
       "          [    2, 38907],\n",
       "          [    2, 38881],\n",
       "          [    2, 18991],\n",
       "          [    2, 44636],\n",
       "          [    2, 44653],\n",
       "          [    2, 41416]]),\n",
       "  'scores': tensor([0.4026, 0.2343, 0.2155, 0.1967, 0.1946, 0.1723, 0.1685, 0.1551, 0.1542,\n",
       "          0.1217, 0.1184, 0.1112, 0.1094, 0.1037, 0.1010, 0.1004, 0.0953, 0.0926,\n",
       "          0.0924, 0.0907, 0.0899, 0.0875, 0.0853, 0.0839, 0.0775, 0.0770, 0.0753,\n",
       "          0.0692, 0.0691, 0.0689, 0.0656, 0.0652, 0.0646, 0.0634, 0.0614, 0.0607,\n",
       "          0.0590, 0.0588, 0.0572, 0.0513, 0.0506, 0.0496, 0.0489, 0.0489, 0.0488,\n",
       "          0.0488, 0.0483, 0.0472, 0.0458, 0.0453, 0.0451, 0.0450, 0.0444, 0.0443,\n",
       "          0.0416, 0.0403, 0.0402, 0.0397, 0.0396, 0.0385, 0.0380, 0.0375, 0.0375,\n",
       "          0.0374, 0.0367, 0.0355, 0.0352, 0.0335, 0.0334, 0.0329, 0.0324, 0.0323,\n",
       "          0.0318, 0.0317, 0.0308, 0.0308, 0.0304, 0.0296, 0.0291, 0.0288, 0.0285,\n",
       "          0.0283, 0.0281, 0.0275, 0.0269, 0.0263, 0.0261, 0.0260, 0.0259, 0.0250,\n",
       "          0.0241, 0.0236, 0.0231, 0.0228, 0.0225, 0.0222, 0.0221, 0.0216, 0.0206,\n",
       "          0.0203])},\n",
       " 'W_V': {'idcs': tensor([[    2, 38861],\n",
       "          [    2, 38903],\n",
       "          [    2, 38891],\n",
       "          [    2, 38911],\n",
       "          [    2, 38895],\n",
       "          [    2, 38877],\n",
       "          [    2, 38864],\n",
       "          [    2, 38885],\n",
       "          [    2, 38852],\n",
       "          [    2, 38868],\n",
       "          [    2,  5358],\n",
       "          [    2, 41421],\n",
       "          [    2, 41463],\n",
       "          [    2, 41451],\n",
       "          [    2, 38865],\n",
       "          [    2, 41471],\n",
       "          [    2, 41455],\n",
       "          [    2, 38874],\n",
       "          [    2, 38900],\n",
       "          [    2, 18957],\n",
       "          [    2, 38909],\n",
       "          [    2, 18999],\n",
       "          [    2, 38858],\n",
       "          [    2, 38880],\n",
       "          [    2, 18987],\n",
       "          [    2, 38888],\n",
       "          [    2, 19007],\n",
       "          [    2,  5348],\n",
       "          [    2, 38908],\n",
       "          [    2, 38882],\n",
       "          [    2,  5334],\n",
       "          [    2, 41437],\n",
       "          [    2, 38898],\n",
       "          [    2, 18991],\n",
       "          [    2, 38866],\n",
       "          [    2, 41424],\n",
       "          [    2, 38897],\n",
       "          [    2,  5351],\n",
       "          [    2, 41445],\n",
       "          [    2, 44621],\n",
       "          [    2,  5356],\n",
       "          [    2,  5363],\n",
       "          [    2, 44663],\n",
       "          [    2, 38907],\n",
       "          [    2, 38906],\n",
       "          [    2, 44651],\n",
       "          [    2, 18960],\n",
       "          [    2, 41428],\n",
       "          [    2,  5318],\n",
       "          [    2, 41412],\n",
       "          [    2, 18973],\n",
       "          [    2, 44671],\n",
       "          [    2, 38856],\n",
       "          [    2, 44655],\n",
       "          [    2,  5327],\n",
       "          [    2, 18981],\n",
       "          [    2, 18964],\n",
       "          [    2, 41425],\n",
       "          [    2, 18948],\n",
       "          [    2,  5313],\n",
       "          [    2,  5353],\n",
       "          [    2,  5345],\n",
       "          [    2, 41434],\n",
       "          [    2, 41460],\n",
       "          [    2, 41469],\n",
       "          [    2,  5366],\n",
       "          [    2, 44624],\n",
       "          [    2, 44637],\n",
       "          [    2, 41418],\n",
       "          [    2, 41442],\n",
       "          [    2, 44645],\n",
       "          [    2, 41468],\n",
       "          [    2, 41440],\n",
       "          [    2,  5365],\n",
       "          [    2,  5326],\n",
       "          [    2,  5312],\n",
       "          [    2, 41448],\n",
       "          [    2, 18961],\n",
       "          [    2, 46702],\n",
       "          [    2, 44612],\n",
       "          [    2,  5368],\n",
       "          [    2, 19005],\n",
       "          [    2, 41458],\n",
       "          [    2,  5314],\n",
       "          [    2, 18970],\n",
       "          [    2, 18996],\n",
       "          [    2, 41426],\n",
       "          [    2,  5369],\n",
       "          [    2, 44628],\n",
       "          [    2,  5324],\n",
       "          [    2, 18954],\n",
       "          [    2, 18976],\n",
       "          [    2, 18984],\n",
       "          [    2, 38876],\n",
       "          [    2, 41457],\n",
       "          [    2,  5374],\n",
       "          [    2,  5321],\n",
       "          [    2, 41466],\n",
       "          [    2, 44625],\n",
       "          [    2, 46692]]),\n",
       "  'scores': tensor([0.9533, 0.9015, 0.8514, 0.7974, 0.7705, 0.5641, 0.5560, 0.5152, 0.4590,\n",
       "          0.4418, 0.4126, 0.3986, 0.3856, 0.3580, 0.3575, 0.3362, 0.3239, 0.3199,\n",
       "          0.3049, 0.3042, 0.3020, 0.2934, 0.2894, 0.2805, 0.2706, 0.2682, 0.2619,\n",
       "          0.2566, 0.2506, 0.2487, 0.2451, 0.2424, 0.2396, 0.2386, 0.2342, 0.2335,\n",
       "          0.2159, 0.2152, 0.2121, 0.2104, 0.2016, 0.1989, 0.1967, 0.1901, 0.1894,\n",
       "          0.1881, 0.1876, 0.1856, 0.1854, 0.1851, 0.1816, 0.1754, 0.1681, 0.1672,\n",
       "          0.1638, 0.1614, 0.1517, 0.1486, 0.1476, 0.1474, 0.1395, 0.1360, 0.1354,\n",
       "          0.1285, 0.1282, 0.1233, 0.1223, 0.1200, 0.1183, 0.1174, 0.1158, 0.1147,\n",
       "          0.1108, 0.1095, 0.1092, 0.1091, 0.1081, 0.1076, 0.1061, 0.1045, 0.1041,\n",
       "          0.1036, 0.1031, 0.1029, 0.1006, 0.1003, 0.0993, 0.0982, 0.0950, 0.0924,\n",
       "          0.0902, 0.0866, 0.0855, 0.0840, 0.0838, 0.0814, 0.0784, 0.0778, 0.0772,\n",
       "          0.0767])}}"
      ]
     },
     "execution_count": 10,
     "metadata": {},
     "output_type": "execute_result"
    }
   ],
   "source": [
    "def get_topK_grads(c_grads:dict, topK:int=100, select_c:list=None, select_l:list=None, select_heads:list=[], return_lk:bool=False, largest:bool=True, select_random:bool=False):\n",
    "    \"\"\"\n",
    "    weight_gradients is a list of tensors, collect topK weight gradients and return as layer-wise list and in original shape\n",
    "    \"\"\"\n",
    "    c_grads = copy.deepcopy(c_grads)\n",
    "    ## (1) prepare components and layers\n",
    "    n_layers = list(c_grads.values())[0].shape[0]\n",
    "    if select_l is None or len(select_l) == 0:\n",
    "        select_l = list(range(n_layers))\n",
    "    remove_layers = list(range(n_layers))\n",
    "    remove_layers = list(set(remove_layers).difference(set(select_l)))\n",
    "    if select_c is None or len(select_c) == 0:\n",
    "        select_c = list(c_grads.keys())\n",
    "        \n",
    "    ## (2) gather the top gradients\n",
    "    c_top_grads = {}\n",
    "    for c_type,c_vals in c_grads.items():\n",
    "        if c_type in select_c:\n",
    "            if len(select_heads) > 0 and len(c_vals.shape) >= 4: ##select specific head from attention component \n",
    "                c_vals = c_vals[:,torch.LongTensor(select_heads),:,:]\n",
    "            gradients_ld = c_vals.view(c_vals.shape[0],-1) ## flatten tensor to l_dim and model_dim\n",
    "            gradients_ld[torch.LongTensor(remove_layers),:] = gradients_ld[torch.LongTensor(remove_layers),:]*0 ## filter layers based on select_layers criterion  \n",
    "            if select_random==False: ## normal topK selection mode\n",
    "                weight_scores, weight_idcs = torch.topk(gradients_ld.flatten(), topK, largest=largest)\n",
    "            else: ## selecting any random weights as a baseline\n",
    "                random_idcs = torch.randperm(gradients_ld.flatten().shape[0])\n",
    "                weight_scores, weight_idcs = gradients_ld.flatten()[random_idcs[:topK]], random_idcs[:topK].squeeze()\n",
    "            weight_idcs = torch.tensor(np.array(np.unravel_index(weight_idcs.numpy(), gradients_ld.shape))).T\n",
    "            c_top_grads[c_type]={\"idcs\": weight_idcs, \"scores\": weight_scores}\n",
    "\n",
    "            if return_lk: ## reformat the output to return layer-wise list of lists\n",
    "                weight_ids_lk = [[] for l in range(n_layers)]\n",
    "                weight_scores_lk = [[] for l in range(n_layers)]\n",
    "                for k, weight_idx in enumerate(weight_idcs):\n",
    "                    weight_ids_lk[weight_idx[0]].append(weight_idx[1].item())\n",
    "                    weight_scores_lk[weight_idx[0]].append(weight_scores[k].item())\n",
    "                c_top_grads[c_type]={\"idcs\": weight_ids_lk, \"scores\": weight_scores_lk}\n",
    "    return c_top_grads\n",
    "\n",
    "c_top_grads = get_topK_grads(c_grads, topK=100, select_c=[\"W_Q\",\"W_V\"], select_l=[2], select_heads=[11], return_lk=False, largest=True, select_random=False)\n",
    "c_top_grads"
   ]
  },
  {
   "cell_type": "code",
   "execution_count": 11,
   "metadata": {
    "tags": []
   },
   "outputs": [
    {
     "data": {
      "image/png": "[encoded data removed]",
      "text/plain": [
       "<Figure size 1000x400 with 4 Axes>"
      ]
     },
     "metadata": {},
     "output_type": "display_data"
    }
   ],
   "source": [
    "def plot_max_gradients(c_top_grads:dict, topK:int=None, n_layers:int=11):\n",
    "    \"\"\"\n",
    "    plotting the max gradients in model component and coloring by layer index\n",
    "    \"\"\"\n",
    "    fig, axs = plt.subplots(len(c_top_grads.keys()), 1, figsize=(10, 4), gridspec_kw={'hspace': 0.1, 'wspace': 0.05}, constrained_layout=True)\n",
    "    fontsize=10\n",
    "    \n",
    "    cmap = plt.cm.Blues\n",
    "    norm = mpl.colors.Normalize(0, n_layers)\n",
    "\n",
    "    for i, (c_type, idcs_scores) in enumerate(c_top_grads.items()):\n",
    "        scores = c_top_grads[c_type][\"scores\"][:topK]\n",
    "        layers = c_top_grads[c_type][\"idcs\"][:,0][:topK]\n",
    "        colors = cmap(norm(layers))\n",
    "        \n",
    "        bars = axs[i].bar(np.arange(0,len(scores)),scores, color=colors)\n",
    "        axs[i].axhline(y=scores.mean(), color='r', linewidth=1, linestyle='--', c=\"black\", alpha=0.5)\n",
    "        \n",
    "        axs[i].set_title(f\"Max weight gradients of parameter {c_type}\", loc=\"left\", fontsize=fontsize+2)\n",
    "        axs[i].set_ylabel('gradient value', color='black', fontsize=fontsize)\n",
    "        if i == len(c_top_grads.keys())-1:\n",
    "            axs[i].set_xlabel('topK weights', color='black', fontsize=fontsize)\n",
    "        axs[i].set_xlim(-1, len(scores))\n",
    "        \n",
    "        scalarmappaple = plt.cm.ScalarMappable(norm=norm, cmap=cmap)\n",
    "        scalarmappaple.set_array(layers.tolist())\n",
    "        plt.colorbar(scalarmappaple, ax=axs[i], label=\"model layer\", pad=-0.0)\n",
    "\n",
    "\n",
    "plot_max_gradients(c_top_grads, n_layers=model.cfg.n_layers)"
   ]
  },
  {
   "cell_type": "code",
   "execution_count": null,
   "metadata": {},
   "outputs": [],
   "source": []
  }
 ],
 "metadata": {
  "colab": {
   "authorship_tag": "ABX9TyOGB+zTCDBCeQ63kuW0ZbKy",
   "mount_file_id": "1gH7CY-pBqILLrkbypyW6G3qurtUUqqwl",
   "provenance": []
  },
  "environment": {
   "kernel": "conda-root-venv",
   "name": "workbench-notebooks.m113",
   "type": "gcloud",
   "uri": "gcr.io/deeplearning-platform-release/workbench-notebooks:m113"
  },
  "kernelspec": {
   "display_name": "venv (Local)",
   "language": "python",
   "name": "conda-root-venv"
  },
  "language_info": {
   "codemirror_mode": {
    "name": "ipython",
    "version": 3
   },
   "file_extension": ".py",
   "mimetype": "text/x-python",
   "name": "python",
   "nbconvert_exporter": "python",
   "pygments_lexer": "ipython3",
   "version": "3.9.2"
  }
 },
 "nbformat": 4,
 "nbformat_minor": 4
}
