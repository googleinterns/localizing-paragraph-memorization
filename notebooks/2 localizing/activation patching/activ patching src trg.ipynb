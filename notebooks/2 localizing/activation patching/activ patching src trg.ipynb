{
 "cells": [
  {
   "cell_type": "markdown",
   "id": "2e7e5297",
   "metadata": {},
   "source": [
    "\n",
    "Copyright 2024 Google LLC\n",
    "\n",
    "Licensed under the Apache License, Version 2.0 (the \"License\");\n",
    "you may not use this file except in compliance with the License.\n",
    "You may obtain a copy of the License at\n",
    "\n",
    "    http://www.apache.org/licenses/LICENSE-2.0\n",
    "\n",
    "Unless required by applicable law or agreed to in writing, software\n",
    "distributed under the License is distributed on an \"AS IS\" BASIS,\n",
    "WITHOUT WARRANTIES OR CONDITIONS OF ANY KIND, either express or implied.\n",
    "See the License for the specific language governing permissions and\n",
    "limitations under the License.\n"
   ]
  },
  {
   "cell_type": "markdown",
   "id": "3d9bdcc2-c295-489c-b794-d77edaddbd09",
   "metadata": {},
   "source": [
    "# Activation Patching at Intervention Token"
   ]
  },
  {
   "cell_type": "code",
   "execution_count": null,
   "id": "c6de6b74-d98d-4198-a1af-88651395b95c",
   "metadata": {
    "tags": []
   },
   "outputs": [],
   "source": [
    "#@title Import libraries\n",
    "import transformer_lens\n",
    "import torch, gc, itertools, functools, tqdm, copy\n",
    "import pandas as pd\n",
    "import numpy as np\n",
    "from typing import Callable\n",
    "\n",
    "import transformer_lens.utils as utils\n",
    "from transformer_lens.hook_points import (\n",
    "    HookedRootModule,\n",
    "    HookPoint,\n",
    ")  # Hooking utilities\n",
    "from transformer_lens import HookedTransformer, HookedTransformerConfig, FactoredMatrix, ActivationCache\n",
    "torch.set_grad_enabled(False)\n",
    "\n",
    "import seaborn as sns\n",
    "import matplotlib as mpl\n",
    "import matplotlib.pyplot as plt\n",
    "from matplotlib.colors import LogNorm, Normalize\n",
    "\n",
    "#mpl.rcParams['axes.spines.right'] = False\n",
    "mpl.rcParams['axes.spines.top'] = False\n",
    "\n",
    "import sys\n",
    "sys.path.append('/home/jupyter/')\n",
    "from paraMem.utils import modelHandlers, dataLoaders, patching"
   ]
  },
  {
   "cell_type": "markdown",
   "id": "d62459d8-c4c9-4794-a9dd-914e6e3cfdb4",
   "metadata": {},
   "source": [
    "## Model"
   ]
  },
  {
   "cell_type": "code",
   "execution_count": null,
   "id": "ea0aa36a-d073-4a33-b5cd-708e828fcae8",
   "metadata": {
    "tags": []
   },
   "outputs": [],
   "source": [
    "model_type=\"gpt-neo-125M\"\n",
    "model = modelHandlers.load_model(model_type=model_type, DEVICE=\"cuda\", lr=0.0, weight_decay=0.01)"
   ]
  },
  {
   "cell_type": "markdown",
   "id": "12505d94-77a0-4d96-895f-568e291acc27",
   "metadata": {},
   "source": [
    "## Data"
   ]
  },
  {
   "cell_type": "code",
   "execution_count": null,
   "id": "92f53327-ea8b-4c6d-a497-adc0161adba8",
   "metadata": {
    "tags": []
   },
   "outputs": [],
   "source": [
    "## load perturbed mem set and original mem set\n",
    "mem_perturbed_sets  = dataLoaders.load_pile_splits(f\"{model_type}/perturbed\", file_names=[\"mem_toks.pt\", \"perturbed_mem_toks.pt\"], as_torch=True)\n",
    "mem_set, perturbed_mem_set = mem_perturbed_sets[0], mem_perturbed_sets[1]\n",
    "train_dl, test_dl = dataLoaders.train_test_batching(mem_set, perturbed_mem_set, mem_batch=10, non_mem_batch=10, matched=True, shuffle=False, test_frac=0.2, add_bos=None)\n",
    "c_toks_NI, c_perturb_toks_NI = next(iter(train_dl))\n",
    "c_toks_NI, c_perturb_toks_NI, = c_toks_NI.squeeze(0), c_perturb_toks_NI.squeeze(0)"
   ]
  },
  {
   "cell_type": "markdown",
   "id": "f8d78a60-4aa7-4e26-a1db-b8d208c8f14a",
   "metadata": {},
   "source": [
    "### Identify Intervention and Impact Token"
   ]
  },
  {
   "cell_type": "code",
   "execution_count": null,
   "id": "0f999479-8cf6-43f7-9e70-8aeceafd3788",
   "metadata": {
    "tags": []
   },
   "outputs": [],
   "source": [
    "def get_interv_impact_indeces(c_toks_NI:torch.tensor, k_toks_NI:torch.tensor):\n",
    "    \"\"\"\n",
    "    function to get the positions of the intervention (src) and impact (trg) token\n",
    "    \"\"\"\n",
    "    ck_diff_mask = torch.where(c_toks_NI != k_toks_NI, 1,0)\n",
    "    ck_diff_cumsum = torch.cumsum(ck_diff_mask, dim=-1) ## intervention\n",
    "\n",
    "    ## find intervention\n",
    "    src_NI = (ck_diff_cumsum==1).nonzero() \n",
    "    src_idcs = torch.cat((torch.zeros(1),(src_NI[:-1,0] != src_NI[1:,0]).nonzero(as_tuple=True)[0] + 1)).long()\n",
    "    src_NI = src_NI[src_idcs].long() \n",
    "\n",
    "    ## find impact\n",
    "    trg_NI = (ck_diff_cumsum==2).nonzero() \n",
    "    trg_NI_idcs = torch.cat((torch.zeros(1),(trg_NI[:-1,0] != trg_NI[1:,0]).nonzero(as_tuple=True)[0] + 1)).long()\n",
    "    trg_NI = torch.sub(trg_NI, torch.cat((torch.zeros(trg_NI.shape[0],1),torch.ones(trg_NI.shape[0],1)), dim=-1), alpha=1) ## -1 because we care about what token is predicted\n",
    "    trg_NI = trg_NI[trg_NI_idcs].long() \n",
    "    \n",
    "    return src_NI, trg_NI\n",
    "\n",
    "src_NI, trg_NI = get_interv_impact_indeces(c_toks_NI, c_perturb_toks_NI)"
   ]
  },
  {
   "cell_type": "markdown",
   "id": "f7bb1434-fd14-4857-b5dc-c5dfcc6f3ef1",
   "metadata": {},
   "source": [
    "## Activation Patching"
   ]
  },
  {
   "cell_type": "code",
   "execution_count": null,
   "id": "b7e5dd28-4203-42f9-b719-2cf43033f060",
   "metadata": {
    "tags": []
   },
   "outputs": [],
   "source": [
    "def patch_activs_fn(run_activs, hook: HookPoint, insert_activs:torch.tensor, tok_idcs:torch.tensor, head_idx:int=None):\n",
    "    #print(f'patching {hook.name}')\n",
    "    insert_activs = insert_activs[hook.name]\n",
    "    if len(insert_activs.shape) == 4: ## pick attention head\n",
    "        head_idcs = (torch.ones(tok_idcs.shape[0])*head_idx).long()\n",
    "        run_activs[tok_idcs[:,0],tok_idcs[:,1],head_idcs] = insert_activs[tok_idcs[:,0],tok_idcs[:,1],head_idcs]\n",
    "    else:\n",
    "        run_activs[tok_idcs[:,0],tok_idcs[:,1]] = insert_activs[tok_idcs[:,0],tok_idcs[:,1]]\n",
    "    return run_activs\n",
    "\n",
    "def perform_intervention(run_toks:str, insert_activs:torch.FloatTensor, patch_activs_fn:Callable, tok_idcs:int, layer:int, c_type:str, head_idx:int=None):\n",
    "    partial_patch_activs_fn = functools.partial(patch_activs_fn, insert_activs=insert_activs, tok_idcs=tok_idcs, head_idx=head_idx)\n",
    "    layer_c_type = transformer_lens.utils.get_act_name(c_type, layer)\n",
    "    if c_type == \"normalized_ln1\":\n",
    "        layer_c_type = transformer_lens.utils.get_act_name(\"scale\", layer, \"ln1\")\n",
    "    if c_type == \"normalized_ln2\":\n",
    "        layer_c_type = transformer_lens.utils.get_act_name(\"scale\", layer, \"ln2\")\n",
    "    patch_layers_fn = [(layer_c_type, partial_patch_activs_fn)]\n",
    "    patched_logits = model.run_with_hooks(run_toks, fwd_hooks=patch_layers_fn,return_type=\"logits\",reset_hooks_end=True)\n",
    "    return patched_logits\n",
    "\n",
    "def intervention_loop(model, clean_toks_NI:torch.tensor, pertubed_toks_NI:torch.tensor, src_NI:torch.tensor, trg_NI:torch.tensor, c_types:list):\n",
    "    \n",
    "    ## clean prompt__________________________\n",
    "    clean_logits_NIT, clean_activs = model.run_with_cache(clean_toks_NI)    \n",
    "    clean_nll_NI = modelHandlers.gather_token_scores(modelHandlers.NegLogLik(clean_logits_NIT.to(\"cpu\")), clean_toks_NI)\n",
    "    clean_cont_nll_NI = clean_nll_NI[trg_NI[:,0],trg_NI[:,1]]\n",
    "    \n",
    "    ## corrupted prompt______________________\n",
    "    corrupted_logits_NIT, corrupted_activs = model.run_with_cache(pertubed_toks_NI)    \n",
    "    corrupted_nll_NI = modelHandlers.gather_token_scores(modelHandlers.NegLogLik(corrupted_logits_NIT.to(\"cpu\")), clean_toks_NI)\n",
    "    corrupted_cont_nll_NI = corrupted_nll_NI[trg_NI[:,0],trg_NI[:,1]]\n",
    "    \n",
    "    print(f\"mean: clean_nll_NI: {clean_nll_NI.mean(-1)}, corrupted_nll_NI {corrupted_nll_NI.mean(-1)}\")\n",
    "    print(f\"clean_cont_nll_NI: {clean_cont_nll_NI}, corrupted_cont_nll_NI {corrupted_cont_nll_NI}\")\n",
    "\n",
    "    metric_res = list()#torch.zeros(model.cfg.n_layers, len(c_types))\n",
    "    for i, layer in enumerate(tqdm.tqdm(range(0,model.cfg.n_layers))):\n",
    "    #for i, layer in enumerate(tqdm.tqdm(range(1,2))):\n",
    "        layer_res = list()\n",
    "        module_names = list()\n",
    "        for j, c_type in enumerate(c_types):\n",
    "            n_heads = 1\n",
    "            if c_type in [\"k\", \"q\", \"v\", \"z\"]:\n",
    "                n_heads = model.cfg.n_heads\n",
    "            for head_idx in range(0, n_heads):\n",
    "                if n_heads > 1:\n",
    "                    module_names.append(f\"{c_type} H{head_idx}\")\n",
    "                else:\n",
    "                    module_names.append(f\"{c_type}\")\n",
    "                \n",
    "                ## (1) perform intervention\n",
    "                patched_logits_NIT = perform_intervention(clean_toks_NI, corrupted_activs, patch_activs_fn, src_NI, layer, c_type, head_idx)\n",
    "\n",
    "                ## (2) define intervention metrics\n",
    "                patched_nll_NI = modelHandlers.gather_token_scores(modelHandlers.NegLogLik(patched_logits_NIT.to(\"cpu\")), clean_toks_NI) ## get pred NLL\n",
    "                patched_cont_nll_NI = patched_nll_NI[trg_NI[:,0],trg_NI[:,1]]\n",
    "\n",
    "                #nll_change = (corrupted_cont_nll_NI.mean() - patched_cont_nll_NI.mean())\n",
    "                nll_change = (patched_cont_nll_NI - clean_cont_nll_NI) #/ (patched_cont_nll_NI-corrupted_cont_nll_NI)\n",
    "                nll_change = nll_change.mean()\n",
    "                #metric_res[i,j] = nll_change\n",
    "                \n",
    "                layer_res.append(nll_change)\n",
    "        metric_res.append(layer_res)\n",
    "    return torch.tensor(metric_res), module_names\n",
    "\n",
    "c_types=  [\"q\",\"k\",\"v\"]#[\"attn_out\", \"mlp_out\"] #\"z\",\"mlp_in\", \"q\",\"k\", \"q\",\"k\",\"v\",\"z\",\"mlp_out\"\n",
    "metric_res_mem, module_names = intervention_loop(model, c_toks_NI, c_perturb_toks_NI, src_NI, trg_NI, c_types)\n",
    "metric_res_perturb, module_names = intervention_loop(model, c_perturb_toks_NI, c_toks_NI, src_NI, trg_NI, c_types)"
   ]
  },
  {
   "cell_type": "code",
   "execution_count": null,
   "id": "1fded049-1706-4383-bbfe-38f86056bf96",
   "metadata": {
    "tags": []
   },
   "outputs": [],
   "source": [
    "def plot_heatmap(vals:list, title:str=\"\", x_labels:list=None, y_labels:list=None, c_type:str=\"\"):\n",
    "    \n",
    "    fig, ax = plt.subplots(1, 1, figsize=(9, 3), gridspec_kw={'hspace': 0.4})\n",
    "    fontsize = 12\n",
    "    s = sns.heatmap(vals[1:,:],\n",
    "                  cmap=mpl.colormaps[\"PuOr\"], center=0, #coolwarm\n",
    "                  xticklabels=x_labels,\n",
    "                  yticklabels=y_labels, square=False,\n",
    "                  cbar_kws={'label': 'change in NLL', 'pad': 0.01})\n",
    "    ax.invert_yaxis()\n",
    "    ax.set_ylabel(\"layer\",fontsize=fontsize)\n",
    "    ax.set_title(f\"patching {title}\\nat perturbed token, then measuring NLL change at first impacted token\", fontsize=fontsize, loc=\"left\")\n",
    "    s.set_yticklabels(s.get_yticklabels(), rotation=0, horizontalalignment='right')\n",
    "    ax.tick_params(axis='both', which='major', labelsize=fontsize)\n",
    "    plt.show()\n",
    "    fig.savefig(f\"{dataLoaders.ROOT}/results/perturb_activ_patching_at_perturbed.pdf\", dpi=200, bbox_inches=\"tight\")\n",
    "\n",
    "plot_heatmap(metric_res_mem, title=\"perturbed memorized into memorized activations\", x_labels=module_names, y_labels=np.arange(1,model.cfg.n_layers))"
   ]
  },
  {
   "cell_type": "code",
   "execution_count": null,
   "id": "33495daf-c11e-47a0-b464-408ad829ca26",
   "metadata": {},
   "outputs": [],
   "source": [
    "def plot_heatmap(vals:list, title:str=\"\", x_labels:list=None, y_labels:list=None, c_type:str=\"\"):\n",
    "    \n",
    "    fig, ax = plt.subplots(1, 1, figsize=(9, 3), gridspec_kw={'hspace': 0.4})\n",
    "    fontsize = 12\n",
    "    s = sns.heatmap(vals[1:,:],\n",
    "                  cmap=mpl.colormaps[\"coolwarm\"], center=0, #coolwarm\n",
    "                  xticklabels=x_labels,\n",
    "                  yticklabels=y_labels, square=False,\n",
    "                  cbar_kws={'label': 'change in NLL', 'pad': 0.01})\n",
    "    ax.invert_yaxis()\n",
    "    ax.set_ylabel(\"layer\",fontsize=fontsize)\n",
    "    ax.set_title(f\"patching {title}\\nat perturbed token, then measuring NLL change at first impacted token\", fontsize=fontsize, loc=\"left\")\n",
    "    s.set_yticklabels(s.get_yticklabels(), rotation=0, horizontalalignment='right')\n",
    "    ax.tick_params(axis='both', which='major', labelsize=fontsize)\n",
    "    plt.show()\n",
    "    fig.savefig(f\"{dataLoaders.ROOT}/results/mem_activ_patching_at_perturbed.pdf\", dpi=200, bbox_inches=\"tight\")\n",
    "\n",
    "plot_heatmap(metric_res_perturb, title=\"memorized into perturbed memorized activations\", x_labels=module_names, y_labels=np.arange(1,model.cfg.n_layers))"
   ]
  },
  {
   "cell_type": "code",
   "execution_count": null,
   "id": "84234149-1ce5-4734-bbb0-8960fa687a6d",
   "metadata": {},
   "outputs": [],
   "source": []
  }
 ],
 "metadata": {
  "environment": {
   "kernel": "conda-root-venv",
   "name": "workbench-notebooks.m113",
   "type": "gcloud",
   "uri": "gcr.io/deeplearning-platform-release/workbench-notebooks:m113"
  },
  "kernelspec": {
   "display_name": "venv (Local)",
   "language": "python",
   "name": "conda-root-venv"
  },
  "language_info": {
   "codemirror_mode": {
    "name": "ipython",
    "version": 3
   },
   "file_extension": ".py",
   "mimetype": "text/x-python",
   "name": "python",
   "nbconvert_exporter": "python",
   "pygments_lexer": "ipython3",
   "version": "3.9.2"
  }
 },
 "nbformat": 4,
 "nbformat_minor": 5
}
