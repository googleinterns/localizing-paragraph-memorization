{
 "cells": [
  {
   "cell_type": "markdown",
   "id": "28a08496",
   "metadata": {},
   "source": [
    "\n",
    "Copyright 2024 Google LLC\n",
    "\n",
    "Licensed under the Apache License, Version 2.0 (the \"License\");\n",
    "you may not use this file except in compliance with the License.\n",
    "You may obtain a copy of the License at\n",
    "\n",
    "    http://www.apache.org/licenses/LICENSE-2.0\n",
    "\n",
    "Unless required by applicable law or agreed to in writing, software\n",
    "distributed under the License is distributed on an \"AS IS\" BASIS,\n",
    "WITHOUT WARRANTIES OR CONDITIONS OF ANY KIND, either express or implied.\n",
    "See the License for the specific language governing permissions and\n",
    "limitations under the License.\n"
   ]
  },
  {
   "cell_type": "markdown",
   "id": "3d9bdcc2-c295-489c-b794-d77edaddbd09",
   "metadata": {},
   "source": [
    "# Activation Patching on Full Prefix"
   ]
  },
  {
   "cell_type": "code",
   "execution_count": null,
   "id": "c6de6b74-d98d-4198-a1af-88651395b95c",
   "metadata": {
    "tags": []
   },
   "outputs": [],
   "source": [
    "#@title Import libraries\n",
    "import transformer_lens\n",
    "import torch, gc, itertools, functools, tqdm, copy\n",
    "import pandas as pd\n",
    "import numpy as np\n",
    "from typing import Callable\n",
    "\n",
    "import transformer_lens.utils as utils\n",
    "from transformer_lens.hook_points import (\n",
    "    HookedRootModule,\n",
    "    HookPoint,\n",
    ")  # Hooking utilities\n",
    "from transformer_lens import HookedTransformer, HookedTransformerConfig, FactoredMatrix, ActivationCache\n",
    "torch.set_grad_enabled(False)\n",
    "\n",
    "import seaborn as sns\n",
    "import matplotlib as mpl\n",
    "import matplotlib.pyplot as plt\n",
    "\n",
    "#mpl.rcParams['axes.spines.right'] = False\n",
    "mpl.rcParams['axes.spines.top'] = False\n",
    "\n",
    "import sys\n",
    "sys.path.append('/home/jupyter/')\n",
    "from paraMem.utils import modelHandlers, dataLoaders, patching"
   ]
  },
  {
   "cell_type": "markdown",
   "id": "d62459d8-c4c9-4794-a9dd-914e6e3cfdb4",
   "metadata": {},
   "source": [
    "## Model"
   ]
  },
  {
   "cell_type": "code",
   "execution_count": null,
   "id": "ea0aa36a-d073-4a33-b5cd-708e828fcae8",
   "metadata": {
    "tags": []
   },
   "outputs": [],
   "source": [
    "model_type = \"gpt-neo-125M\"\n",
    "model = modelHandlers.load_model(model_type=model_type, DEVICE=\"cpu\", lr=0.0, weight_decay=0.01)"
   ]
  },
  {
   "cell_type": "markdown",
   "id": "12505d94-77a0-4d96-895f-568e291acc27",
   "metadata": {},
   "source": [
    "## Data"
   ]
  },
  {
   "cell_type": "code",
   "execution_count": null,
   "id": "92f53327-ea8b-4c6d-a497-adc0161adba8",
   "metadata": {
    "tags": []
   },
   "outputs": [],
   "source": [
    "(mem_prompts, mem_counts),(non_mem_prompts,non_mem_counts) = dataLoaders.load_pile_splits(f\"{model_type}\", as_torch=True)\n",
    "train_dl, test_dl = dataLoaders.train_test_batching(mem_prompts, non_mem_prompts, mem_batch=5, non_mem_batch=5, test_frac=0.2, add_bos=None)\n",
    "c_toks_NI, k_toks_NI = next(iter(train_dl))\n",
    "c_toks_NI, k_toks_NI = c_toks_NI.squeeze(0), k_toks_NI.squeeze(0)"
   ]
  },
  {
   "cell_type": "markdown",
   "id": "f7bb1434-fd14-4857-b5dc-c5dfcc6f3ef1",
   "metadata": {},
   "source": [
    "## Activation Patching"
   ]
  },
  {
   "cell_type": "code",
   "execution_count": null,
   "id": "b7e5dd28-4203-42f9-b719-2cf43033f060",
   "metadata": {
    "tags": []
   },
   "outputs": [],
   "source": [
    "def patch_activs_fn(run_activs, hook: HookPoint, insert_activs:torch.tensor, tok_idcs:torch.tensor, head_idx:int=None):\n",
    "    #print(f'patching {hook.name}')\n",
    "    insert_activs = insert_activs[hook.name]\n",
    "    if len(insert_activs.shape) == 4: ## pick attention head\n",
    "        head_idcs = (torch.ones(tok_idcs.shape[0])*head_idx).long()\n",
    "        run_activs[tok_idcs[:,0],tok_idcs[:,1],head_idcs] = insert_activs[tok_idcs[:,0],tok_idcs[:,1],head_idcs]\n",
    "    else:\n",
    "        run_activs[tok_idcs[:,0],tok_idcs[:,1]] = insert_activs[tok_idcs[:,0],tok_idcs[:,1]]\n",
    "    return run_activs\n",
    "\n",
    "def perform_intervention(run_toks:str, insert_activs:torch.FloatTensor, patch_activs_fn:Callable, tok_idcs:int, layer:int, c_type:str, head_idx:int=None):\n",
    "    partial_patch_activs_fn = functools.partial(patch_activs_fn, insert_activs=insert_activs, tok_idcs=tok_idcs, head_idx=head_idx)    \n",
    "    layer_c_type = transformer_lens.utils.get_act_name(c_type, layer)\n",
    "    patch_layers_fn = [(layer_c_type, partial_patch_activs_fn)]\n",
    "    patched_logits = model.run_with_hooks(run_toks, fwd_hooks=patch_layers_fn,return_type=\"logits\",reset_hooks_end=True)\n",
    "    return patched_logits\n",
    "\n",
    "def intervention_loop(model, clean_toks_NI:torch.tensor, pertubed_toks_NI:torch.tensor, patch_toks:torch.tensor, metric_range:list, c_type:str, head_idx:int=2):\n",
    "    \n",
    "    ## clean prompt__________________________\n",
    "    clean_logits_NIT, clean_activs = model.run_with_cache(clean_toks_NI)    \n",
    "    clean_nll_NI = modelHandlers.gather_token_scores(modelHandlers.NegLogLik(clean_logits_NIT.to(\"cpu\")), clean_toks_NI)\n",
    "    clean_cont_nll_NI = clean_nll_NI[:,metric_range[0]:metric_range[1]]#.mean(-1)\n",
    "    \n",
    "    ## corrupted prompt______________________\n",
    "    corrupted_logits_NIT, corrupted_activs = model.run_with_cache(pertubed_toks_NI)    \n",
    "    corrupted_nll_NI = modelHandlers.gather_token_scores(modelHandlers.NegLogLik(corrupted_logits_NIT.to(\"cpu\")), clean_toks_NI)\n",
    "    corrupted_cont_nll_NI = corrupted_nll_NI[:,metric_range[0]:metric_range[1]]#.mean(-1)\n",
    "    \n",
    "    print(f\"mean: clean_nll_NI: {clean_nll_NI.mean()}, corrupted_nll_NI {corrupted_nll_NI.mean()}\")\n",
    "    print(f\"clean_cont_nll_NI: {clean_cont_nll_NI.mean()}, corrupted_cont_nll_NI {corrupted_cont_nll_NI.mean()}\")\n",
    "\n",
    "    metric_res = list()#torch.zeros(model.cfg.n_layers, len(c_types))\n",
    "    for i, layer in enumerate(tqdm.tqdm(range(0,model.cfg.n_layers))):\n",
    "        layer_res = list()\n",
    "        for j, patch_tok in enumerate(patch_toks):\n",
    "\n",
    "            ## (1) perform intervention\n",
    "            src_NI = torch.stack((torch.arange(0,clean_toks_NI.shape[0]), torch.ones(clean_toks_NI.shape[0])*patch_tok), dim=0).T.long()\n",
    "            patched_logits_NIT = perform_intervention(clean_toks_NI, corrupted_activs, patch_activs_fn, src_NI, layer, c_type, head_idx)\n",
    "\n",
    "            ## (2) define intervention metrics\n",
    "            patched_nll_NI = modelHandlers.gather_token_scores(modelHandlers.NegLogLik(patched_logits_NIT.to(\"cpu\")), clean_toks_NI) ## get pred NLL\n",
    "            patched_cont_nll_NI = patched_nll_NI[:,metric_range[0]:metric_range[1]]#.mean(-1)\n",
    "\n",
    "            #nll_change = (corrupted_cont_nll_NI.mean() - patched_cont_nll_NI.mean())\n",
    "            nll_change = torch.sub(patched_cont_nll_NI, clean_cont_nll_NI) #(patched_cont_nll_NI - clean_cont_nll_NI)  #/ (corrupted_cont_nll_NI-clean_cont_nll_NI)\n",
    "            nll_change = nll_change.mean()\n",
    "            #metric_res[i,j] = nll_change\n",
    "\n",
    "            layer_res.append(nll_change)\n",
    "        metric_res.append(layer_res)\n",
    "    return torch.tensor(metric_res), patch_toks.tolist()\n",
    "\n",
    "c_type= \"q\"\n",
    "patch_toks = torch.arange(40,50)\n",
    "metric_range = [50,99]\n",
    "metric_res, tok_pos_names = intervention_loop(model, c_toks_NI, k_toks_NI, patch_toks, metric_range, c_type, head_idx=2)"
   ]
  },
  {
   "cell_type": "code",
   "execution_count": null,
   "id": "1fded049-1706-4383-bbfe-38f86056bf96",
   "metadata": {
    "tags": []
   },
   "outputs": [],
   "source": [
    "def plot_heatmap(vals:list, x_labels:list=None, y_labels:list=None, c_type:str=\"\"):\n",
    "    fig, ax = plt.subplots(1, 1, figsize=(14, 6), gridspec_kw={'hspace': 0.4})\n",
    "    fontsize = 12\n",
    "    ax = sns.heatmap(vals,\n",
    "                  cmap=mpl.colormaps[\"coolwarm\"], center=0, #coolwarm\n",
    "                  xticklabels=x_labels,\n",
    "                  yticklabels=y_labels, square=False, cbar_kws={'label': 'change in NLL'})\n",
    "    ax.invert_yaxis()\n",
    "    ax.set_ylabel(\"layer\")\n",
    "    ax.set_xlabel(\"prefix token position\")\n",
    "    ax.set_title(f\"{model_type} activation patching of {c_type} on prefix --> nll change impact on toks {metric_range}\", fontsize=fontsize, loc=\"left\")\n",
    "\n",
    "plot_heatmap(metric_res, x_labels=tok_pos_names, y_labels=np.arange(0,model.cfg.n_layers), c_type=c_type)"
   ]
  },
  {
   "cell_type": "code",
   "execution_count": null,
   "id": "5adea934-8863-487a-90b3-1ffd8a7db84f",
   "metadata": {},
   "outputs": [],
   "source": []
  }
 ],
 "metadata": {
  "environment": {
   "kernel": "conda-root-venv",
   "name": "workbench-notebooks.m113",
   "type": "gcloud",
   "uri": "gcr.io/deeplearning-platform-release/workbench-notebooks:m113"
  },
  "kernelspec": {
   "display_name": "venv (Local)",
   "language": "python",
   "name": "conda-root-venv"
  },
  "language_info": {
   "codemirror_mode": {
    "name": "ipython",
    "version": 3
   },
   "file_extension": ".py",
   "mimetype": "text/x-python",
   "name": "python",
   "nbconvert_exporter": "python",
   "pygments_lexer": "ipython3",
   "version": "3.9.2"
  }
 },
 "nbformat": 4,
 "nbformat_minor": 5
}
