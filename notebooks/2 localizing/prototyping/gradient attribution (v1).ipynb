{
 "cells": [
  {
   "cell_type": "markdown",
   "metadata": {
    "id": "5-2qpyRvJYRR"
   },
   "source": [
    "# Batch Gradient Attribution\n"
   ]
  },
  {
   "cell_type": "code",
   "execution_count": 1,
   "metadata": {
    "executionInfo": {
     "elapsed": 6686,
     "status": "ok",
     "timestamp": 1702663207018,
     "user": {
      "displayName": "Niklas Stoehr",
      "userId": "03296628557932703282"
     },
     "user_tz": 480
    },
    "id": "UBSfNkEuJMGQ",
    "tags": []
   },
   "outputs": [
    {
     "ename": "ModuleNotFoundError",
     "evalue": "No module named 'paraMem'",
     "output_type": "error",
     "traceback": [
      "\u001b[0;31m---------------------------------------------------------------------------\u001b[0m",
      "\u001b[0;31mModuleNotFoundError\u001b[0m                       Traceback (most recent call last)",
      "Cell \u001b[0;32mIn[1], line 8\u001b[0m\n\u001b[1;32m      6\u001b[0m \u001b[38;5;28;01mimport\u001b[39;00m \u001b[38;5;21;01msys\u001b[39;00m\n\u001b[1;32m      7\u001b[0m sys\u001b[38;5;241m.\u001b[39mpath\u001b[38;5;241m.\u001b[39mappend(\u001b[38;5;124m'\u001b[39m\u001b[38;5;124mhome/jupyter/\u001b[39m\u001b[38;5;124m'\u001b[39m)\n\u001b[0;32m----> 8\u001b[0m \u001b[38;5;28;01mfrom\u001b[39;00m \u001b[38;5;21;01mparaMem\u001b[39;00m\u001b[38;5;21;01m.\u001b[39;00m\u001b[38;5;21;01mutils\u001b[39;00m \u001b[38;5;28;01mimport\u001b[39;00m helpers, model_loaders, data_loaders\n",
      "\u001b[0;31mModuleNotFoundError\u001b[0m: No module named 'paraMem'"
     ]
    }
   ],
   "source": [
    "#@title Import libraries\n",
    "import transformer_lens\n",
    "import torch, gc\n",
    "import pandas as pd\n",
    "\n",
    "import sys\n",
    "sys.path.append('home/jupyter/')\n",
    "from paraMem.utils import helpers, model_loaders, data_loaders"
   ]
  },
  {
   "cell_type": "code",
   "execution_count": null,
   "metadata": {},
   "outputs": [],
   "source": [
    "    c_nll = pool_tensor(c_nll, pool[\"c\"])\n",
    "    \n",
    "    ## adjust shapes\n",
    "    ## clip paragraph lengths\n",
    "    if c_nll.shape[-1] < k_nll.shape[-1]:\n",
    "        k_nll = k_nll[...,:c_nll.shape[-1]]\n",
    "    elif c_nll.shape[-1] > k_nll.shape[-1]:\n",
    "        c_nll = c_nll[...,:k_nll.shape[-1]]\n",
    "    ## expand batches\n",
    "    if c_nll.shape[0] < k_nll.shape[0]:"
   ]
  },
  {
   "cell_type": "markdown",
   "metadata": {
    "id": "Nn9H9zcaN4Hg"
   },
   "source": [
    "## Model"
   ]
  },
  {
   "cell_type": "code",
   "execution_count": null,
   "metadata": {
    "colab": {
     "base_uri": "https://localhost:8080/"
    },
    "executionInfo": {
     "elapsed": 6203,
     "status": "ok",
     "timestamp": 1702663213774,
     "user": {
      "displayName": "Niklas Stoehr",
      "userId": "03296628557932703282"
     },
     "user_tz": 480
    },
    "id": "QpqHz8RkJTix",
    "outputId": "7d76e1f4-ed39-4c65-b30f-e55d8075b9d5",
    "tags": []
   },
   "outputs": [],
   "source": [
    "model = model_loaders.load_model(model_type=\"gpt-neo-125M\", DEVICE=\"cuda\")\n",
    "model_loaders.set_no_grad(model, [\"embed\", \"pos_embed\", \"unembed\"])"
   ]
  },
  {
   "cell_type": "markdown",
   "metadata": {
    "id": "BYuz0oTRvDPu"
   },
   "source": [
    "## Load Data"
   ]
  },
  {
   "cell_type": "code",
   "execution_count": 3,
   "metadata": {
    "colab": {
     "base_uri": "https://localhost:8080/"
    },
    "executionInfo": {
     "elapsed": 1339,
     "status": "ok",
     "timestamp": 1702663215109,
     "user": {
      "displayName": "Niklas Stoehr",
      "userId": "03296628557932703282"
     },
     "user_tz": 480
    },
    "id": "AIHeyTY1Sj3U",
    "outputId": "87916eaf-59a3-4424-92a8-00b5b73ee87c"
   },
   "outputs": [
    {
     "name": "stderr",
     "output_type": "stream",
     "text": [
      "<ipython-input-3-357851ce9829>:6: UserWarning: To copy construct from a tensor, it is recommended to use sourceTensor.clone().detach() or sourceTensor.clone().detach().requires_grad_(True), rather than torch.tensor(sourceTensor).\n",
      "  k_toks_NI = torch.tensor(seqs_NI[2:5,:]).to(model.cfg.device)\n"
     ]
    },
    {
     "data": {
      "text/plain": [
       "['<|endoftext|>Twinkle, twinkle, little star, how I wonder what you are. Up above the world so high, like a diamond in the sky. Twinkle, twinkle, little star, how I wonder what you are.']"
      ]
     },
     "execution_count": 3,
     "metadata": {},
     "output_type": "execute_result"
    }
   ],
   "source": [
    "seqs_NI, counts_N = data_loaders.load_pile_seqs(seq_length=100, unique_frac=0.5)\n",
    "#change_BS = torch.tensor(prefixes[:1,:]).to(model.cfg.device)\n",
    "c_toks_NI = model.to_tokens(\"Twinkle, twinkle, little star, how I wonder what you are. Up above the world so high, like a diamond in the sky. Twinkle, twinkle, little star, how I wonder what you are.\")\n",
    "#c_toks_NI = model.to_tokens(\"Our Father, who art in heaven, hallowed be thy name; thy kingdom come; thy will be done; on earth as it is in heaven. Give us this day our daily bread. And forgive us our trespasses, as we forgive those who trespass against us. And lead us not into temptation; but deliver us from evil. Amen.\")\n",
    "#change_BS = model.to_tokens(\"Jeffrey Adgate Jeff Dean (born July 23, 1968) is an American computer scientist and software engineer. Since 2018, he has been the lead of Google AI. He was appointed Alphabet's chief scientist in 2023 after a reorganization of Alphabet's AI focused groups.\")\n",
    "k_toks_NI = torch.tensor(seqs_NI[2:5,:]).to(model.cfg.device)\n",
    "\n",
    "##______________________\n",
    "model.to_string(c_toks_NI)\n",
    "#model.to_string(keep_BS)\n"
   ]
  },
  {
   "cell_type": "markdown",
   "metadata": {
    "id": "aJfI-3pdKOk3"
   },
   "source": [
    "## Metric"
   ]
  },
  {
   "cell_type": "code",
   "execution_count": 1,
   "metadata": {
    "executionInfo": {
     "elapsed": 9,
     "status": "ok",
     "timestamp": 1702663215110,
     "user": {
      "displayName": "Niklas Stoehr",
      "userId": "03296628557932703282"
     },
     "user_tz": 480
    },
    "id": "Y_He_0E-OuFC",
    "tags": []
   },
   "outputs": [
    {
     "ename": "NameError",
     "evalue": "name 'torch' is not defined",
     "output_type": "error",
     "traceback": [
      "\u001b[0;31m---------------------------------------------------------------------------\u001b[0m",
      "\u001b[0;31mNameError\u001b[0m                                 Traceback (most recent call last)",
      "Cell \u001b[0;32mIn[1], line 1\u001b[0m\n\u001b[0;32m----> 1\u001b[0m \u001b[38;5;28;01mdef\u001b[39;00m \u001b[38;5;21mNegLogLik\u001b[39m(logits_T:\u001b[43mtorch\u001b[49m\u001b[38;5;241m.\u001b[39mFloatTensor):\n\u001b[1;32m      2\u001b[0m \u001b[38;5;250m    \u001b[39m\u001b[38;5;124;03m\"\"\"\u001b[39;00m\n\u001b[1;32m      3\u001b[0m \u001b[38;5;124;03m    standard negative log likelihood loss for language modeling\u001b[39;00m\n\u001b[1;32m      4\u001b[0m \u001b[38;5;124;03m    \"\"\"\u001b[39;00m\n\u001b[1;32m      5\u001b[0m     log_probs_T \u001b[38;5;241m=\u001b[39m \u001b[38;5;241m-\u001b[39m(logits_T\u001b[38;5;241m.\u001b[39mlog_softmax(dim\u001b[38;5;241m=\u001b[39m\u001b[38;5;241m-\u001b[39m\u001b[38;5;241m1\u001b[39m)) \u001b[38;5;66;03m## negative log probs\u001b[39;00m\n",
      "\u001b[0;31mNameError\u001b[0m: name 'torch' is not defined"
     ]
    }
   ],
   "source": [
    "def NegLogLik(logits_T:torch.FloatTensor):\n",
    "    \"\"\"\n",
    "    standard negative log likelihood loss for language modeling\n",
    "    \"\"\"\n",
    "    log_probs_T = -(logits_T.log_softmax(dim=-1)) ## negative log probs\n",
    "    return log_probs_T\n",
    "\n",
    "\n",
    "def gather_token_scores(scores_NIT:torch.FloatTensor, labels_NI:torch.LongTensor=None, pool:list=[(0, \"mean\"), (-1, \"mean\")]):\n",
    "    \"\"\"\n",
    "    select scores corresponding to sequence of tokens (NIT)\n",
    "    \"\"\"\n",
    "    pool_fn = {\"mean\": lambda x, dim: torch.mean(x, dim=dim),\n",
    "              \"pass\": lambda x, dim: (x)}\n",
    "\n",
    "    if len(labels_NI.shape) == 2: ## single sequence of labels\n",
    "      scores_NI = scores_NIT.gather(dim=-1, index=labels_NI[:, 1:, None])[:, :, 0]\n",
    "    elif len(labels_NI.shape) == 3: ## mutiple sequences of labels\n",
    "      scores_NIT = scores_NIT.gather(dim=-1, index=labels_NI[:, 1:])\n",
    "      scores_NI = scores_NIT.mean(-1)\n",
    "    scores = scores_NI\n",
    "    for (pool_dim, pool_type) in pool: ## pool batch dimension and token positions along sequence\n",
    "      scores = pool_fn[pool_type](scores, dim=pool_dim)\n",
    "    return scores\n",
    "\n",
    "def contrast_metric(c_logs_NIT:torch.LongTensor, k_logs_NIT:torch.LongTensor):\n",
    "    \"\"\"\n",
    "    minimizing / preserve keep_score while maximizing change_score\n",
    "    \"\"\"\n",
    "    c_nnl_NIT = NegLogLik(c_logs_NIT)\n",
    "    c_nnl = gather_token_scores(c_nnl_NIT, c_toks_NI, [(0, \"mean\")])\n",
    "\n",
    "    k_nnl_NIT = NegLogLik(k_logs_NIT)\n",
    "    k_nnl = gather_token_scores(k_nnl_NIT, k_toks_NI, [(0, \"mean\")])\n",
    "\n",
    "    contrast_res = (c_nnl - k_nnl[:c_nnl.shape[0]])\n",
    "\n",
    "    ## normalizing\n",
    "    #contrast_norm = torch.cumsum(torch.abs(contrast_res).flip(dims=(0,)), dim=0).flip(dims=(0,))\n",
    "    #contrast_norm = (1 / contrast_norm)\n",
    "    #contrast_norm = (1 / torch.arange(1,contrast_res.shape[0]+1).flip(dims=(0,)))\n",
    "    #contrast_res = torch.einsum(\"I,I->I\", contrast_res, contrast_norm)\n",
    "\n",
    "    contrast_norm = torch.cat([contrast_res.detach(), torch.ones(1)])\n",
    "    contrast_norm = torch.cumsum(torch.abs(contrast_norm).flip(dims=(0,)), dim=0).flip(dims=(0,))\n",
    "    contrast_norm = (1 / contrast_norm)\n",
    "\n",
    "    contrast_res = contrast_res.mean(0)\n",
    "    print(f\"contrast_res: {contrast_res}, c_nnl: {c_nnl.mean(0)}, k_nnl: {k_nnl.mean(0)}\")\n",
    "    return contrast_res, contrast_norm\n",
    "\n",
    "contrast_res, contrast_norm = contrast_metric(model(c_toks_NI), model(k_toks_NI))\n",
    "contrast_res.backward(retain_graph = False)"
   ]
  },
  {
   "cell_type": "markdown",
   "metadata": {
    "id": "bpp4gs-7T7r_"
   },
   "source": [
    "## Gradient Attribution"
   ]
  },
  {
   "cell_type": "code",
   "execution_count": 5,
   "metadata": {
    "colab": {
     "base_uri": "https://localhost:8080/"
    },
    "executionInfo": {
     "elapsed": 6056,
     "status": "ok",
     "timestamp": 1702663221159,
     "user": {
      "displayName": "Niklas Stoehr",
      "userId": "03296628557932703282"
     },
     "user_tz": 480
    },
    "id": "5M5exW4_zma5",
    "outputId": "935477fe-2722-4e13-8910-b3c9bacaf3e9"
   },
   "outputs": [
    {
     "name": "stdout",
     "output_type": "stream",
     "text": [
      "contrast_res: -1.7887128591537476, c_nnl: 2.678375244140625, k_nnl: 4.0113606452941895\n"
     ]
    }
   ],
   "source": [
    "def fwd_bwd_caching(model, c_toks_NI, k_toks_NI, metric):\n",
    "\n",
    "    hook_filter = lambda name: \"_input\" not in name; #resid_pre\n",
    "    #hook_filter = lambda name: \"resid_pre\" in name or 'resid_post' in name\n",
    "\n",
    "    model.reset_hooks()\n",
    "    fwd_cache = {}\n",
    "\n",
    "    def forward_cache_hook(act, hook):\n",
    "        fwd_cache[hook.name] = act.detach()\n",
    "    model.add_hook(hook_filter, forward_cache_hook, \"fwd\")\n",
    "\n",
    "    bwd_cache = {}\n",
    "    def backward_cache_hook(act, hook):\n",
    "        bwd_cache[hook.name] = act.detach()\n",
    "    model.add_hook(hook_filter, backward_cache_hook, \"bwd\")\n",
    "\n",
    "    metric_res, metric_norm = metric(model(c_toks_NI), model(k_toks_NI))\n",
    "    metric_res.backward(retain_graph=False)\n",
    "    model.reset_hooks()\n",
    "\n",
    "    fwd_cache = transformer_lens.ActivationCache(fwd_cache, model)\n",
    "    bwd_cache = transformer_lens.ActivationCache(bwd_cache, model)\n",
    "    return metric_res.item(), metric_norm, fwd_cache, bwd_cache\n",
    "\n",
    "metric_score, metric_norm, fwd_cache, bwd_cache = fwd_bwd_caching(model, c_toks_NI, k_toks_NI, contrast_metric)"
   ]
  },
  {
   "cell_type": "code",
   "execution_count": 6,
   "metadata": {
    "colab": {
     "base_uri": "https://localhost:8080/"
    },
    "executionInfo": {
     "elapsed": 37,
     "status": "ok",
     "timestamp": 1702663221161,
     "user": {
      "displayName": "Niklas Stoehr",
      "userId": "03296628557932703282"
     },
     "user_tz": 480
    },
    "id": "SmoIAoVVPMu4",
    "outputId": "97498ec6-ddcb-4743-83f8-23e3fa281341"
   },
   "outputs": [
    {
     "name": "stdout",
     "output_type": "stream",
     "text": [
      "returning 75: [['embed', 'W_E'], ['pos_embed', 'W_pos'], ['blocks', '0', 'attn', 'W_Q'], ['blocks', '0', 'attn', 'W_K'], ['blocks', '0', 'attn', 'W_V']]...\n"
     ]
    }
   ],
   "source": [
    "def collect_all_grads(model=None, cache=None, pool:list=[(0, \"pass\"), (-1, \"pass\"), (-1, \"pass\")], keep:str=\".\", remove:str=\"-1\"):\n",
    "\n",
    "  ## prepping_______________________________________________\n",
    "  if model is not None:\n",
    "    name_vals = model.named_parameters()\n",
    "  elif cache is not None:\n",
    "    name_vals = cache\n",
    "  else:\n",
    "    raise  ValueError('pass either model or cache')\n",
    "\n",
    "  pool_fn = {\"l1\": lambda x, dim: torch.norm(x, p=1, dim=dim),\n",
    "             \"l2\": lambda x, dim: torch.norm(x, p=2, dim=dim),\n",
    "             \"mean_abs\": lambda x, dim: torch.mean(torch.abs(x), dim=dim),\n",
    "             \"mean\": lambda x, dim: torch.mean(x, dim=dim),\n",
    "             \"max_abs\": lambda x, dim: torch.max(torch.abs(x), dim=dim)[0],\n",
    "             \"max\": lambda x, dim: torch.max(x, dim=dim)[0],\n",
    "             \"pass\": lambda x, dim: (x)}\n",
    "\n",
    "  ## collect grads________________________________________\n",
    "  names, vals = [], []\n",
    "  for name, val_NID in name_vals:\n",
    "    if keep in name and remove not in name: ## filter by name\n",
    "      #print(f\"{name}: {val_NID.shape}\")\n",
    "\n",
    "      if val_NID.grad is not None:\n",
    "        val_NID = val_NID.grad.detach().cpu()\n",
    "      else:\n",
    "        val_NID = val_NID.detach().cpu()\n",
    "\n",
    "      for (pool_dim, pool_type) in pool:\n",
    "        val_NID = pool_fn[pool_type](val_NID, dim=pool_dim)\n",
    "      names.append(name.split(\".\")), vals.append(val_NID.item())\n",
    "\n",
    "  print(f\"returning {len(vals)}: {names[:5]}...\")\n",
    "  return names, vals\n",
    "\n",
    "\n",
    "def collect_c_type(model=None, cache=None, c_type:str=\"W_in\"):\n",
    "\n",
    "  if model is not None and cache is None: ## parameters\n",
    "    c_names = [name for name, param in model.named_parameters() if c_type in name.split(\".\")]\n",
    "    assert len(c_names) != 0, f\"check c_type: {c_type}, none found\"\n",
    "    vals = torch.stack([param.grad for name, param in model.named_parameters() if name in c_names])\n",
    "  elif model is not None and cache is not None: ## activations\n",
    "    c_names = [transformer_lens.utils.get_act_name(c_type, layer) for layer in range(model.cfg.n_layers)]\n",
    "    assert len(c_names) != 0, f\"check c_type: {c_type}, none found\"\n",
    "    vals = torch.stack([cache[c_name] for c_name in c_names]).squeeze()\n",
    "  else:\n",
    "    print(f\"pass either model {model} or cache {cache}\")\n",
    "  print(f\"returning {c_names[:2]}... of shape: {vals.shape}\")\n",
    "  return vals, c_names\n",
    "\n",
    "names, grads = collect_all_grads(model, pool=[(-1, \"l2\"), (-1, \"l2\"), (-1, \"l2\")], keep=\".\", remove=\"b_\")"
   ]
  },
  {
   "cell_type": "code",
   "execution_count": 7,
   "metadata": {
    "colab": {
     "base_uri": "https://localhost:8080/",
     "height": 527
    },
    "executionInfo": {
     "elapsed": 465,
     "status": "ok",
     "timestamp": 1702663221595,
     "user": {
      "displayName": "Niklas Stoehr",
      "userId": "03296628557932703282"
     },
     "user_tz": 480
    },
    "id": "E7A_L7raPRCP",
    "outputId": "6ff0497f-39c0-445d-b07a-0466090f8492"
   },
   "outputs": [
    {
     "name": "stderr",
     "output_type": "stream",
     "text": [
      "<ipython-input-7-043b70153f60>:12: FutureWarning: In a future version of pandas all arguments of DataFrame.pivot will be keyword-only.\n",
      "  lc_df = lc_df.pivot(\"l\", \"c\", \"vals\") ## layers to index and c_types to columns\n"
     ]
    },
    {
     "data": {
      "text/plain": [
       "Text(0, 0.5, 'all max, then mean')"
      ]
     },
     "execution_count": 7,
     "metadata": {},
     "output_type": "execute_result"
    },
    {
     "data": {
      "image/png": "[encoded data removed]",
      "text/plain": [
       "<Figure size 640x480 with 1 Axes>"
      ]
     },
     "metadata": {},
     "output_type": "display_data"
    }
   ],
   "source": [
    "df = pd.DataFrame(list(zip(names,grads)), columns=['names','vals'])\n",
    "df = pd.concat((df[\"names\"].apply(pd.Series), df[\"vals\"]), axis=1)\n",
    "\n",
    "## group by layer and module type________________________________\n",
    "df = df.drop(columns=[0,3], inplace=False)\n",
    "\n",
    "df = df.rename(columns = {1:\"l\", 2:\"c\"})\n",
    "lc_df = df.groupby([\"l\",\"c\"]).agg({'vals': \"mean\"}).reset_index()\n",
    "lc_df[\"l\"] = lc_df[\"l\"].astype(int)\n",
    "lc_df = lc_df.sort_values(by=[\"l\", \"c\"], ascending=True) ## sort by layers and c_types\n",
    "\n",
    "lc_df = lc_df.pivot(\"l\", \"c\", \"vals\") ## layers to index and c_types to columns\n",
    "\n",
    "ax = lc_df.plot(kind='bar')\n",
    "#ax.set_xlabel(\"layers\")\n",
    "ax.set_ylabel(\"all max, then mean\")"
   ]
  },
  {
   "cell_type": "markdown",
   "metadata": {
    "id": "YLStHqM4Iuer"
   },
   "source": [
    "## Analyse Activation Gradients"
   ]
  },
  {
   "cell_type": "code",
   "execution_count": 8,
   "metadata": {
    "colab": {
     "base_uri": "https://localhost:8080/"
    },
    "executionInfo": {
     "elapsed": 13,
     "status": "ok",
     "timestamp": 1702663221596,
     "user": {
      "displayName": "Niklas Stoehr",
      "userId": "03296628557932703282"
     },
     "user_tz": 480
    },
    "id": "SANfAJ_Tl4dy",
    "outputId": "9ada5ee1-d75d-45f7-f0f2-6d9332d5fcac"
   },
   "outputs": [
    {
     "name": "stdout",
     "output_type": "stream",
     "text": [
      "returning ['blocks.0.hook_mlp_out', 'blocks.1.hook_mlp_out']... of shape: torch.Size([12, 47, 768])\n",
      "torch.Size([12, 47, 768])\n",
      "torch.Size([12, 47])\n",
      "['blocks.0.hook_mlp_out', 'blocks.1.hook_mlp_out', 'blocks.2.hook_mlp_out', 'blocks.3.hook_mlp_out', 'blocks.4.hook_mlp_out', 'blocks.5.hook_mlp_out', 'blocks.6.hook_mlp_out', 'blocks.7.hook_mlp_out', 'blocks.8.hook_mlp_out', 'blocks.9.hook_mlp_out', 'blocks.10.hook_mlp_out', 'blocks.11.hook_mlp_out']\n",
      "torch.Size([12, 47])\n"
     ]
    }
   ],
   "source": [
    "#vals, c_names = collect_c_type(model=model, cache=None, c_type=\"W_in\")\n",
    "vals, c_names = collect_c_type(model=model, cache=bwd_cache, c_type=\"mlp_out\")\n",
    "print(vals.shape)\n",
    "\n",
    "vals = torch.max(vals,dim=-1)[0]\n",
    "#vals = torch.max(torch.max(vals,dim=-1)[0], dim=-1)[0]\n",
    "#vals =vals.mean(-1) ## \"mlp_out\"\n",
    "#vals = torch.abs(vals).mean(-1) ## \"mlp_out\"\n",
    "#vals = torch.abs(vals).mean(-1).mean(-1) ## \"k\", \"q\", \"v\"\n",
    "#vals, _ = torch.max(torch.abs(vals).mean(-1), dim=-1) ## \"k\", \"q\", \"v\"\n",
    "\n",
    "#vals = vals.mean(-1)[...,10] ## \"k\", \"q\", \"v\"\n",
    "print(vals.shape)\n",
    "\n",
    "## normalization\n",
    "vals = torch.einsum(\"LI,I->LI\", vals, metric_norm)\n",
    "print(f\"{c_names}\\n{vals.shape}\")"
   ]
  },
  {
   "cell_type": "code",
   "execution_count": 9,
   "metadata": {
    "colab": {
     "base_uri": "https://localhost:8080/",
     "height": 532
    },
    "executionInfo": {
     "elapsed": 1634,
     "status": "ok",
     "timestamp": 1702663223223,
     "user": {
      "displayName": "Niklas Stoehr",
      "userId": "03296628557932703282"
     },
     "user_tz": 480
    },
    "id": "ZhSRhiT9Xkxm",
    "outputId": "d2a81bf0-c291-4814-c576-b41aaa201e32"
   },
   "outputs": [
    {
     "data": {
      "image/png": "[encoded data removed]",
      "text/plain": [
       "<Figure size 1400x600 with 2 Axes>"
      ]
     },
     "metadata": {},
     "output_type": "display_data"
    }
   ],
   "source": [
    "import seaborn as sns\n",
    "import matplotlib as mpl\n",
    "import matplotlib.pyplot as plt\n",
    "\n",
    "mpl.rcParams['axes.spines.right'] = False\n",
    "mpl.rcParams['axes.spines.top'] = False\n",
    "\n",
    "def plot_heatmap(vals:list, x_labels:list=None, y_labels:list=None):\n",
    "  fig, ax = plt.subplots(1, 1, figsize=(14, 6), gridspec_kw={'hspace': 0.4})\n",
    "  ax = sns.heatmap(vals,\n",
    "                  cmap=mpl.colormaps[\"coolwarm\"], center=0,\n",
    "                  xticklabels=x_labels,\n",
    "                  yticklabels=y_labels, square=False)\n",
    "  ax.invert_yaxis()\n",
    "\n",
    "plot_heatmap(vals, x_labels=model.tokenizer.convert_ids_to_tokens(c_toks_NI.squeeze()),y_labels=c_names)"
   ]
  },
  {
   "cell_type": "code",
   "execution_count": null,
   "metadata": {
    "executionInfo": {
     "elapsed": 202,
     "status": "aborted",
     "timestamp": 1702663183128,
     "user": {
      "displayName": "Niklas Stoehr",
      "userId": "03296628557932703282"
     },
     "user_tz": 480
    },
    "id": "f-jEFmepgX8-"
   },
   "outputs": [],
   "source": [
    "\n"
   ]
  },
  {
   "cell_type": "code",
   "execution_count": null,
   "metadata": {
    "id": "w0hcLVRvn1TA"
   },
   "outputs": [],
   "source": []
  }
 ],
 "metadata": {
  "colab": {
   "authorship_tag": "ABX9TyOGB+zTCDBCeQ63kuW0ZbKy",
   "mount_file_id": "1gH7CY-pBqILLrkbypyW6G3qurtUUqqwl",
   "provenance": []
  },
  "environment": {
   "kernel": "venv",
   "name": ".m114",
   "type": "gcloud",
   "uri": "gcr.io/deeplearning-platform-release/:m114"
  },
  "kernelspec": {
   "display_name": "venv",
   "language": "python",
   "name": "venv"
  },
  "language_info": {
   "codemirror_mode": {
    "name": "ipython",
    "version": 3
   },
   "file_extension": ".py",
   "mimetype": "text/x-python",
   "name": "python",
   "nbconvert_exporter": "python",
   "pygments_lexer": "ipython3",
   "version": "3.9.2"
  }
 },
 "nbformat": 4,
 "nbformat_minor": 4
}
